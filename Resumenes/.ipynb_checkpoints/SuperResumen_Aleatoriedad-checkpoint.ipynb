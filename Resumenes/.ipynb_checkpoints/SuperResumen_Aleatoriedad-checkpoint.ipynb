{
 "cells": [
  {
   "cell_type": "markdown",
   "metadata": {},
   "source": [
    "# *Aleatoreidad y probabilidad*"
   ]
  },
  {
   "cell_type": "code",
   "execution_count": 1,
   "metadata": {},
   "outputs": [],
   "source": [
    "# Preparamos todo para correr\n",
    "import numpy as np\n",
    "from math import sqrt\n",
    "from matplotlib import pylab as plt"
   ]
  },
  {
   "cell_type": "markdown",
   "metadata": {},
   "source": [
    "Definiciones generales:"
   ]
  },
  {
   "cell_type": "markdown",
   "metadata": {},
   "source": [
    "La aleatoredidad es un concepto central de la teoría de probabilidad. En general, la aleatoredidad viene asociada con la incetidumbre, que puede surgir por los errores de los datos o por los tamaños finitos de las muestras."
   ]
  },
  {
   "cell_type": "markdown",
   "metadata": {},
   "source": [
    "En la computadora, la aleatoreidad se simula usando como base un generador de números pseudo aleatorios (GNPA). Un GNPA genera una serie de números cuyas propiedades son similares a las de una serie de números aleatorios."
   ]
  },
  {
   "cell_type": "code",
   "execution_count": 3,
   "metadata": {},
   "outputs": [],
   "source": [
    "#En python las funciones de GNPA estan implementadas en el modulo random de numpy:\n",
    "from numpy import random"
   ]
  },
  {
   "cell_type": "markdown",
   "metadata": {},
   "source": [
    "los GNPA utilizan algoritmos, cuyas propiedades estás perfectamente definidas por el valor inicial (la semilla, o seed). Por lo tanto, no son realmente aleatorios.\n",
    "\n",
    "Lo que hacen es agarrar como SEMILLA que es la conbinacion de varias cosas medios desconocidas para el ususario y mezclarlas de alguna forma para llegar a un numero, por ejemplo: (inventado)\n",
    "\n",
    "la semilla es una convinacion del ultimo digito de la temperatura del CPU + el producto de el porcentaje de la ram utilizada y un digito intermedio del clock - la velocidad del internet por el flujo de datos"
   ]
  },
  {
   "cell_type": "markdown",
   "metadata": {},
   "source": [
    "La funcion Rand: genera un número al azar en el intervalo [0.0, 1.0)"
   ]
  },
  {
   "cell_type": "code",
   "execution_count": 6,
   "metadata": {},
   "outputs": [
    {
     "name": "stdout",
     "output_type": "stream",
     "text": [
      "0.058278092874325726\n"
     ]
    }
   ],
   "source": [
    "x = random.rand()\n",
    "print(x)"
   ]
  },
  {
   "cell_type": "markdown",
   "metadata": {},
   "source": [
    "Pero si nosotros le damos una semilla, se puede ver que el resultado de rand es siempre el mismo:"
   ]
  },
  {
   "cell_type": "code",
   "execution_count": 7,
   "metadata": {},
   "outputs": [
    {
     "name": "stdout",
     "output_type": "stream",
     "text": [
      "0.1915194503788923\n",
      "0.1915194503788923\n"
     ]
    }
   ],
   "source": [
    "random.seed(1234)\n",
    "print(random.rand())\n",
    "random.seed(1234)\n",
    "print(random.rand())"
   ]
  },
  {
   "cell_type": "markdown",
   "metadata": {},
   "source": [
    "Con la funcion rand tambien se pueden pedir arreglos de numeros (siempre entre 0 y 1)"
   ]
  },
  {
   "cell_type": "code",
   "execution_count": 8,
   "metadata": {},
   "outputs": [
    {
     "name": "stdout",
     "output_type": "stream",
     "text": [
      "Un array de 3x2\n",
      "[[0.62210877 0.43772774]\n",
      " [0.78535858 0.77997581]\n",
      " [0.27259261 0.27646426]]\n"
     ]
    }
   ],
   "source": [
    "print('Un array de 3x2')\n",
    "print(random.rand(3,2))"
   ]
  },
  {
   "cell_type": "code",
   "execution_count": null,
   "metadata": {},
   "outputs": [],
   "source": [
    "Una buena practica para fijar la semilla:"
   ]
  },
  {
   "cell_type": "code",
   "execution_count": 24,
   "metadata": {},
   "outputs": [],
   "source": [
    "#np.random.SeedSequence()\n",
    "#from numpy.random import RandomState, SeedSequence\n",
    "#rs = RandomState(random.MT19937(SeedSequence(1234)))\n",
    "#print(rs.rand(5,))"
   ]
  },
  {
   "cell_type": "markdown",
   "metadata": {},
   "source": [
    "Ejemplo: \n",
    "    \n",
    "Muestra de distribución uniforme. \n",
    "\n",
    "Generamos una muestra de 100 elementos de vectores en dos dimenciones, en la región -1 < x < 1; -1 < y < 1"
   ]
  },
  {
   "cell_type": "code",
   "execution_count": 18,
   "metadata": {},
   "outputs": [
    {
     "data": {
      "image/png": "[encoded data removed]",
      "text/plain": [
       "<Figure size 432x288 with 1 Axes>"
      ]
     },
     "metadata": {},
     "output_type": "display_data"
    }
   ],
   "source": [
    "# Genaramos la muestra\n",
    "sample = random.rand(100, 2)\n",
    "\n",
    "# Como queremos que la muestra esté entre -1 y 1 en ambas dimensiones, tenemos que multiplicar por 2 y restar 1.\n",
    "sample = sample * 2 - 1\n",
    "\n",
    "# Imprimimos la forma de la muestra y la representamos en un plano.\n",
    "l0, = plt.plot(sample[:, 0], sample[:, 1], '.')"
   ]
  },
  {
   "cell_type": "markdown",
   "metadata": {},
   "source": [
    "## Incertezas"
   ]
  },
  {
   "cell_type": "markdown",
   "metadata": {},
   "source": [
    "Concepto de incerteza de f_ur:\n",
    "la variable f_ur sigue una distribución Poissoneana, \n",
    "\n",
    "cuya desviación estándar (ya lo definiremos bien, pero podemos pensarlo como un error) es:\n",
    "\n",
    "$\\sqrt{n_{UR}}/N$ donde $N$ es el tamaño de la muestra"
   ]
  },
  {
   "cell_type": "code",
   "execution_count": null,
   "metadata": {},
   "outputs": [],
   "source": [
    "Ejemlo:"
   ]
  },
  {
   "cell_type": "code",
   "execution_count": 29,
   "metadata": {},
   "outputs": [
    {
     "name": "stdout",
     "output_type": "stream",
     "text": [
      "El error de f_ur es 0.0565685424949238\n",
      "La fracción es entonces 0.320 \\pm 0.057\n"
     ]
    }
   ],
   "source": [
    "# Escribimos la condición de pertenencia al cuadrante de interés del sample ya creado\n",
    "cond = (sample[:, 0] > 0) * (sample[:, 1] > 0)\n",
    "\n",
    "# Sumar los elementos de cond nos dice en cuantos casos la condición se satisface\n",
    "n_ad = np.sum(cond)\n",
    "\n",
    "# Calculo la fracción a la que correponde\n",
    "f_ad = n_ad / len(sample)\n",
    "\n",
    "#incerteza\n",
    "sd_f = sqrt(n_ad)/len(sample)\n",
    "\n",
    "print('El error de f_ur es {}'.format(sd_f))\n",
    "print('La fracción es entonces {:.3f} \\pm {:.3f}'.format(f_ad, sd_f))"
   ]
  }
 ],
 "metadata": {
  "kernelspec": {
   "display_name": "Python 3",
   "language": "python",
   "name": "python3"
  },
  "language_info": {
   "codemirror_mode": {
    "name": "ipython",
    "version": 3
   },
   "file_extension": ".py",
   "mimetype": "text/x-python",
   "name": "python",
   "nbconvert_exporter": "python",
   "pygments_lexer": "ipython3",
   "version": "3.6.6"
  }
 },
 "nbformat": 4,
 "nbformat_minor": 2
}
