{
 "cells": [
  {
   "cell_type": "markdown",
   "metadata": {},
   "source": [
    "# *Probabilidades condicionales y el teorema de Bayes*"
   ]
  },
  {
   "cell_type": "markdown",
   "metadata": {},
   "source": [
    "Teorema de Bayes:\n",
    "\n",
    "$$\n",
    "P(E | D) = \\frac{P(D | E)\\,P(E)}{P(D)}\n",
    "$$\n",
    "\n",
    "Muy bien, pero nos falta conocer $P(D)$; para eso, usamos la regla de la suma:\n",
    "\n",
    "$$\n",
    "P(D) = P(D | E)\\,P(E) + P(D | \\bar{E}) P(\\bar{E})\n",
    "$$\n",
    "\n",
    "Poniendo todo junto:\n",
    "\n",
    "$$\n",
    "P(E | D) = \\frac{P(D | E)\\,P(E)}{P(D | E)\\,P(E) + P(D | \\bar{E}) P(\\bar{E})}\n",
    "$$"
   ]
  },
  {
   "cell_type": "markdown",
   "metadata": {},
   "source": [
    "Siendo E la hipotesis y D un evento"
   ]
  }
 ],
 "metadata": {
  "kernelspec": {
   "display_name": "Python 3",
   "language": "python",
   "name": "python3"
  },
  "language_info": {
   "codemirror_mode": {
    "name": "ipython",
    "version": 3
   },
   "file_extension": ".py",
   "mimetype": "text/x-python",
   "name": "python",
   "nbconvert_exporter": "python",
   "pygments_lexer": "ipython3",
   "version": "3.7.6"
  }
 },
 "nbformat": 4,
 "nbformat_minor": 4
}
