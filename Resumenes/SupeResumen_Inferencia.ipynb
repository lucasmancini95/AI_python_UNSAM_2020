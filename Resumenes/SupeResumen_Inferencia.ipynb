{
 "cells": [
  {
   "cell_type": "markdown",
   "metadata": {},
   "source": [
    "##### Inferencia Bayesiana"
   ]
  },
  {
   "cell_type": "markdown",
   "metadata": {},
   "source": [
    "El teorema de Bayes funciona como un modelo del proceso de aprendizaje:\n",
    "\n",
    "\n",
    "El conocimiento inicial sobre un proposición lógica (de un parámetro, $\\theta$) se codifica en el prior: \n",
    "\n",
    "$P(\\theta)$ --> PRIOR --> conocimiento inicial\n",
    "\n",
    "Con la obtención de una serie de datos, $D$, el prior se convierte en la distribución posterior, que contiene toda la información que los datos proveen sobre este parámetro:\n",
    "\n",
    "$P(\\theta | D)$ --> POSTERIOR --> informacion de los datos obtenidos\n",
    "\n",
    "La transformación la provoca la distribución verosimilitud que es función de $\\theta$ y de los datos $D$.\n",
    "\n",
    "$P(D | \\theta)$ --> VEROSIMILITUD --> actualizacion del conocimiento inicial teniendo en cuenta los datos\n",
    "\n"
   ]
  },
  {
   "cell_type": "code",
   "execution_count": null,
   "metadata": {},
   "outputs": [],
   "source": []
  },
  {
   "cell_type": "markdown",
   "metadata": {},
   "source": [
    "Una manera elegante de obtener distribuciones normalizadas, es la de utilizar un prior conjugado a nuestra verosimilitud. \n",
    "\n",
    "Si buscamos, para la Distribucion Binomial, el Prior Conjugado es la distribucion Beta. Esta es una familia de distribuciones, que parametrizamos con dos valores $\\alpha$ y $\\beta$. \n",
    "\n",
    "Lo que tiene es que si $$Prior \\sim Beta(\\alpha, \\beta)$$ y la $$Verosimilitud \\sim  Binomial (N, X)$$ entonces el posterior pertenecerá a la misma familia de distribuciones Beta, sera $$Posterior \\sim Beta (\\alpha', \\beta')$$ con $$\\alpha' = \\alpha + X$$ y $$\\beta' = \\beta + (N-X)$$"
   ]
  }
 ],
 "metadata": {
  "kernelspec": {
   "display_name": "Python 3",
   "language": "python",
   "name": "python3"
  },
  "language_info": {
   "codemirror_mode": {
    "name": "ipython",
    "version": 3
   },
   "file_extension": ".py",
   "mimetype": "text/x-python",
   "name": "python",
   "nbconvert_exporter": "python",
   "pygments_lexer": "ipython3",
   "version": "3.7.6"
  }
 },
 "nbformat": 4,
 "nbformat_minor": 4
}
