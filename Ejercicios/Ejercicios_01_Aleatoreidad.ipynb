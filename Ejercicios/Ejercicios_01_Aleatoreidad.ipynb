{
 "cells": [
  {
   "cell_type": "markdown",
   "metadata": {},
   "source": [
    "# Ejercicios 1\n",
    "\n",
    "Ejercicios relacionados con el [Notebook de Aleatoreidad](01_Aleatoreidad.ipynb)."
   ]
  },
  {
   "cell_type": "code",
   "execution_count": 1,
   "metadata": {},
   "outputs": [],
   "source": [
    "# Por si alguien corre en python2\n",
    "from __future__ import division\n",
    "\n",
    "# Preparamos todo para correr\n",
    "import numpy as np\n",
    "from math import *\n",
    "from matplotlib import pylab as plt\n",
    "from numpy import random as random"
   ]
  },
  {
   "cell_type": "markdown",
   "metadata": {},
   "source": [
    "### Ejercicio 1\n",
    "\n",
    "a. Hacer un plot similar al que muestra la evolución de la fracción de elementos de la muestra que caen en el cuadrante superior derecho. Usar un método que resulte en una mejora significativa de la eficiencia.\n",
    "\n",
    "<b>Tip</b>: en lugar de generar una muestra nueva para cada tamaño, usar sub-conjuntos de una sola muestra.\n",
    "\n",
    "b. Verificar que la nueva implementación es más eficiente que la del [notebook](01_Aleatoreidad.ipynb).\n",
    "\n",
    "<b>Tip</b>: medir el tiempo de corrida con <tt>timeit</tt> o <tt>time.process_time</tt>."
   ]
  },
  {
   "cell_type": "markdown",
   "metadata": {},
   "source": [
    "RESPUESTA:"
   ]
  },
  {
   "cell_type": "markdown",
   "metadata": {},
   "source": [
    "Metodo Anterior:"
   ]
  },
  {
   "cell_type": "markdown",
   "metadata": {},
   "source": [
    "Primero defino una funcion que lo que hace es generar una muestra, y que calcula la fracción de elementos que caen en el cuadrante superior derecho y su incerteza"
   ]
  },
  {
   "cell_type": "code",
   "execution_count": 2,
   "metadata": {},
   "outputs": [],
   "source": [
    "\n",
    "import numpy as np\n",
    "\n",
    "def fraccion_ad(n, seed=None):\n",
    "\n",
    "    # Fijar la semilla\n",
    "    if seed is not None:\n",
    "        np.random.seed(seed)\n",
    "\n",
    "    # a partir de aca lo hago yo \n",
    "    # Crear la muestra.    \n",
    "\n",
    "    sample = random.rand(n, 2) #creo la muestra entre 0 y 1\n",
    "    sample = sample *2 -1 # la hago entre -1 y 1\n",
    "    \n",
    "    cond = (sample[:, 0] > 0) * (sample[:, 1] > 0)  #agarro el primer cuadrante\n",
    "    n_ad = np.sum(cond) #sumo la cantidad de muestras en el primer cuadrante\n",
    "    \n",
    "    f_ad = n_ad / len(sample) #\n",
    "    sd_f = sqrt(n_ad)/len(sample)\n",
    "    \n",
    "    return f_ad , sd_f\n",
    "\n"
   ]
  },
  {
   "cell_type": "code",
   "execution_count": 3,
   "metadata": {},
   "outputs": [
    {
     "name": "stdout",
     "output_type": "stream",
     "text": [
      "0.375, 0.15309310892394862\n",
      "0.1875, 0.07654655446197431\n",
      "0.296875, 0.06810779599282303\n",
      "0.203125, 0.03983608994994363\n",
      "0.26171875, 0.03197403426512676\n",
      "0.248046875, 0.022010600917157508\n",
      "0.2509765625, 0.015655487833868553\n",
      "0.25830078125, 0.01123046875\n",
      "0.241943359375, 0.007685584100926364\n",
      "0.2515869140625, 0.0055417770814532065\n"
     ]
    }
   ],
   "source": [
    "# Crea dos listas vacías\n",
    "f = [] #para el valor de fraccion\n",
    "sd = [] #y de incerteza\n",
    "\n",
    "# Crea un arreglo con los tamaños de las muestras que vamos a usar. Generamos valores desde 2^4 hasta 2^13.\n",
    "# Vamos a espacirlo en log, para tener más resolución en los tamaños pequeños.\n",
    "sizes = 2**np.arange(4, 14) #2^{todos los numeros entre 4 y 14}\n",
    "\n",
    "# Iteramos en los tamaños (usamos siempre el mismo seed?)\n",
    "for size in sizes:  #recorro todos los valores de sizes\n",
    "    output = fraccion_ad(size) #meto los distintos valores de tamaños creados en la funcion que hice antes\n",
    "    f.append(output[0]) # aca meto las fracciones\n",
    "    sd.append(output[1]) #aca meto la incertezas\n",
    "    \n",
    "# Veamos que obtuvimos\n",
    "for i in range(len(f)): #para cada valor de f\n",
    "    print('{}, {}'.format(f[i], sd[i])) #imprimo su f y su sd"
   ]
  },
  {
   "cell_type": "code",
   "execution_count": 4,
   "metadata": {},
   "outputs": [
    {
     "data": {
      "image/png": "[encoded data removed]",
      "text/plain": [
       "<Figure size 432x288 with 1 Axes>"
      ]
     },
     "metadata": {},
     "output_type": "display_data"
    }
   ],
   "source": [
    "plt.errorbar(sizes, f, sd, fmt='.') #ploteo con barras de error\n",
    "\n",
    "# Para que sea más legible, hacemos el eje x logarítmico\n",
    "ax = plt.gca()\n",
    "ax.set_xscale('log')\n",
    "ax.axhline(0.25, color='0.5', zorder=-1)\n",
    "\n",
    "ax.set_xlabel('Tamaño de la muestra', fontsize=16)\n",
    "ax.set_ylabel('Fracción en AD', fontsize=16)\n",
    "ax.tick_params(axis='both', which='major', labelsize=12)"
   ]
  },
  {
   "cell_type": "markdown",
   "metadata": {},
   "source": [
    "Nueva forma, mas eficiente:\n",
    "    \n",
    "    Lo que se hace es ir estirando la muestra para que cada vez sea mas grande, en vez de ir armando una muestra desde 0 cada vez."
   ]
  },
  {
   "cell_type": "markdown",
   "metadata": {},
   "source": [
    "Primero defino una funcion que unicamente crea el sample aleatorio segun el tamaño indicado"
   ]
  },
  {
   "cell_type": "code",
   "execution_count": 5,
   "metadata": {},
   "outputs": [],
   "source": [
    "def create_n_sample_rand(n, seed=None):\n",
    "\n",
    "    # Fijar la semilla\n",
    "    if seed is not None:\n",
    "        np.random.seed(seed)\n",
    "\n",
    "    sample = random.rand(n, 2) #creo la muestra entre 0 y 1\n",
    "    sample = sample *2 -1 # la hago entre -1 y 1\n",
    "    \n",
    "    return sample"
   ]
  },
  {
   "cell_type": "markdown",
   "metadata": {},
   "source": [
    "Segundo defino def forma independiente las funciones que calculan:\n",
    "\n",
    "fraccion de elementos en el cuadrante superior derecho\n",
    "\n",
    "la incerteza en el cuadrante superior derecho \n",
    "\n",
    "Y ademas hago que la entrada a las funciones sean simplemente el sample generado\n",
    "\n",
    "\n"
   ]
  },
  {
   "cell_type": "code",
   "execution_count": 6,
   "metadata": {},
   "outputs": [],
   "source": [
    "import numpy as np\n",
    "\n",
    "def incerteza_cuadrante_sup_der(sample):\n",
    "    \n",
    "    cond = (sample[:, 0] > 0) * (sample[:, 1] > 0)  #agarro el primer cuadrante\n",
    "    n_ad = np.sum(cond) #sumo la cantidad de muestras en el primer cuadrante\n",
    "    \n",
    "    sd_f = sqrt(n_ad)/len(sample)\n",
    "    \n",
    "    return sd_f\n",
    "\n",
    "def fraccion_cuadrante_sup_der(sample):\n",
    "    \n",
    "    cond = (sample[:, 0] > 0) * (sample[:, 1] > 0)  #agarro el primer cuadrante\n",
    "    n_ad = np.sum(cond) #sumo la cantidad de muestras en el primer cuadrante\n",
    "    \n",
    "    f_ad = n_ad / len(sample) #\n",
    "    \n",
    "    return f_ad\n",
    "\n",
    "def fraccion_e_incerteza_cuadrante_sup_der(sample):\n",
    "    \n",
    "    cond = (sample[:, 0] > 0) * (sample[:, 1] > 0)  #agarro el primer cuadrante\n",
    "    n_ad = np.sum(cond) #sumo la cantidad de muestras en el primer cuadrante\n",
    "    \n",
    "    f_ad = n_ad / len(sample)\n",
    "    sd_f = sqrt(n_ad)/len(sample)\n",
    "    \n",
    "    return f_ad, sd_f\n",
    "\n"
   ]
  },
  {
   "cell_type": "code",
   "execution_count": 7,
   "metadata": {},
   "outputs": [
    {
     "name": "stdout",
     "output_type": "stream",
     "text": [
      "(10,)\n"
     ]
    },
    {
     "data": {
      "text/plain": [
       "array([  16,   32,   64,  128,  256,  512, 1024, 2048, 4096, 8192],\n",
       "      dtype=int32)"
      ]
     },
     "execution_count": 7,
     "metadata": {},
     "output_type": "execute_result"
    }
   ],
   "source": [
    "# Crea dos listas vacías\n",
    "f = [] #para el valor de fraccion\n",
    "sd = [] #y de incerteza\n",
    "\n",
    "# Crea un arreglo con los tamaños de las muestras que vamos a usar. Generamos valores desde 2^4 hasta 2^13.\n",
    "# Vamos a espacirlo en log, para tener más resolución en los tamaños pequeños.\n",
    "tamaños_a_examinar = 2**np.arange(4, 14) #2^{todos los numeros entre 4 y 14}\n",
    "print(tamaños_a_examinar.shape)\n",
    "sizes"
   ]
  },
  {
   "cell_type": "code",
   "execution_count": 8,
   "metadata": {},
   "outputs": [
    {
     "name": "stdout",
     "output_type": "stream",
     "text": [
      "x: \n",
      " [[0.57617019 0.84111232]\n",
      " [0.50899292 0.72706283]\n",
      " [0.25004417 0.24043137]]\n",
      "\n",
      "\n",
      "y: \n",
      " [[0.69706229 0.19013458]\n",
      " [0.53941478 0.03198693]\n",
      " [0.5104707  0.18163344]\n",
      " [0.57240824 0.43664882]\n",
      " [0.83992671 0.33429666]\n",
      " [0.40027079 0.44805151]]\n",
      "\n",
      "\n",
      "(9, 2)\n"
     ]
    }
   ],
   "source": [
    "#voy a usar la funcion append de numpy para ir estirando el arreglo\n",
    "x=random.rand(3,2)\n",
    "y=random.rand(6,2)\n",
    "print(\"x: \\n\",x)\n",
    "print(\"\\n\")\n",
    "print(\"y: \\n\", y)\n",
    "print(\"\\n\")\n",
    "\n",
    "x=np.append(x,y, axis=0)\n",
    "print(x.shape)"
   ]
  },
  {
   "cell_type": "code",
   "execution_count": 9,
   "metadata": {},
   "outputs": [
    {
     "name": "stdout",
     "output_type": "stream",
     "text": [
      "16\n",
      "(16, 2)\n",
      "32\n",
      "(32, 2)\n",
      "64\n",
      "(64, 2)\n",
      "128\n",
      "(128, 2)\n",
      "256\n",
      "(256, 2)\n",
      "512\n",
      "(512, 2)\n",
      "1024\n",
      "(1024, 2)\n",
      "2048\n",
      "(2048, 2)\n",
      "4096\n",
      "(4096, 2)\n",
      "8192\n",
      "(8192, 2)\n"
     ]
    }
   ],
   "source": [
    "tamaños_a_examinar = 2**np.arange(4, 14)\n",
    "sample=create_n_sample_rand(16) #16=2**4 --> tengo un sample de 16 muestras\n",
    "f=[]\n",
    "sd=[]\n",
    "for size in tamaños_a_examinar:  #recorro todos los valores de sizes     \n",
    "    print(size)\n",
    "    f.append(fraccion_cuadrante_sup_der(sample)) # aca meto las fracciones\n",
    "    sd.append(incerteza_cuadrante_sup_der(sample)) #aca meto la incertezas\n",
    "    print(sample.shape)\n",
    "    sample=np.vstack((sample,create_n_sample_rand(size)))\n",
    "    \n",
    "    "
   ]
  },
  {
   "cell_type": "code",
   "execution_count": 10,
   "metadata": {},
   "outputs": [
    {
     "name": "stdout",
     "output_type": "stream",
     "text": [
      "10 10\n",
      "0.1875, 0.10825317547305482\n",
      "0.1875, 0.07654655446197431\n",
      "0.1875, 0.05412658773652741\n",
      "0.21875, 0.04133986423538423\n",
      "0.20703125, 0.028437929255002024\n",
      "0.21875, 0.020669932117692115\n",
      "0.25, 0.015625\n",
      "0.24267578125, 0.010885496489066384\n",
      "0.2509765625, 0.007827743916934277\n",
      "0.2476806640625, 0.005498586733181254\n"
     ]
    }
   ],
   "source": [
    "# Veamos que obtuvimos\n",
    "print(len(f),len(sd))\n",
    "# Veamos que obtuvimos\n",
    "for i in range(len(f)): #para cada valor de f\n",
    "    print('{}, {}'.format(f[i], sd[i])) #imprimo su f y su sd"
   ]
  },
  {
   "cell_type": "code",
   "execution_count": 11,
   "metadata": {},
   "outputs": [
    {
     "data": {
      "image/png": "[encoded data removed]",
      "text/plain": [
       "<Figure size 432x288 with 1 Axes>"
      ]
     },
     "metadata": {},
     "output_type": "display_data"
    }
   ],
   "source": [
    "plt.errorbar(sizes, f, sd, fmt='.') #ploteo con barras de error\n",
    "\n",
    "# Para que sea más legible, hacemos el eje x logarítmico\n",
    "ax = plt.gca()\n",
    "ax.set_xscale('log')\n",
    "ax.axhline(0.25, color='0.5', zorder=-1)\n",
    "\n",
    "ax.set_xlabel('Tamaño de la muestra', fontsize=16)\n",
    "ax.set_ylabel('Fracción en AD', fontsize=16)\n",
    "ax.tick_params(axis='both', which='major', labelsize=12)"
   ]
  },
  {
   "cell_type": "markdown",
   "metadata": {},
   "source": [
    "Comparacion de tiempos:"
   ]
  },
  {
   "cell_type": "code",
   "execution_count": 12,
   "metadata": {},
   "outputs": [],
   "source": [
    "# Python program to show time by process_time()  \n",
    "from time import process_time "
   ]
  },
  {
   "cell_type": "code",
   "execution_count": 13,
   "metadata": {},
   "outputs": [
    {
     "name": "stdout",
     "output_type": "stream",
     "text": [
      "101 102 103 104 105 106 107 108 109 110 111 112 113 114 115 116 117 118 119 120 121 122 123 124 125 126 127 128 129 130 131 132 133 134 135 136 137 138 139 140 141 142 143 144 145 146 147 148 149 150 151 152 153 154 155 156 157 158 159 160 161 162 163 164 165 166 167 168 169 170 171 172 173 174 175 176 177 178 179 180 181 182 183 184 185 186 187 188 189 190 191 192 193 194 195 196 197 198 199 200 201 202 203 204 205 206 207 208 209 210 211 212 213 214 215 216 217 218 219 220 221 222 223 224 225 226 227 228 229 230 231 232 233 234 235 236 237 238 239 240 241 242 243 244 245 246 247 248 249 250 251 252 253 254 255 256 257 258 259 260 261 262 263 264 265 266 267 268 269 270 271 272 273 274 275 276 277 278 279 280 281 282 283 284 285 286 287 288 289 290 291 292 293 294 295 296 297 298 299 300 301 302 303 304 305 306 307 308 309 310 311 312 313 314 315 316 317 318 319 320 321 322 323 324 325 326 327 328 329 330 331 332 333 334 335 336 337 338 339 340 341 342 343 344 345 346 347 348 349 350 351 352 353 354 355 356 357 358 359 360 361 362 363 364 365 366 367 368 369 370 371 372 373 374 375 376 377 378 379 380 381 382 383 384 385 386 387 388 389 390 391 392 393 394 395 396 397 398 399 400 401 402 403 404 405 406 407 408 409 410 411 412 413 414 415 416 417 418 419 420 421 422 423 424 425 426 427 428 429 430 431 432 433 434 435 436 437 438 439 440 441 442 443 444 445 446 447 448 449 450 451 452 453 454 455 456 457 458 459 460 461 462 463 464 465 466 467 468 469 470 471 472 473 474 475 476 477 478 479 480 481 482 483 484 485 486 487 488 489 490 491 492 493 494 495 496 497 498 499 "
     ]
    }
   ],
   "source": [
    "#Ejemplo de uso de time:\n",
    "\n",
    "# Start the stopwatch / counter  \n",
    "t1_start = process_time()  \n",
    "\n",
    "for i in range(800): \n",
    "    if i>100 and i<500:\n",
    "        print(i, end =' ') \n",
    "   \n",
    "  \n",
    "# Stop the stopwatch / counter \n",
    "t1_stop = process_time() "
   ]
  },
  {
   "cell_type": "code",
   "execution_count": 14,
   "metadata": {},
   "outputs": [
    {
     "name": "stdout",
     "output_type": "stream",
     "text": [
      "t1_stop-t\n",
      "Elapsed time: 2.203125 2.1875\n",
      "Elapsed time during the whole program in seconds: 0.015625\n"
     ]
    }
   ],
   "source": [
    "print(\"t1_stop-t\")\n",
    "print(\"Elapsed time:\", t1_stop, t1_start)  \n",
    "   \n",
    "print(\"Elapsed time during the whole program in seconds:\", \n",
    "                                         t1_stop-t1_start) "
   ]
  },
  {
   "cell_type": "markdown",
   "metadata": {},
   "source": [
    "Entonces uso process time para el ejercicio:"
   ]
  },
  {
   "cell_type": "code",
   "execution_count": 50,
   "metadata": {},
   "outputs": [
    {
     "name": "stdout",
     "output_type": "stream",
     "text": [
      "Tiempo de la primera forma: 1.5\n"
     ]
    }
   ],
   "source": [
    "t1_start = process_time()  \n",
    "# Crea dos listas vacías\n",
    "f = [] #para el valor de fraccion\n",
    "sd = [] #y de incerteza\n",
    "\n",
    "# Crea un arreglo con los tamaños de las muestras que vamos a usar. Generamos valores desde 2^4 hasta 2^13.\n",
    "# Vamos a espacirlo en log, para tener más resolución en los tamaños pequeños.\n",
    "sizes = 2**np.arange(4, 24) #2^{todos los numeros entre 4 y 14}\n",
    "\n",
    "# Iteramos en los tamaños (usamos siempre el mismo seed?)\n",
    "for size in sizes:  #recorro todos los valores de sizes\n",
    "    output = fraccion_ad(size) #meto los distintos valores de tamaños creados en la funcion que hice antes\n",
    "    f.append(output[0]) # aca meto las fracciones\n",
    "    sd.append(output[1]) #aca meto la incertezas\n",
    "t1_stop = process_time() \n",
    "\n",
    "print(\"Tiempo de la primera forma:\",t1_stop-t1_start) "
   ]
  },
  {
   "cell_type": "code",
   "execution_count": 52,
   "metadata": {},
   "outputs": [
    {
     "name": "stdout",
     "output_type": "stream",
     "text": [
      "Tiempo de la segunda forma: 0.03125\n"
     ]
    }
   ],
   "source": [
    "\n",
    "t2_start = process_time()  \n",
    "f = [] #para el valor de fraccion\n",
    "sd = [] #y de incerteza\n",
    "\n",
    "tamaños_a_examinar = 2**np.arange(4, 24)\n",
    "sample=create_n_sample_rand(16) #16=2**4 --> tengo un sample de 16 muestras\n",
    "\n",
    "for size in tamaños_a_examinar:  #recorro todos los valores de sizes     \n",
    "    aux=fraccion_e_incerteza_cuadrante_sup_der(sample)\n",
    "    f.append(aux[0]) # aca meto las fracciones\n",
    "    sd.append(aux[1]) #aca meto la incertezas\n",
    "    #sample=np.vstack((sample,create_n_sample_rand(size)))\n",
    "t2_stop = process_time() \n",
    "print(\"Tiempo de la segunda forma:\",t2_stop-t2_start)"
   ]
  },
  {
   "cell_type": "markdown",
   "metadata": {},
   "source": [
    "### Ejercicio 2\n",
    "\n",
    "a. Usando las muestras que pueden obtenerse del repositorio, realizar un análisis de fracción de muestras en el cuadrante superior derecho para cada una de ellas. Presentar plots similares, en una misma figura.\n",
    "\n",
    "b. ¿Qué conjunto de datos muestra indicios de tener una distribución diferente a la uniforme?\n",
    "\n",
    "c. ¿A partir de qué tamaño de muestra puede identificarse la muestra no uniforme?"
   ]
  },
  {
   "cell_type": "code",
   "execution_count": null,
   "metadata": {},
   "outputs": [],
   "source": []
  }
 ],
 "metadata": {
  "kernelspec": {
   "display_name": "Python 3",
   "language": "python",
   "name": "python3"
  },
  "language_info": {
   "codemirror_mode": {
    "name": "ipython",
    "version": 3
   },
   "file_extension": ".py",
   "mimetype": "text/x-python",
   "name": "python",
   "nbconvert_exporter": "python",
   "pygments_lexer": "ipython3",
   "version": "3.6.6"
  }
 },
 "nbformat": 4,
 "nbformat_minor": 2
}
