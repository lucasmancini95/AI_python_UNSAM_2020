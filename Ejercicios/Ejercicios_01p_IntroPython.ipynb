{
  "nbformat": 4,
  "nbformat_minor": 0,
  "metadata": {
    "kernelspec": {
      "display_name": "Python 3",
      "language": "python",
      "name": "python3"
    },
    "language_info": {
      "codemirror_mode": {
        "name": "ipython",
        "version": 3
      },
      "file_extension": ".py",
      "mimetype": "text/x-python",
      "name": "python",
      "nbconvert_exporter": "python",
      "pygments_lexer": "ipython3",
      "version": "3.6.4"
    },
    "colab": {
      "name": "Ejercicios_01p_IntroPython.ipynb",
      "provenance": [],
      "collapsed_sections": []
    }
  },
  "cells": [
    {
      "cell_type": "markdown",
      "metadata": {
        "id": "OIHiN71l-V-y",
        "colab_type": "text"
      },
      "source": [
        "# Ejercicios 1\n",
        "\n",
        "Ejercicios relacionados con el [Notebook de Python](01p_IntroPython.ipynb)."
      ]
    },
    {
      "cell_type": "code",
      "metadata": {
        "id": "gwdzFKL6-V-4",
        "colab_type": "code",
        "colab": {}
      },
      "source": [
        "# Por si alguien corre en python2\n",
        "from __future__ import division\n",
        "\n",
        "# Preparamos todo para correr\n",
        "import numpy as np\n",
        "from math import *\n",
        "from matplotlib import pyplot as plt\n",
        "import pandas as pd"
      ],
      "execution_count": 0,
      "outputs": []
    },
    {
      "cell_type": "markdown",
      "metadata": {
        "id": "awe7q_km-V_H",
        "colab_type": "text"
      },
      "source": [
        "### Ejercicio 1\n",
        "\n",
        "\n",
        "a. Cree un array de numpy de 10x10 cuyos elementos estén distribuidos de manera uniforme entre 1 y 3.\n",
        "\n",
        "b. A partir de este array, cree un array unidimensional que contenga todos los elementos de la diagonal.\n",
        "\n",
        "c. Determine si la matriz es inversible y de serlo obtenga sus autovalores y autovectores utilizando <tt>numpy.linalg.eig</tt>.\n",
        "\n",
        "d. Utilizando indexing obtenga un array unidimensional que contenga el elemento más cercano a 2.33 de cada fila. Repita para cada columna.\n",
        "\n",
        "<b>Tip</b>: Utilice <tt>np.abs</tt> y <tt>np.argmin</tt>.\n",
        "\n",
        "e. Haga estadistica sobre los items b,c,d. ¿Tiene sentido lo que encuentra? Visualice lo encontrado en función del número de muestras N.\n",
        "\n",
        "<b>Tip</b>: Una manera sencilla es repetir el ejercicio creando un array de numpy de dimensión Nx10x10, donde N es el número de muestras y loopear sobre ellas.\n",
        "\n",
        "<b> Tip </b>: El item c puede generar problemas ya que al hacer estadistica puede haber un caso en el que la matriz no sea inversible. ¿Qué se puede hacer para tener en cuenta este problema?\n",
        "\n",
        "d. Repita los items a, b,c y e para una distribución normal con media 1.0 y varianza 0.05."
      ]
    },
    {
      "cell_type": "code",
      "metadata": {
        "id": "1L9xCz0aKHa4",
        "colab_type": "code",
        "colab": {}
      },
      "source": [
        ""
      ],
      "execution_count": 0,
      "outputs": []
    },
    {
      "cell_type": "markdown",
      "metadata": {
        "id": "N6L7JWotS1CQ",
        "colab_type": "text"
      },
      "source": [
        "## Ejercicio 2\n",
        "\n",
        "a) Cree un array $x_{ij}$ distribuido normalmente (np.random.randn), con media $\\mu_{i}$ = $i*10^{-2}$ y varianza $\\sigma_{j}$ = $j*10^{-3}$, de dimensión 100×1000 (i es la fila, j es la columna).\n",
        "\n",
        "b) Calcule la media por columna y  la desviación estándar por fila.  ¿Qué observa? \n",
        "\n",
        "c) Calcule el promedio por fila de los elementos que estén por encima de 0.7.\n",
        "\n",
        "<b>Tip</b>: Utilice <tt>np.where</tt> y, para el item c, un loop. Para el item a es posible hacer todo sin ningún loop."
      ]
    },
    {
      "cell_type": "code",
      "metadata": {
        "id": "ngQxNtt2S4Fn",
        "colab_type": "code",
        "colab": {}
      },
      "source": [
        ""
      ],
      "execution_count": 0,
      "outputs": []
    }
  ]
}