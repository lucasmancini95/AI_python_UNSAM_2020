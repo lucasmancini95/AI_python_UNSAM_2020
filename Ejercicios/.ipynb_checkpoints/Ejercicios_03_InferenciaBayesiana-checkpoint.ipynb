{
 "cells": [
  {
   "cell_type": "markdown",
   "metadata": {
    "colab_type": "text",
    "id": "4CeTeL4Buasf"
   },
   "source": [
    "# Guía de inferencia bayesiana\n",
    "\n",
    "Ejercicios relacionados con el [Notebook sobre Inferencia bayesiana](03_InferenciaBayesina.ipynb).\n",
    "\n",
    "Los * indican ejercicios o preguntas particularmente desafiantes (¡pero no opcionales!)."
   ]
  },
  {
   "cell_type": "code",
   "execution_count": null,
   "metadata": {
    "colab": {},
    "colab_type": "code",
    "collapsed": true,
    "id": "61Bc4Tjduasn",
    "jupyter": {
     "outputs_hidden": true
    }
   },
   "outputs": [],
   "source": [
    "# Por si alguien corre en python2\n",
    "from __future__ import division\n",
    "\n",
    "# Preparamos todo para correr\n",
    "import numpy as np\n",
    "from math import *\n",
    "from matplotlib import pylab as plt"
   ]
  },
  {
   "cell_type": "markdown",
   "metadata": {
    "colab_type": "text",
    "id": "FK1qoPwTuasw"
   },
   "source": [
    "### Ejercicio 1\n",
    "\n",
    "a. Explicar este chiste\n",
    "\n",
    "\n",
    "\n",
    "<img src=\"https://imgs.xkcd.com/comics/frequentists_vs_bayesians.png\"\n",
    "     alt=\"Chiste XKCD\"\n",
    "     style=\"float: left; margin-right: 10px;\" />\n"
   ]
  },
  {
   "cell_type": "markdown",
   "metadata": {},
   "source": [
    "\n",
    "b. Escribir el teorema de Bayes para este problema y hacer un dibujo esquemático del prior y de la verosimilitud.\n",
    "\n",
    "c. ¿Cómo cambiaría el remate del chiste si el detector tuviera 1000 dados en lugar de dos, y si solo mintiera en el caso en el que sale seis en todos ellos? (<b>opcional</b>: modificar el archivo de la imagen con el nuevo final, y postearlo con el hashtag #frec_bayes)"
   ]
  },
  {
   "cell_type": "markdown",
   "metadata": {},
   "source": [
    "#### Respuestas:"
   ]
  },
  {
   "cell_type": "markdown",
   "metadata": {},
   "source": [
    "la maquina: si le preguntas detecta si el sol exploto o no con un detector de neutrinos DESPUES de la medicion lanza 2 dados y si salen dos 6 miente en la respuesta\n",
    "\n",
    "==> casos:\n",
    "\n",
    "1-no exploto y no dieron 2 6 --> dice NO\n",
    "\n",
    "2-no exploto y si dieron 2 6 --> dice SI\n",
    "\n",
    "3-exploto y no dieron 2 6 --> dice SI\n",
    "\n",
    "4-exploto y si dieron 2 6 --> dice NO\n",
    "\n",
    "==> si dijo SI: son las opciones 2 o 3\n",
    "\n",
    "-El frecuentista:\n",
    "\n",
    "is (mis)applying the common standard of \"p<0.05\": In a scientific study, a result is presumed to provide strong evidence if, given that the null hypothesis, a default position that the observations are unrelated (in this case, that the sun has not gone nova), there is less than a 5% chance that the result was merely random\n",
    "\n",
    "Since the likelihood of rolling double sixes is below this 5% threshold, the \"frequentist\" decides (by this rule of thumb) to accept the detector's output as correct. \n",
    "\n",
    "-El Bayesiano:\n",
    "\n",
    "instead, applied at least a small measure of probabilistic reasoning (Bayesian inference) to determine that the unlikeliness of the detector lying is greatly outweighed by the unlikeliness of the sun exploding. Therefore, he concludes that the sun has not exploded and the detector is lying.\n",
    "\n",
    "\n",
    "\n",
    "\n"
   ]
  },
  {
   "cell_type": "markdown",
   "metadata": {},
   "source": [
    "https://www.explainxkcd.com/wiki/index.php/1132:_Frequentists_vs._Bayesians"
   ]
  },
  {
   "cell_type": "markdown",
   "metadata": {},
   "source": [
    "Analisis bayesiano:\n",
    "    \n",
    "Hipotesis: el sol exploto\n",
    "\n",
    "Evento: la maquina dio positivo\n",
    "\n",
    "$P(H)=\\epsilon$ --> PRIORI\n",
    "epsilon -->  es un valor que no conocemos pero que sabemos que es infimo \n",
    "\n",
    "$P(E|H)$=1- 1/36= 35/36 -->POSTERIOR prob de que salga positivo dado que el SOL exploto\n",
    "\n",
    "$P(E)=(1/6)*(1/6)=1/36$ --> la probabilidad de que salgan dos 6 en un dado\n",
    "\n",
    "$P(H|E)=?$ --> VEROSIMILITUD prob de que el sol explote dado que dio positivo"
   ]
  },
  {
   "cell_type": "code",
   "execution_count": 2,
   "metadata": {},
   "outputs": [
    {
     "data": {
      "text/plain": [
       "7.990867579902474e-13"
      ]
     },
     "execution_count": 2,
     "metadata": {},
     "output_type": "execute_result"
    }
   ],
   "source": [
    "epsilon=1/(4.38*(10**(13)))\n",
    "P_H=epsilon\n",
    "P_NH=1-epsilon\n",
    "P_E_H=35/36\n",
    "P_E_NH=1/36\n",
    "\n",
    "P_E=P_E_H*P_H+P_E_NH*P_NH\n",
    "\n",
    "P_H_E=(P_E_H*P_H)/P_E\n",
    "\n",
    "P_H_E"
   ]
  },
  {
   "cell_type": "markdown",
   "metadata": {
    "colab_type": "text",
    "id": "jz0RHH3tuasz"
   },
   "source": [
    "### Ejecicio 2 \n",
    "\n",
    "\n",
    "<b>Lógica bayesiana.</b>\n",
    "\n",
    "Mostrar que se puede deducir los silogismos de la lógica clásica a partir del teorema de Bayes"
   ]
  },
  {
   "cell_type": "code",
   "execution_count": null,
   "metadata": {
    "colab": {},
    "colab_type": "code",
    "collapsed": true,
    "id": "5S6YirWiuas2",
    "jupyter": {
     "outputs_hidden": true
    }
   },
   "outputs": [],
   "source": []
  },
  {
   "cell_type": "markdown",
   "metadata": {
    "colab_type": "text",
    "id": "vK4PIjnJuas8"
   },
   "source": [
    "### Ejecicio 3\n",
    "\n",
    "<b>Bayesian updating.</b> Considerar el ejemplo de los tests de una enfermedad que se presentó en el [notebook de probabilidad condicional](02_Condicional.ipynb). Plantear el cálculo de la probabilidad frente a un segundo test considerando al resultado del primer test como prior. ¿Se obtiene el mismo resultado?"
   ]
  },
  {
   "cell_type": "code",
   "execution_count": null,
   "metadata": {
    "colab": {},
    "colab_type": "code",
    "collapsed": true,
    "id": "5F4_w43Zuas-",
    "jupyter": {
     "outputs_hidden": true
    }
   },
   "outputs": [],
   "source": []
  },
  {
   "cell_type": "markdown",
   "metadata": {
    "colab_type": "text",
    "id": "0XneujcKuatG"
   },
   "source": [
    "### Ejercicio 4\n",
    "\n",
    "Considerar una moneda de la que no se tiene ninguna información acerca de su estado. Es decir, no se sabe si la moneda está trucada, si cae preferentemente de un lado o del otro. Se quiere determinar la probabilidad, $\\mu$, de que la moneda caiga de uno de los lados (digamos cara).\n",
    "\n",
    "a. ¿Cuál sería un prior razonable para el parámetro $\\mu$ dada esta información?\n",
    "\n",
    "b. Se lanza la moneda N veces, y cae $c$ veces cara (C) y $e = N - c$ veces ceca (escudo, E). Escribir la función de verosimilitud para estos datos. ¿Qué función de distribución es la apropiada para modelar este proceso? ¿Cuál es el estimador de máxima verosimilitud, $\\mu_{ML}$?\n",
    "\n",
    "c. Si tomamos como prior una función uniforme, $Beta(1, 1)$, y dada la secuencia [E, E, C, E, C], calcular la posterior de $\\mu$ y graficarla.\n",
    "\n",
    "*d. Suponer ahora que en lugar de tratarse de una moneda completamente desconocida, supiéramos de alguna manera que el prior para $\\mu$ es $P(\\mu) = N(0.5, 0.02)$, donde $N$ es la distribución normal:\n",
    "<ol>\n",
    "    <li>Calcular y graficar la distribución posterior para el mismo set de datos del punto <em>c</em>.</li>\n",
    "    <li>Inventar un set de resultados del experimento de lanzar la moneda que conduzcan a una posterior que permita refutar el prior.</li>\n",
    "    </ol>"
   ]
  },
  {
   "cell_type": "markdown",
   "metadata": {
    "colab": {},
    "colab_type": "code",
    "id": "MWZo7qGK7sQv"
   },
   "source": [
    "Resolucion:"
   ]
  },
  {
   "cell_type": "markdown",
   "metadata": {},
   "source": [
    "Datos:\n",
    "    \n",
    "moneda: no se sabe si la moneda está trucada.\n",
    "\n",
    "Se quiere determinar la probabilidad de que la moneda caiga CARA --> , $\\mu$:\n",
    "\n",
    "$P(C)=\\mu$ --> PRIORI --> la hipotesis es que salio cara\n",
    "\n",
    "En principio esta probabilidad puede ser cualquiera, asi que vamos a considerar que tiene una distribucion uniforme (la probabilidad de cualquier valor entre 0 y 1 es exactamente la mismna)\n",
    "\n",
    "==> $\\mu$=Uniforme -->Uniform($\\mu$)=1\n",
    "\n"
   ]
  },
  {
   "cell_type": "code",
   "execution_count": null,
   "metadata": {},
   "outputs": [],
   "source": []
  },
  {
   "cell_type": "markdown",
   "metadata": {
    "colab_type": "text",
    "id": "hbWCfclmuatR"
   },
   "source": [
    "### Ejercicio 5:\n",
    "\n",
    "Supongamos que se quiere ser insoportable en un evento social. He aquí una útil guía para lograrlo. El primer paso es, tras interrumpir todas las conversaciones, recopilar los cumpleaños de todos los presentes. Con eso, y utilizando la probabilidad y la estadistica, uno puede tratar de quedar bien mientras molesta a todos. Lo primero que necesita es:\n",
    "\n",
    "a. ¿Cuál es la probabilidad de que en una reunión de N personas haya al menos 2 que cumplen el mismo día?\n",
    "\n",
    "b) Sabiendo esto, elije una persona al azar, y cumple el 3 de Marzo. ¿Qué probabilidad hay de que eligiendo otra persona al azar, esta cumpla el mismo día?\n",
    "\n",
    "c. ¿Si en medio del show entra otra persona al evento, que probabilidad tiene de cumplir el mismo día que alguno de los participantes?\n",
    "\n",
    "d. Supongamos que usted es un desvelado y no sabe en que planeta está. Una manera de comprobarlo es contar que cantidad M de los N participantes cumplen el mismo día. Sabiendo esto, ¿cómo inferiria cuánto dura el año en ese planeta? <b>Tip:</b> Utilicé la verosimulitud y el posterior.\n"
   ]
  },
  {
   "cell_type": "code",
   "execution_count": null,
   "metadata": {
    "colab": {},
    "colab_type": "code",
    "collapsed": true,
    "id": "Qzbc9LIduatU",
    "jupyter": {
     "outputs_hidden": true
    }
   },
   "outputs": [],
   "source": []
  },
  {
   "cell_type": "markdown",
   "metadata": {
    "colab_type": "text",
    "id": "br8t8EV2uata"
   },
   "source": [
    "### Ejercicio 6:\n",
    "Te contratan como diseñador de sitios web para una prestigiosa revista amarillista. Tu principal tarea es rediseñar el sitio para obtener más suscriptores. Luego de retoques y maquillajes, crees que esta lista, pero antes de hacerla oficial tu jefe quiere que realices un experimento para estimar qué tanto mejor (si es que lo es en absoluto) es tu diseño, respecto al anterior. \n",
    "\n",
    "Se realiza el siguiente experimento: Al 20% de los visitantes se les muestra tu novedoso diseño (diseño A) mientras que al resto se les muestra el diseño original (diseño B). Luego de un mes, cuentas con los siguientes datos:\n",
    "\n",
    "|Sitio:|A|B|\n",
    "|---|---|---|\n",
    "|Cantidad de visitantes  | 14 400  | 57 600  |\n",
    "|Cantidad de suscriptores| 20  |  68 |\n",
    "\n",
    "a. Modele la probabilidad $p$ de que un visitante al sitio web se suscriba a la revista (i.e. la _Verosimilitud_ o _Likelihood_). ¿Qué distribución utilizaría y porqué?"
   ]
  },
  {
   "cell_type": "code",
   "execution_count": null,
   "metadata": {
    "collapsed": true,
    "jupyter": {
     "outputs_hidden": true
    }
   },
   "outputs": [],
   "source": []
  },
  {
   "cell_type": "markdown",
   "metadata": {
    "colab_type": "text",
    "id": "2NdDuhLYBqGk"
   },
   "source": [
    "b. Si llamamos $p_A$ y $p_B$ a dichas probabilidades cuando el visitante es mostrado el diseño A o el diseño B, modele la confianza que tiene en los valores de $p_A$ y $p_B$ antes de realizar el experimento (i.e. el _prior_). ¿Qué distribución usa?"
   ]
  },
  {
   "cell_type": "code",
   "execution_count": null,
   "metadata": {
    "collapsed": true,
    "jupyter": {
     "outputs_hidden": true
    }
   },
   "outputs": [],
   "source": []
  },
  {
   "cell_type": "markdown",
   "metadata": {
    "colab_type": "text",
    "id": "I6eDcGQTBs7Y"
   },
   "source": [
    "c. Utilice el Teorema de Bayes para estimar la confianza que tiene en los parámetros $p_A$ y $p_B$ luego de realizar el experimento (i.e. el _posterior_). Grafíquelas en función del valor de p.\n",
    "\n",
    "Ayuda: Esto se puede hacer analiticamente si su verosimilitud y su prior son conjugados, por ejemplo Beta(1,1)*Binomial(X positivos de N intentos) ~ Beta(1+X, 1+N-X)."
   ]
  },
  {
   "cell_type": "code",
   "execution_count": null,
   "metadata": {
    "colab": {},
    "colab_type": "code",
    "collapsed": true,
    "id": "DHKE4c_UBuhm",
    "jupyter": {
     "outputs_hidden": true
    }
   },
   "outputs": [],
   "source": [
    "import numpy as np\n",
    "import matplotlib.pyplot as plt\n",
    "#La mayoría de las distribuciones utiles se pueden importar directamente de SciPy.Stats, por ejemplo\n",
    "from scipy.stats import Beta\n",
    "Beta?"
   ]
  },
  {
   "cell_type": "markdown",
   "metadata": {
    "colab_type": "text",
    "id": "0RuPt3FXCWKd"
   },
   "source": [
    "d. ¿Cual es la probabilidad de que el diseño A sea mejor que el B? (Recuerde que un 50% quiere decir que son estadisticamente iguales)"
   ]
  },
  {
   "cell_type": "code",
   "execution_count": null,
   "metadata": {
    "colab": {},
    "colab_type": "code",
    "collapsed": true,
    "id": "SQ5irLmaH8Xk",
    "jupyter": {
     "outputs_hidden": true
    }
   },
   "outputs": [],
   "source": []
  },
  {
   "cell_type": "markdown",
   "metadata": {
    "colab_type": "text",
    "id": "m8V1X9h6DTNP"
   },
   "source": [
    "e. Si el sitio cuenta con un promedio de 5 millones de visitas anuales, ¿cuánto estima que será el incremento en los suscriptores el proximo año debido a usar el diseño nuevo en vez del original?"
   ]
  },
  {
   "cell_type": "code",
   "execution_count": null,
   "metadata": {
    "colab": {},
    "colab_type": "code",
    "collapsed": true,
    "id": "k1XsetZsISaz",
    "jupyter": {
     "outputs_hidden": true
    }
   },
   "outputs": [],
   "source": []
  },
  {
   "cell_type": "markdown",
   "metadata": {
    "colab_type": "text",
    "id": "w3dSTAUUuatg"
   },
   "source": [
    "### Ejercicio 7:\n"
   ]
  },
  {
   "cell_type": "markdown",
   "metadata": {
    "colab_type": "text",
    "id": "5rXb69CaNgpx"
   },
   "source": [
    "Supongamos que has diseñado un nuevo test para una enfermedad. Ahora hay que caracterizarlo. Para esto, se suele subdividir el espacio de posibilidades en 4:\n",
    "\n",
    "*   Verdadero Positivo: El test da positivo en un paciente enfermo.\n",
    "*   Falso Positivo: El test da positivo en un paciente sano.\n",
    "*   Verdadero Negativo: El test da negativo en un paciente sano\n",
    "*   Falso Negativo: El test da negativo en un paciente enfermo.\n",
    "\n",
    "Dado que cualquier paciente puede estar o sano o enfermo, y que el test solo puede dar positivo o negativo, estos cuatro eventos completan el espacio de posibilidades y son excluyentes. De este modo se caracteriza el test con las probabilidades de cada uno de estos eventos.\n",
    "\n",
    "1.  ¿Como modelaría estas probabilidades? ¿Qué distribución de probabilidad le parece apropiada?\n",
    "\n",
    "\n",
    "\n",
    "\n",
    "\n"
   ]
  },
  {
   "cell_type": "markdown",
   "metadata": {
    "colab_type": "text",
    "id": "DMyyUC7HQJXp"
   },
   "source": [
    "**Respuesta:** ..."
   ]
  },
  {
   "cell_type": "markdown",
   "metadata": {
    "colab_type": "text",
    "id": "Bdbcom70RLMG"
   },
   "source": [
    "2.  En el archivo `datasets/clinical_trials.csv` se encuentran los resultados de las pruebas médicas realizadas. A partir de ellos, y asumiendo ningún conocimiento previo (prior uniforme), realice inferencia Bayesiana sobre las probabilidades del modelo. Grafique los posteriors correspondientes, y reporte un valor (estimador) para ellos. Justifique porque eligió dicho estimador. <b>Hint:</b> No hay una única respuesta adecuada."
   ]
  },
  {
   "cell_type": "code",
   "execution_count": null,
   "metadata": {
    "colab": {},
    "colab_type": "code",
    "collapsed": true,
    "id": "pUKlc_4TUWAC",
    "jupyter": {
     "outputs_hidden": true
    }
   },
   "outputs": [],
   "source": [
    "#Si estas en Colab, ejecuta esto primero:\n",
    "!mkdir datasets\n",
    "!wget https://raw.githubusercontent.com/exord/UNSAM_IA/master/datasets/clinical_trials.csv\n",
    "!mv clinical_trials.csv datasets/clinical_trials.csv"
   ]
  },
  {
   "cell_type": "code",
   "execution_count": null,
   "metadata": {
    "colab": {},
    "colab_type": "code",
    "collapsed": true,
    "id": "wWK_FAmiTGx6",
    "jupyter": {
     "outputs_hidden": true
    }
   },
   "outputs": [],
   "source": [
    "from scipy.stats import dirichlet"
   ]
  },
  {
   "cell_type": "markdown",
   "metadata": {
    "colab_type": "text",
    "id": "O9IwJf75TFXc"
   },
   "source": [
    "3. Usted se realiza dicho test y da positivo. Utilizando la información anterior ¿Cuál es la probabilidad de que estés enfermo?\n",
    "\n",
    "**DATO:** En la muestra de los resultados anteriores, la población enferma estaba sobrerepresentada para obtener una mejor estimación de falsos negativos y verdaderos positivos. Suponga que la probabilidad real de que alguien en su condición tenga la enfermedad es del 0.1%."
   ]
  },
  {
   "cell_type": "code",
   "execution_count": null,
   "metadata": {
    "colab": {},
    "colab_type": "code",
    "collapsed": true,
    "id": "ccMUXmv_UOXe",
    "jupyter": {
     "outputs_hidden": true
    }
   },
   "outputs": [],
   "source": []
  },
  {
   "cell_type": "markdown",
   "metadata": {
    "colab_type": "text",
    "id": "gUAiKG42UEOB"
   },
   "source": [
    "4.  (*) ¿Cambia el resultado anterior si utilizas las distribuciones de posterior en lugar de los estimadores escogidos? ¿Porqué?"
   ]
  },
  {
   "cell_type": "code",
   "execution_count": null,
   "metadata": {
    "colab": {},
    "colab_type": "code",
    "collapsed": true,
    "id": "s16QTh5JUOz-",
    "jupyter": {
     "outputs_hidden": true
    }
   },
   "outputs": [],
   "source": []
  },
  {
   "cell_type": "markdown",
   "metadata": {
    "colab_type": "text",
    "id": "RRZOySpPuatr"
   },
   "source": [
    "### Ejercicio 8\n",
    "\n",
    "Supongamos que uno entra a un laboratorio de partículas abandonado, buscando material fisible para alimentar su Delorean. Encuentra un bloque de medio kilo pero tiene tres etiquetas que indican tres vidas medias distintas para ese bloque de medio kilo: 1 decaimiento cada 10 minutos, 1 cada media hora y otro cada 45 minutos. Dado que no sabemos nada, podemos pensar que la probabilidad de que cada etiqueta sea la correcta es 1/3.\n",
    "\n",
    "Si ahora coloco un detector frente al material y mido, que puedo decir si observo:\n",
    "\n",
    "a) 1 partícula emitida en un intervalo de 5 minutos.\n",
    "\n",
    "b) 2 partículas emitidas en un intervalo de media hora.\n",
    "\n",
    "c) 1 partícula emitida en un intervalo de 1 hora.\n",
    "\n",
    "d) 25 partículas emitidas durante tres horas.\n",
    "\n",
    "e) 10 partículas emitidas en un intervalo de 2 horas.\n",
    "\n",
    "En base a esto, ¿es mejor medir durante mucho o poco tiempo?"
   ]
  },
  {
   "cell_type": "code",
   "execution_count": null,
   "metadata": {
    "colab": {},
    "colab_type": "code",
    "collapsed": true,
    "id": "7bNt6VTruats",
    "jupyter": {
     "outputs_hidden": true
    }
   },
   "outputs": [],
   "source": []
  }
 ],
 "metadata": {
  "colab": {
   "collapsed_sections": [],
   "name": "Ejercicios_03_InferenciaBayesiana.ipynb",
   "provenance": []
  },
  "kernelspec": {
   "display_name": "Python 3",
   "language": "python",
   "name": "python3"
  },
  "language_info": {
   "codemirror_mode": {
    "name": "ipython",
    "version": 3
   },
   "file_extension": ".py",
   "mimetype": "text/x-python",
   "name": "python",
   "nbconvert_exporter": "python",
   "pygments_lexer": "ipython3",
   "version": "3.7.6"
  }
 },
 "nbformat": 4,
 "nbformat_minor": 4
}
