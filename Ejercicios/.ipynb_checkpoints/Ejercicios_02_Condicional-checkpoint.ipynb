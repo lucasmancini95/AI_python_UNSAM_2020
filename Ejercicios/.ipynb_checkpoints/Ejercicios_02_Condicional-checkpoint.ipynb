{
 "cells": [
  {
   "cell_type": "markdown",
   "metadata": {},
   "source": [
    "# Guía de probabilidad condicional\n",
    "\n",
    "Ejercicios relacionados con el [Notebook sobre probabilidad condicional](02_Condicional.ipynb).\n",
    "\n",
    "Los * indican ejercicios o preguntas particularmente desafiantes (¡pero no opcionales!)."
   ]
  },
  {
   "cell_type": "code",
   "execution_count": 1,
   "metadata": {},
   "outputs": [],
   "source": [
    "# Por si alguien corre en python2\n",
    "from __future__ import division\n",
    "\n",
    "# Preparamos todo para correr\n",
    "import numpy as np\n",
    "from math import *\n",
    "from matplotlib import pylab as plt"
   ]
  },
  {
   "cell_type": "markdown",
   "metadata": {},
   "source": [
    "### Ejercicio 1\n",
    "\n",
    "Supongamos que tenemos dos cajas, una roja y otra azul. En la caja roja hay 2 manzanas y 6 naranjas, y en la azul hay 3 manzanas y una naranja (ver Figura).\n",
    "\n",
    "Suponemos ahora que elegimos al azar<sup>[1](#myfootnote1)</sup> una de las cajas y de esa caja elegimos al azar una fruta. Después de ver qué fruta es, la volvemos a meter en la caja de la que salió. Se repite este proceso muchas veces, suponiendo que elegimos la caja roja un 40% de las veces y la azul el 60% restante:\n",
    "\n",
    "a. ¿Cuál es la probabilidad de que saquemos una manzana?\n",
    "\n",
    "b. Dado que elegimos una naranja, ¿cuál es la probabilidad de que la caja elegida sea la azul?\n",
    "\n",
    "<u>Notas</u> <a name=\"myfootnote1\">1</a>: ¿Pueden definir más precisamente que quiere decir que elegir algo al azar?"
   ]
  },
  {
   "cell_type": "markdown",
   "metadata": {},
   "source": [
    "#### Datos del enunciado:\n",
    "\n",
    "Caja roja: 2 Ma y 6 Na\n",
    "\n",
    "Caja azul: 3 Ma y 1 Na\n",
    "\n",
    "Si se elige al azar 1 de las cajas\n",
    "(si P(elegir Roja)=0.4 y  P(elegir azul= 0.6 )\n",
    "\n",
    "y luego\n",
    "se elige al azar 1 furta de esa caja\n",
    "==>\n",
    "\n",
    "a)\n",
    "\n",
    "Probabilidad de sacar una manzana P(Ma)??"
   ]
  },
  {
   "cell_type": "markdown",
   "metadata": {},
   "source": [
    "P(Ma|CR)=Ma/Tot=2/(6+2)=2/8=1/4\n",
    "\n",
    "P(Ma|CA)=Ma/Tot=3/4=0.75\n"
   ]
  },
  {
   "cell_type": "code",
   "execution_count": 2,
   "metadata": {},
   "outputs": [],
   "source": [
    "P_CA=0.6 #prob de elegir la caja Roja\n",
    "P_CR=0.4 #prob d elegir la caja azul\n",
    "P_Ma_CA=0.75\n",
    "P_Ma_CR= 0.25"
   ]
  },
  {
   "cell_type": "code",
   "execution_count": null,
   "metadata": {},
   "outputs": [],
   "source": [
    "P(Ma)=P(Ma|CR)*P(CR)+P(Ma|CA)*P(CA)"
   ]
  },
  {
   "cell_type": "code",
   "execution_count": 5,
   "metadata": {},
   "outputs": [
    {
     "data": {
      "text/plain": [
       "0.5499999999999999"
      ]
     },
     "execution_count": 5,
     "metadata": {},
     "output_type": "execute_result"
    }
   ],
   "source": [
    "P_Ma=0.4*0.25+0.6*0.75\n",
    "P_Ma"
   ]
  },
  {
   "cell_type": "markdown",
   "metadata": {},
   "source": [
    "b)\n",
    "\n",
    "P(CA|Na)=? --> Prob de haber sacado de la CA dado que saque una naranja\n",
    "\n",
    "Hipotesis: haber sacado de la azul\n",
    "\n",
    "Evento: saque una naranja"
   ]
  },
  {
   "cell_type": "markdown",
   "metadata": {},
   "source": [
    "$P(CA | Na) = \\frac{P(Na | CA)\\,P(CA)}{P(Na)}$"
   ]
  },
  {
   "cell_type": "code",
   "execution_count": 7,
   "metadata": {},
   "outputs": [
    {
     "data": {
      "text/plain": [
       "0.33333333333333326"
      ]
     },
     "execution_count": 7,
     "metadata": {},
     "output_type": "execute_result"
    }
   ],
   "source": [
    "P_CA=0.6\n",
    "P_Na=0.4*0.75+0.6*0.25\n",
    "P_Na_CA=0.25\n",
    "\n",
    "P_CA_Na=(P_Na_CA*P_CA)/P_Na\n",
    "P_CA_Na"
   ]
  },
  {
   "cell_type": "markdown",
   "metadata": {},
   "source": [
    "### Ejercicio 2<sup>[1](#myfootnote1)</sup>\n",
    "\n",
    "Ahora supongamos que en lugar de dos cajas tenemos tres: una roja (<em>r</em>), una azul (<em>a</em>) y una verde (<em>v</em>). La caja <em>r</em> contiene 3 manzanas, 4 naranjas y 3 limas; la caja <em>a</em> contiene 1 manzana, 1 naranja y 0 limas; la caja <em>v</em> contiene 3 manzanas, 3 naranjas y cuatro limas. Si se elige una caja al azar con las siguientes probabilidades p(<em>r</em>) = 0.2, p(<em>b</em>) = 0.2, p(<em>g</em>) = 0.6, y todos los elementos de cada caja tienen la misma probabilida de ser elegidos, responder:\n",
    "\n",
    "a. ¿cuál es la probabilidad de sacar una manzana?\n",
    "\n",
    "b. ¿Si se sacó una naranja, cuál es la probabilidad de que provenga de la caja verde?\n",
    "\n",
    "<u>Notas</u> <a name=\"myfootnote1\">1</a>: Adaptado del Ejercicio 1.3 del libro de Bishop."
   ]
  },
  {
   "cell_type": "code",
   "execution_count": 2,
   "metadata": {},
   "outputs": [],
   "source": [
    "P_R=0.2\n",
    "P_B=0.2\n",
    "P_G=0.6\n",
    "\n",
    "P_Ma_R=3/10\n",
    "P_Ma_B=1/2\n",
    "P_Ma_G=3/10"
   ]
  },
  {
   "cell_type": "code",
   "execution_count": 3,
   "metadata": {},
   "outputs": [],
   "source": [
    "#a)\n",
    "\n",
    "P_Ma=P_Ma_R*P_R+P_Ma_B*P_B+P_Ma_G*P_G"
   ]
  },
  {
   "cell_type": "code",
   "execution_count": 4,
   "metadata": {},
   "outputs": [],
   "source": [
    "#b) P(G|Na)=??\n",
    "P_Na_R=4/10\n",
    "P_Na_B=1/2\n",
    "P_Na_G=3/10\n",
    "\n",
    "P_Na=P_Na_R*P_R+P_Na_B*P_B+P_Na_G*P_G"
   ]
  },
  {
   "cell_type": "code",
   "execution_count": 6,
   "metadata": {},
   "outputs": [
    {
     "data": {
      "text/plain": [
       "0.5"
      ]
     },
     "execution_count": 6,
     "metadata": {},
     "output_type": "execute_result"
    }
   ],
   "source": [
    "P_G_Na=(P_Na_G*P_G)/P_Na\n",
    "P_G_Na"
   ]
  },
  {
   "cell_type": "markdown",
   "metadata": {},
   "source": [
    "### Ejercicio 3\n",
    "\n",
    "En un programa de juegos de televisión, a un participante se le presentan tres puertas. Detrás de una de ellas se esconde un premio (digamos un auto). Si el participante elige la puerta detrás de la cual está el premio, se lo lleva. El participante elige una puerta, y el anfitrión (digamos Marley) abre una de las dos puertas restantes y revela que el premio no está detrás de esa puerta. A continuación, le ofrece al participante la posibilidad de cambiar de puerta.\n",
    "\n",
    "a. ¿Qué le conviene hacer? Sin hacer ninguna cuenta, intetar argumentar a favor de alguna de las dos estrategias. (<b>Consejo</b>: pensar qué pasaría si en lugar de tres puertas, hubiera 10. O 100.)\n",
    "\n",
    "b. Usar el teorema de Bayes para calcular la probabilidad ganar usando cada una de las estrategias.\n",
    "\n",
    "*c. Simular la situación en la computadora, y confirmar el resultado del cálculo analítico. Ejecutar un número (1000?) de veces la simulación para cada una de las estrategias y contar las veces que se gana. \n",
    "\n",
    "d. Repetir el experimento varias veces y estudiar la distribución de veces que se gana con cada una de las estrategias. ¿Qué distribución de masa sería adecuada para modelar los resultados? ¿Por qué?"
   ]
  },
  {
   "cell_type": "code",
   "execution_count": null,
   "metadata": {},
   "outputs": [],
   "source": []
  }
 ],
 "metadata": {
  "kernelspec": {
   "display_name": "Python 3",
   "language": "python",
   "name": "python3"
  },
  "language_info": {
   "codemirror_mode": {
    "name": "ipython",
    "version": 3
   },
   "file_extension": ".py",
   "mimetype": "text/x-python",
   "name": "python",
   "nbconvert_exporter": "python",
   "pygments_lexer": "ipython3",
   "version": "3.7.6"
  }
 },
 "nbformat": 4,
 "nbformat_minor": 4
}
