{
 "cells": [
  {
   "cell_type": "markdown",
   "metadata": {
    "colab_type": "text",
    "id": "OIHiN71l-V-y"
   },
   "source": [
    "# Ejercicios 1\n",
    "\n",
    "Ejercicios relacionados con el [Notebook de Python](01p_IntroPython.ipynb)."
   ]
  },
  {
   "cell_type": "code",
   "execution_count": 1,
   "metadata": {
    "colab": {},
    "colab_type": "code",
    "id": "gwdzFKL6-V-4"
   },
   "outputs": [],
   "source": [
    "# Por si alguien corre en python2\n",
    "from __future__ import division\n",
    "\n",
    "# Preparamos todo para correr\n",
    "import numpy as np\n",
    "from math import *\n",
    "from matplotlib import pyplot as plt\n",
    "import pandas as pd"
   ]
  },
  {
   "cell_type": "markdown",
   "metadata": {
    "colab_type": "text",
    "id": "awe7q_km-V_H"
   },
   "source": [
    "### Ejercicio 1\n",
    "\n",
    "\n",
    "a. Cree un array de numpy de 10x10 cuyos elementos estén distribuidos de manera uniforme entre 1 y 3.\n",
    "\n",
    "b. A partir de este array, cree un array unidimensional que contenga todos los elementos de la diagonal.\n",
    "\n",
    "c. Determine si la matriz es inversible y de serlo obtenga sus autovalores y autovectores utilizando <tt>numpy.linalg.eig</tt>.\n",
    "\n",
    "d. Utilizando indexing obtenga un array unidimensional que contenga el elemento más cercano a 2.33 de cada fila. Repita para cada columna.\n",
    "\n",
    "<b>Tip</b>: Utilice <tt>np.abs</tt> y <tt>np.argmin</tt>.\n",
    "\n",
    "e. Haga estadistica sobre los items b,c,d. ¿Tiene sentido lo que encuentra? Visualice lo encontrado en función del número de muestras N.\n",
    "\n",
    "<b>Tip</b>: Una manera sencilla es repetir el ejercicio creando un array de numpy de dimensión Nx10x10, donde N es el número de muestras y loopear sobre ellas.\n",
    "\n",
    "<b> Tip </b>: El item c puede generar problemas ya que al hacer estadistica puede haber un caso en el que la matriz no sea inversible. ¿Qué se puede hacer para tener en cuenta este problema?\n",
    "\n",
    "d. Repita los items a, b,c y e para una distribución normal con media 1.0 y varianza 0.05."
   ]
  },
  {
   "cell_type": "code",
   "execution_count": 4,
   "metadata": {},
   "outputs": [],
   "source": [
    "from numpy import random"
   ]
  },
  {
   "cell_type": "code",
   "execution_count": 87,
   "metadata": {
    "colab": {},
    "colab_type": "code",
    "id": "1L9xCz0aKHa4"
   },
   "outputs": [
    {
     "name": "stdout",
     "output_type": "stream",
     "text": [
      "creo arreglo de numero aleatorios entre 0 y 1 \n",
      "\n",
      "<class 'numpy.ndarray'> \n",
      "\n",
      "shape: (10, 10) \n",
      "\n",
      "mayor numero de el arreglo: 0.9976423478587649 \n",
      "\n",
      "menor numero de el arreglo: 0.0014320966728358364 \n",
      "\n"
     ]
    }
   ],
   "source": [
    "# a)Cree un array de numpy de 10x10 cuyos elementos estén distribuidos de manera uniforme entre 1 y 3\n",
    "\n",
    "array_1010 = random.rand(10,10)\n",
    "print(\"creo arreglo de numero aleatorios entre 0 y 1 \\n\")\n",
    "print(type(array_1010),\"\\n\")\n",
    "print(\"shape:\",array_1010.shape,\"\\n\")\n",
    "print(\"mayor numero de el arreglo:\", array_1010.max(),\"\\n\")\n",
    "print(\"menor numero de el arreglo:\", array_1010.min(),\"\\n\")"
   ]
  },
  {
   "cell_type": "code",
   "execution_count": 78,
   "metadata": {},
   "outputs": [
    {
     "name": "stdout",
     "output_type": "stream",
     "text": [
      "mayor numero de el arreglo: 2.981639856887896 \n",
      "\n",
      "menor numero de el arreglo: 1.0113928790216762 \n",
      "\n"
     ]
    }
   ],
   "source": [
    "#lo multiplico por 2 (todos los valores van a estar entre 0 y 2) y le sumo 1 (los valores se corren y quedan entre 1 y 3)\n",
    "array_1010 = (array_1010 * 2)+ 1\n",
    "print(\"mayor numero de el arreglo:\", array_1010.max(),\"\\n\")\n",
    "print(\"menor numero de el arreglo:\", array_1010.min(),\"\\n\")"
   ]
  },
  {
   "cell_type": "code",
   "execution_count": 95,
   "metadata": {},
   "outputs": [
    {
     "name": "stdout",
     "output_type": "stream",
     "text": [
      "shape: (10,)\n",
      "[0.33383783 0.10060818 0.81717179 0.28462405 0.19479204 0.38493383\n",
      " 0.60447424 0.49150583 0.84081093 0.85537497]\n"
     ]
    }
   ],
   "source": [
    "# b) A partir de este array, cree un array unidimensional que contenga todos los elementos de la diagonal.\n",
    "\n",
    "array_uni10=np.zeros(10)\n",
    "          \n",
    "for i in range(10):\n",
    "    \n",
    "    array_uni10[i]=array_1010[i,i]\n",
    "\n",
    "print(\"shape:\",array_uni10.shape)\n",
    "print(array_uni10)\n",
    "    \n"
   ]
  },
  {
   "cell_type": "code",
   "execution_count": 105,
   "metadata": {},
   "outputs": [
    {
     "name": "stdout",
     "output_type": "stream",
     "text": [
      "saque la matriz imversa, aca esta su primer elemento: -1.8297321006325575\n"
     ]
    }
   ],
   "source": [
    "# c) Determine si la matriz es inversible y de serlo obtenga sus autovalores y autovectores utilizando numpy.linalg.eig.\n",
    "import numpy.linalg as lalg\n",
    "inv_1010=lalg.inv(array_1010)\n",
    "print(\"saque la matriz imversa, aca esta su primer elemento:\",inv_1010[1,1])"
   ]
  },
  {
   "cell_type": "code",
   "execution_count": 158,
   "metadata": {},
   "outputs": [
    {
     "name": "stdout",
     "output_type": "stream",
     "text": [
      "matriz:\n",
      " [[1, 2], [3, 9]]\n",
      "inversa:\n",
      " [[ 3.         -0.66666667]\n",
      " [-1.          0.33333333]]\n",
      "producto matrizial A*invA:\n",
      " [[ 1.00000000e+00 -1.11022302e-16]\n",
      " [ 0.00000000e+00  1.00000000e+00]]\n",
      "producto matrizial A*invA pero redondeado:\n",
      " [[ 1. -0.]\n",
      " [ 0.  1.]]\n"
     ]
    },
    {
     "data": {
      "text/plain": [
       "array([[ True,  True],\n",
       "       [ True,  True]])"
      ]
     },
     "execution_count": 158,
     "metadata": {},
     "output_type": "execute_result"
    }
   ],
   "source": [
    "#la propiedad algebraica dice que si una matriz en invertibles\n",
    "#A*inv_A=Identidad\n",
    "\n",
    "#prueba\n",
    "A=[[1,2],[3,9]]\n",
    "print(\"matriz:\\n\",A)\n",
    "\n",
    "invA=lalg.inv(A)\n",
    "print(\"inversa:\\n\",invA)\n",
    "\n",
    "dot_A_invA=np.dot(A,invA)\n",
    "print(\"producto matrizial A*invA:\\n\",dot_A_invA)\n",
    "\n",
    "dot_A_invA_round=np.round_(dot_A_invA, decimals=0, out=None)\n",
    "print(\"producto matrizial A*invA pero redondeado:\\n\",dot_A_invA_round)\n",
    "\n",
    "Id=np.array([[1,0],[0,1]])\n",
    "\n",
    "np.equal(dot_A_invA_round,Id)\n"
   ]
  },
  {
   "cell_type": "code",
   "execution_count": 195,
   "metadata": {},
   "outputs": [
    {
     "name": "stdout",
     "output_type": "stream",
     "text": [
      "producto matrizial A*invA pero redondeado:\n",
      " [[ 1. -0. -0.  0.  0.  0.  0. -0. -0.  0.]\n",
      " [-0.  1. -0.  0.  0.  0.  0. -0.  0. -0.]\n",
      " [ 0.  0.  1.  0. -0. -0.  0.  0.  0.  0.]\n",
      " [-0.  0.  0.  1. -0.  0.  0.  0. -0. -0.]\n",
      " [ 0. -0.  0. -0.  1. -0.  0. -0.  0.  0.]\n",
      " [-0.  0.  0.  0.  0.  1.  0.  0.  0. -0.]\n",
      " [-0.  0. -0. -0.  0. -0.  1. -0. -0.  0.]\n",
      " [-0.  0. -0.  0.  0.  0.  0.  1. -0.  0.]\n",
      " [ 0. -0.  0. -0. -0.  0.  0. -0.  1.  0.]\n",
      " [ 0.  0.  0. -0. -0. -0. -0.  0.  0.  1.]]\n",
      "la matriz es invertible, entonces le saco sus autovalores y auto vectores\n",
      "(10,) (10, 10)\n"
     ]
    }
   ],
   "source": [
    "# ahora con nuetro ejemplo\n",
    "\n",
    "dot_A_invA_10=np.dot(array_1010,inv_1010)\n",
    "#print(\"producto matrizial A*invA:\\n\",dot_A_invA_10)\n",
    "\n",
    "dot_A_invA_10_round=np.round_(dot_A_invA_10, decimals=0, out=None)\n",
    "print(\"producto matrizial A*invA pero redondeado:\\n\",dot_A_invA_10_round)\n",
    "\n",
    "#matriz identidad de 10x10\n",
    "Id_10=np.zeros([10,10])\n",
    "for i in range(10):\n",
    "    Id_10[i,i]=1\n",
    "\n",
    "comp=np.equal(dot_A_invA_10_round,Id_10)\n",
    "\n",
    "if comp.all() == True:\n",
    "    print(\"la matriz es invertible, entonces le saco sus autovalores y auto vectores\")\n",
    "    eigvalues, eigvactor= lalg.eig(array_1010)\n",
    "    print( eigvalues.shape, eigvactor.shape)"
   ]
  },
  {
   "cell_type": "markdown",
   "metadata": {
    "colab_type": "text",
    "id": "N6L7JWotS1CQ"
   },
   "source": [
    "## Ejercicio 2\n",
    "\n",
    "a) Cree un array $x_{ij}$ distribuido normalmente (np.random.randn), con media $\\mu_{i}$ = $i*10^{-2}$ y varianza $\\sigma_{j}$ = $j*10^{-3}$, de dimensión 100×1000 (i es la fila, j es la columna).\n",
    "\n",
    "b) Calcule la media por columna y  la desviación estándar por fila.  ¿Qué observa? \n",
    "\n",
    "c) Calcule el promedio por fila de los elementos que estén por encima de 0.7.\n",
    "\n",
    "<b>Tip</b>: Utilice <tt>np.where</tt> y, para el item c, un loop. Para el item a es posible hacer todo sin ningún loop."
   ]
  },
  {
   "cell_type": "code",
   "execution_count": 0,
   "metadata": {
    "colab": {},
    "colab_type": "code",
    "id": "ngQxNtt2S4Fn"
   },
   "outputs": [],
   "source": []
  }
 ],
 "metadata": {
  "colab": {
   "collapsed_sections": [],
   "name": "Ejercicios_01p_IntroPython.ipynb",
   "provenance": []
  },
  "kernelspec": {
   "display_name": "Python 3",
   "language": "python",
   "name": "python3"
  },
  "language_info": {
   "codemirror_mode": {
    "name": "ipython",
    "version": 3
   },
   "file_extension": ".py",
   "mimetype": "text/x-python",
   "name": "python",
   "nbconvert_exporter": "python",
   "pygments_lexer": "ipython3",
   "version": "3.6.6"
  }
 },
 "nbformat": 4,
 "nbformat_minor": 1
}
