{
 "cells": [
  {
   "cell_type": "markdown",
   "metadata": {
    "colab_type": "text",
    "id": "iaBX51rKDMdA"
   },
   "source": [
    "# Repaso de conceptos de Python\n",
    "\n",
    "Este notebook pretende repasar de forma superficial y no exhaustiva  diferentes estructuras de datos de Python, lectura y escritura de archivos, calculos numéricos con Numpy, visualizaciones con Matplotlib, y manejo de tablas con Pandas."
   ]
  },
  {
   "cell_type": "markdown",
   "metadata": {
    "colab_type": "text",
    "id": "X2z4X_DN-doX"
   },
   "source": [
    "# Estructuras de datos: Listas, diccionarios y conjuntos"
   ]
  },
  {
   "cell_type": "markdown",
   "metadata": {
    "colab_type": "text",
    "id": "YW60G9xmDMdH"
   },
   "source": [
    "## Listas\n",
    "\n",
    "Una lista es un como un arreglo unidimensional, cuyos elementos pueden ser cualquier objeto de python: Numeros, Strings, Funciones, Otras Listas, etc. "
   ]
  },
  {
   "cell_type": "code",
   "execution_count": 1,
   "metadata": {
    "colab": {},
    "colab_type": "code",
    "id": "mTLn2FIEDMdM"
   },
   "outputs": [],
   "source": [
    "a = [0, [1,2], \"elemento de mi lista\"]"
   ]
  },
  {
   "cell_type": "markdown",
   "metadata": {
    "colab_type": "text",
    "id": "AXFHZSztmY8j"
   },
   "source": [
    "Utilizando el constructor `list()`, cualquier iterable puede ser transformado en una lista, por ejemplo `range(10)` que devuelve enteros consecutivos del 0 al 9"
   ]
  },
  {
   "cell_type": "code",
   "execution_count": 2,
   "metadata": {
    "colab": {
     "base_uri": "https://localhost:8080/",
     "height": 34
    },
    "colab_type": "code",
    "executionInfo": {
     "elapsed": 798,
     "status": "ok",
     "timestamp": 1583779310345,
     "user": {
      "displayName": "Ignacio Fabre",
      "photoUrl": "https://lh3.googleusercontent.com/a-/AOh14Gg7zSD7Nr148uG3EE-pBT8Q465capkzPkaSGwsEoM4=s64",
      "userId": "03651723443658892757"
     },
     "user_tz": 180
    },
    "id": "4N_rb5RPmhT2",
    "outputId": "a30e6820-1080-4013-d808-a972f5d678da"
   },
   "outputs": [
    {
     "name": "stdout",
     "output_type": "stream",
     "text": [
      "[0, 1, 2, 3, 4, 5, 6, 7, 8, 9]\n"
     ]
    }
   ],
   "source": [
    "b = list(range(10))\n",
    "print(b)"
   ]
  },
  {
   "cell_type": "markdown",
   "metadata": {
    "colab_type": "text",
    "id": "Iwkjk20kDMdd"
   },
   "source": [
    "Para acceder a los elementos de una lista, pongo entre corchetes el numero de elemento (en Python, como en C, se inicia a contar desde 0). \n",
    "\n",
    "También, uno puede utilizar _slicing_, (rebanado o feteado, como te guste), que permite acceder a segmentos de elementos, dentro de la lista, con la notación [inicio:final:paso]"
   ]
  },
  {
   "cell_type": "code",
   "execution_count": 4,
   "metadata": {
    "colab": {},
    "colab_type": "code",
    "id": "GgsMooBEDMdg",
    "outputId": "3d63f4f0-621a-4307-e180-87ce2b7ac1db"
   },
   "outputs": [
    {
     "name": "stdout",
     "output_type": "stream",
     "text": [
      "elemento de mi lista\n",
      "elemento de mi lista\n",
      "[[1, 2], 'elemento de mi lista']\n"
     ]
    }
   ],
   "source": [
    "print(a[2])\n",
    "print(a[-1]) #De reversa\n",
    "print(a[1:3])"
   ]
  },
  {
   "cell_type": "markdown",
   "metadata": {
    "colab_type": "text",
    "id": "U1WOEN1nDMdr"
   },
   "source": [
    "Las listas tienen diversas propiedades, por ejemplo la longitud se obtiene aplicando el método `len`"
   ]
  },
  {
   "cell_type": "code",
   "execution_count": 5,
   "metadata": {
    "colab": {},
    "colab_type": "code",
    "id": "uH9uHRuYDMdu",
    "outputId": "3fcb6cf7-1eb6-42bf-ee34-9e8fa9aa9131"
   },
   "outputs": [
    {
     "name": "stdout",
     "output_type": "stream",
     "text": [
      "3\n"
     ]
    }
   ],
   "source": [
    "print(len(a))"
   ]
  },
  {
   "cell_type": "markdown",
   "metadata": {
    "colab_type": "text",
    "id": "oscFQxLpDMd3"
   },
   "source": [
    "En Python, en general, las asignaciones son por referencia, de modo que cada \"variable\" es un puntero hacia el objeto de python en memoria, y asignar otra variable no copia el objeto, sino solo el puntero. Para hacer una copia en memoria, poseen el método `copy()`"
   ]
  },
  {
   "cell_type": "code",
   "execution_count": 6,
   "metadata": {
    "colab": {},
    "colab_type": "code",
    "id": "IOTixk_fDMd6",
    "outputId": "c19417fa-4f6a-499a-a71f-ad9c9b410557"
   },
   "outputs": [
    {
     "name": "stdout",
     "output_type": "stream",
     "text": [
      "b es : [0, [1, 2], 'elemento de mi lista', 'elemento nuevo que agrego a b']\n",
      "a es : [0, [1, 2], 'elemento de mi lista', 'elemento nuevo que agrego a b']\n",
      "\n",
      "\n",
      "c es :  [0, [1, 2], 'elemento de mi lista', 'elemento nuevo que agrego a b', 'elemento nuevo que agrego a c']\n",
      "a es :  [0, [1, 2], 'elemento de mi lista', 'elemento nuevo que agrego a b']\n"
     ]
    }
   ],
   "source": [
    "b = a\n",
    "\n",
    "b.append(\"elemento nuevo que agrego a b\")#agrega un elemento a la lista\n",
    "print(\"b es :\", b)\n",
    "print(\"a es :\", b)\n",
    "print(\"\\n\")\n",
    "\n",
    "c = a.copy()\n",
    "c.append(\"elemento nuevo que agrego a c\")\n",
    "print(\"c es : \", c)\n",
    "print(\"a es : \", a)"
   ]
  },
  {
   "cell_type": "markdown",
   "metadata": {
    "colab_type": "text",
    "id": "bNMylI9Mm1Hl"
   },
   "source": [
    "Uno de los aspectos mas queridos de creación de listas, es lo que se llama Lists Comprehensions, la cual permite resumir bloques condicionales y loops en las listas. \n",
    "\n",
    "Por ejemplo, para crear una lista con los cuadrados de los numeros pares entre 0 y 10, y los cubos de los impares"
   ]
  },
  {
   "cell_type": "code",
   "execution_count": 7,
   "metadata": {
    "colab": {
     "base_uri": "https://localhost:8080/",
     "height": 85
    },
    "colab_type": "code",
    "executionInfo": {
     "elapsed": 747,
     "status": "ok",
     "timestamp": 1583779727558,
     "user": {
      "displayName": "Ignacio Fabre",
      "photoUrl": "https://lh3.googleusercontent.com/a-/AOh14Gg7zSD7Nr148uG3EE-pBT8Q465capkzPkaSGwsEoM4=s64",
      "userId": "03651723443658892757"
     },
     "user_tz": 180
    },
    "id": "1iC0tWIxm0cD",
    "outputId": "b20c6185-df52-4250-a1c9-3226649f4b0a"
   },
   "outputs": [
    {
     "name": "stdout",
     "output_type": "stream",
     "text": [
      "[0, 1, 4, 9, 16, 25, 36, 49, 64, 81]\n",
      "[0, 4, 16, 36, 64]\n",
      "[0, 1, 4, 27, 16, 125, 36, 343, 64, 729]\n",
      "[1, 2, 3, 6, 7, 8, 8, 9, 10]\n"
     ]
    }
   ],
   "source": [
    "cuadrados = [x**2 for x in range(10)]\n",
    "print(cuadrados)\n",
    "\n",
    "cuadrados_pares = [x**2 for x in range(10) if x%2 == 0]\n",
    "print(cuadrados_pares)\n",
    "\n",
    "cuadrados_pares_cubos_impares = [x**2 if x%2==0 else x**3 for x in range(10)]\n",
    "print(cuadrados_pares_cubos_impares)\n",
    "\n",
    "#loops dobles\n",
    "suma = [x+y for x in [0,5,7] for y in [1,2,3]]\n",
    "print(suma)"
   ]
  },
  {
   "cell_type": "markdown",
   "metadata": {
    "colab_type": "text",
    "id": "6fNfLm81DMeC"
   },
   "source": [
    "Ya que estamos, creemos un archivo que va a ejemplificar el uso de listas"
   ]
  },
  {
   "cell_type": "code",
   "execution_count": 8,
   "metadata": {
    "colab": {},
    "colab_type": "code",
    "id": "nrTqDugEDMeE"
   },
   "outputs": [],
   "source": [
    "test1=open(\"archivo_1.txt\", \"w+\")#abro el archivo que voy a crear\n",
    "for i in range(100):#inicio un loop\n",
    "    test1.write(str(i)+\" \"+str(i*i)+\"\\n\")#escribo en el archivo\n",
    "test1.close()#cierro el archivo para que quede guardado"
   ]
  },
  {
   "cell_type": "markdown",
   "metadata": {
    "colab_type": "text",
    "id": "HN_5TSltDMeM"
   },
   "source": [
    "Las listas pueden usarse para almacenar datos de archivos, abiertos utilizando el comando open"
   ]
  },
  {
   "cell_type": "code",
   "execution_count": 9,
   "metadata": {
    "colab": {
     "base_uri": "https://localhost:8080/",
     "height": 54
    },
    "colab_type": "code",
    "executionInfo": {
     "elapsed": 716,
     "status": "ok",
     "timestamp": 1583780592386,
     "user": {
      "displayName": "Ignacio Fabre",
      "photoUrl": "https://lh3.googleusercontent.com/a-/AOh14Gg7zSD7Nr148uG3EE-pBT8Q465capkzPkaSGwsEoM4=s64",
      "userId": "03651723443658892757"
     },
     "user_tz": 180
    },
    "id": "OXMGYnY8DMeO",
    "outputId": "8c7745ed-3475-4834-96f4-c90aea14ffd6"
   },
   "outputs": [
    {
     "name": "stdout",
     "output_type": "stream",
     "text": [
      "[['0', '0'], ['1', '1'], ['2', '4'], ['3', '9'], ['4', '16'], ['5', '25'], ['6', '36'], ['7', '49'], ['8', '64'], ['9', '81'], ['10', '100'], ['11', '121'], ['12', '144'], ['13', '169'], ['14', '196'], ['15', '225'], ['16', '256'], ['17', '289'], ['18', '324'], ['19', '361'], ['20', '400'], ['21', '441'], ['22', '484'], ['23', '529'], ['24', '576'], ['25', '625'], ['26', '676'], ['27', '729'], ['28', '784'], ['29', '841'], ['30', '900'], ['31', '961'], ['32', '1024'], ['33', '1089'], ['34', '1156'], ['35', '1225'], ['36', '1296'], ['37', '1369'], ['38', '1444'], ['39', '1521'], ['40', '1600'], ['41', '1681'], ['42', '1764'], ['43', '1849'], ['44', '1936'], ['45', '2025'], ['46', '2116'], ['47', '2209'], ['48', '2304'], ['49', '2401'], ['50', '2500'], ['51', '2601'], ['52', '2704'], ['53', '2809'], ['54', '2916'], ['55', '3025'], ['56', '3136'], ['57', '3249'], ['58', '3364'], ['59', '3481'], ['60', '3600'], ['61', '3721'], ['62', '3844'], ['63', '3969'], ['64', '4096'], ['65', '4225'], ['66', '4356'], ['67', '4489'], ['68', '4624'], ['69', '4761'], ['70', '4900'], ['71', '5041'], ['72', '5184'], ['73', '5329'], ['74', '5476'], ['75', '5625'], ['76', '5776'], ['77', '5929'], ['78', '6084'], ['79', '6241'], ['80', '6400'], ['81', '6561'], ['82', '6724'], ['83', '6889'], ['84', '7056'], ['85', '7225'], ['86', '7396'], ['87', '7569'], ['88', '7744'], ['89', '7921'], ['90', '8100'], ['91', '8281'], ['92', '8464'], ['93', '8649'], ['94', '8836'], ['95', '9025'], ['96', '9216'], ['97', '9409'], ['98', '9604'], ['99', '9801']]\n"
     ]
    }
   ],
   "source": [
    "lista1=[]#Defino una lista vacia\n",
    "with open(\"archivo_1.txt\", \"r\") as f:#abro el archivo en un loop para no olvidarme de cerrarlo\n",
    "    for linea in f:#itero sobre cada linea del archivo\n",
    "        lista1.append(linea.split())#agrego el elemento del archivo. Dado que son dos elementos separados por un espacio, splitteo.\n",
    "print(lista1)"
   ]
  },
  {
   "cell_type": "markdown",
   "metadata": {
    "colab_type": "text",
    "id": "3EL3eDskDMeX"
   },
   "source": [
    "## Diccionarios\n",
    "\n",
    "Un diccionario es un conjunto de pares clave : valor. Podemos pensarlo como una lista no ordenada a la que se accede con su clave, y es útil por su mayor velocidad al buscar elementos (es un Hash Table, con estructura de árbol para búsquedas eficientes). Se define con corchetes, por ejemplo:"
   ]
  },
  {
   "cell_type": "code",
   "execution_count": 10,
   "metadata": {
    "colab": {
     "base_uri": "https://localhost:8080/",
     "height": 34
    },
    "colab_type": "code",
    "executionInfo": {
     "elapsed": 2667,
     "status": "ok",
     "timestamp": 1583778431434,
     "user": {
      "displayName": "Ignacio Fabre",
      "photoUrl": "https://lh3.googleusercontent.com/a-/AOh14Gg7zSD7Nr148uG3EE-pBT8Q465capkzPkaSGwsEoM4=s64",
      "userId": "03651723443658892757"
     },
     "user_tz": 180
    },
    "id": "PJ6HsFy2DMeZ",
    "outputId": "f7ec3bfa-3119-4896-aeb4-5d5efe5757c9"
   },
   "outputs": [
    {
     "name": "stdout",
     "output_type": "stream",
     "text": [
      "{'equipo': 'Boca Juniors', 'posición': 'delantero', 'nombre': 'Juan Román Riquelme', 'dorsal': 10}\n"
     ]
    }
   ],
   "source": [
    "Jugador1 ={\n",
    "  \"equipo\": \"Boca Juniors\",\n",
    "  \"posición\": \"delantero\",\n",
    "  \"nombre\": \"Juan Román Riquelme\",\n",
    "    \"dorsal\": 10\n",
    "}\n",
    "print(Jugador1)"
   ]
  },
  {
   "cell_type": "markdown",
   "metadata": {
    "colab_type": "text",
    "id": "g_iXldFvDMeg"
   },
   "source": [
    "Para imprimir elementos del diccionario puede hacerse:"
   ]
  },
  {
   "cell_type": "code",
   "execution_count": 11,
   "metadata": {
    "colab": {
     "base_uri": "https://localhost:8080/",
     "height": 102
    },
    "colab_type": "code",
    "executionInfo": {
     "elapsed": 1728,
     "status": "ok",
     "timestamp": 1583778444536,
     "user": {
      "displayName": "Ignacio Fabre",
      "photoUrl": "https://lh3.googleusercontent.com/a-/AOh14Gg7zSD7Nr148uG3EE-pBT8Q465capkzPkaSGwsEoM4=s64",
      "userId": "03651723443658892757"
     },
     "user_tz": 180
    },
    "id": "1-6gsWxxDMej",
    "outputId": "64e100d2-65bc-4479-bf7c-6314cba6eff4"
   },
   "outputs": [
    {
     "name": "stdout",
     "output_type": "stream",
     "text": [
      "Boca Juniors\n",
      "equipo Boca Juniors\n",
      "posición delantero\n",
      "nombre Juan Román Riquelme\n",
      "dorsal 10\n"
     ]
    }
   ],
   "source": [
    "x = Jugador1[\"equipo\"]\n",
    "print(x)\n",
    "\n",
    "for x, y in Jugador1.items():#aqui itero sobre los elementos del diccionario, generando tuplas.\n",
    "    print(x, y) \n"
   ]
  },
  {
   "cell_type": "markdown",
   "metadata": {
    "colab_type": "text",
    "id": "rDUmJBeBDMeq"
   },
   "source": [
    "Pueden alterarse los elmentos, agregarlos o eliminarlos (con el método `pop`):"
   ]
  },
  {
   "cell_type": "code",
   "execution_count": 12,
   "metadata": {
    "colab": {},
    "colab_type": "code",
    "id": "JshJyiriDMes",
    "outputId": "7b379654-e79b-4899-bcec-32d30144a82a"
   },
   "outputs": [
    {
     "name": "stdout",
     "output_type": "stream",
     "text": [
      "{'equipo': 'Boca Juniors', 'posición': 'Enganche', 'nombre': 'Juan Román Riquelme', 'dorsal': 10}\n",
      "{'equipo': 'Boca Juniors', 'posición': 'Enganche', 'nombre': 'Juan Román Riquelme', 'dorsal': 10, 'Hincha de': 'Boca Juniors'}\n",
      "{'equipo': 'Boca Juniors', 'posición': 'Enganche', 'nombre': 'Juan Román Riquelme', 'dorsal': 10}\n"
     ]
    }
   ],
   "source": [
    "Jugador1[\"posición\"] = \"Enganche\"\n",
    "print(Jugador1)\n",
    "\n",
    "Jugador1[\"Hincha de\"] = \"Boca Juniors\"\n",
    "print(Jugador1)\n",
    "\n",
    "Jugador1.pop(\"Hincha de\")\n",
    "print(Jugador1) "
   ]
  },
  {
   "cell_type": "markdown",
   "metadata": {
    "colab_type": "text",
    "id": "pAKeISZwDMe0"
   },
   "source": [
    "Los valores del diccionario, como en las listas, pueden ser cualquier cosa, incluso otros diccionarios:"
   ]
  },
  {
   "cell_type": "code",
   "execution_count": 13,
   "metadata": {
    "colab": {
     "base_uri": "https://localhost:8080/",
     "height": 54
    },
    "colab_type": "code",
    "executionInfo": {
     "elapsed": 1394,
     "status": "ok",
     "timestamp": 1583778521524,
     "user": {
      "displayName": "Ignacio Fabre",
      "photoUrl": "https://lh3.googleusercontent.com/a-/AOh14Gg7zSD7Nr148uG3EE-pBT8Q465capkzPkaSGwsEoM4=s64",
      "userId": "03651723443658892757"
     },
     "user_tz": 180
    },
    "id": "6PavlcnWDMe3",
    "outputId": "b91593d4-ba09-47e0-fae8-564388ae292d"
   },
   "outputs": [
    {
     "name": "stdout",
     "output_type": "stream",
     "text": [
      "{'Jugador 1': {'equipo': 'Boca Juniors', 'posición': 'Enganche', 'nombre': 'Juan Román Riquelme', 'dorsal': 10}, 'Jugador 2': {'equipo': 'Boca Juniors', 'posición': 'Delantero', 'nombre': 'Martin Palermo', 'dorsal': 9}, 'Jugador 3': {'equipo': 'Boca Juniors', 'posición': 'Defensor', 'nombre': 'Rolando Schiavi', 'dorsal': 2}}\n"
     ]
    }
   ],
   "source": [
    "Jugador2 ={\n",
    "  \"equipo\": \"Boca Juniors\",\n",
    "  \"posición\": \"Delantero\",\n",
    "  \"nombre\": \"Martin Palermo\",\n",
    "    \"dorsal\": 9\n",
    "}\n",
    "\n",
    "Jugador3 ={\n",
    "  \"equipo\": \"Boca Juniors\",\n",
    "  \"posición\": \"Defensor\",\n",
    "  \"nombre\": \"Rolando Schiavi\",\n",
    "    \"dorsal\": 2\n",
    "}\n",
    "\n",
    "\n",
    "MisJugadores = {\n",
    "  \"Jugador 1\" : Jugador1,\n",
    "  \"Jugador 2\" : Jugador2,\n",
    "  \"Jugador 3\" : Jugador3\n",
    "} \n",
    "\n",
    "print(MisJugadores)"
   ]
  },
  {
   "cell_type": "markdown",
   "metadata": {
    "colab_type": "text",
    "id": "G0cdMPqZDMe9"
   },
   "source": [
    "El uso de diccionarios permite manejar datos multidimensionales de manera más eficiente. Podría hacerse con listas pero requeriria indexar y recordar ese indexado.\n",
    "\n",
    "Por ejemplo, quiero los nombres de los jugadores que tengan determinada posición:"
   ]
  },
  {
   "cell_type": "code",
   "execution_count": 14,
   "metadata": {
    "colab": {},
    "colab_type": "code",
    "id": "9wyONDefDMe_",
    "outputId": "d359cbdc-f2e2-49fd-b370-465bb33d8e46"
   },
   "outputs": [
    {
     "name": "stdout",
     "output_type": "stream",
     "text": [
      "Martin Palermo\n"
     ]
    }
   ],
   "source": [
    "for jugador in MisJugadores.values():\n",
    "    if(jugador[\"posición\"]==\"Delantero\"):\n",
    "        print(jugador[\"nombre\"])"
   ]
  },
  {
   "cell_type": "markdown",
   "metadata": {
    "colab_type": "text",
    "id": "odDOEVUDj4AD"
   },
   "source": [
    "## Conjuntos"
   ]
  },
  {
   "cell_type": "markdown",
   "metadata": {
    "colab_type": "text",
    "id": "KIgaIlZcj6ri"
   },
   "source": [
    "Un conjunto es, básicamente eso: un conjunto. No tiene orden en los elementos, por lo cual tampoco admite duplicados. Se pueden añadir y quitar elementos, y acceder a ellos (sin posibilidad de definir el orden en que se accede), y realizar operaciones entre conjuntos tales como Unir, Intersectar, Restar, etc.\n",
    "\n",
    "Se crean utilizando también corchetes (como los diccionarios), salvo para crear un conjunto vacío en donde utilizamos el constructor `set()`"
   ]
  },
  {
   "cell_type": "code",
   "execution_count": 16,
   "metadata": {
    "colab": {
     "base_uri": "https://localhost:8080/",
     "height": 300
    },
    "colab_type": "code",
    "executionInfo": {
     "elapsed": 677,
     "status": "error",
     "timestamp": 1583779191051,
     "user": {
      "displayName": "Ignacio Fabre",
      "photoUrl": "https://lh3.googleusercontent.com/a-/AOh14Gg7zSD7Nr148uG3EE-pBT8Q465capkzPkaSGwsEoM4=s64",
      "userId": "03651723443658892757"
     },
     "user_tz": 180
    },
    "id": "qnDwKXnFk3mS",
    "outputId": "2a039ec4-9d39-46b9-8d27-50402d8e6514"
   },
   "outputs": [
    {
     "name": "stdout",
     "output_type": "stream",
     "text": [
      "union:  {80.4, ' banana 2', 'cosa 1', 'manzana 3', 125}\n",
      "interseccion:  {'cosa 1'}\n",
      "Es el conjunto2 un subset del conjunto3?  True\n",
      "{80.4, ' banana 2', 'cosa 1', 125}\n",
      "{80.4, ' banana 2', 'nuevo elemento', 'cosa 1'}\n",
      "set()\n"
     ]
    }
   ],
   "source": [
    "conjunto1 = {\"cosa 1\", \" banana 2\", 80.4}\n",
    "conjunto2 = {\"cosa 1\", \"manzana 3\", 125}\n",
    "\n",
    "conjunto3 = conjunto1.union(conjunto2)\n",
    "print(\"union: \",conjunto3)\n",
    "print(\"interseccion: \", conjunto1.intersection(conjunto2))\n",
    "\n",
    "print(\"Es el conjunto2 un subset del conjunto3? \", conjunto2.issubset(conjunto3))\n",
    "\n",
    "conjunto3.remove(\"manzana 3\")\n",
    "print(conjunto3)\n",
    "\n",
    "conjunto1.add(\"nuevo elemento\")\n",
    "print(conjunto1)\n",
    "\n",
    "conjunto1.clear()# limpia el conjunto\n",
    "print(conjunto1)\n",
    "\n",
    "del conjunto1 #elmina el objeto"
   ]
  },
  {
   "cell_type": "markdown",
   "metadata": {
    "colab_type": "text",
    "id": "rPon0YaHDMfH"
   },
   "source": [
    "# Visualización: Matplotlib"
   ]
  },
  {
   "cell_type": "markdown",
   "metadata": {
    "colab_type": "text",
    "id": "3TSlOXcqDMfI"
   },
   "source": [
    "Matplotlib es un paquete de visualización en 2D que puede hacer plots customizables en calidad de publicación. El principal paquete que necesitamos para plotear, es plt. Utilizamos el comando mágico de Jupyter para plotear inline:"
   ]
  },
  {
   "cell_type": "code",
   "execution_count": 17,
   "metadata": {
    "colab": {},
    "colab_type": "code",
    "id": "jKDO1kGHDMfL"
   },
   "outputs": [],
   "source": [
    "import matplotlib.pyplot as plt\n",
    "%matplotlib inline"
   ]
  },
  {
   "cell_type": "markdown",
   "metadata": {
    "colab_type": "text",
    "id": "Av68NSI5DMfR"
   },
   "source": [
    "Para plotear, quisiera tener dos listas. Puedo utilizar la que ya creamos anteriormente:"
   ]
  },
  {
   "cell_type": "code",
   "execution_count": 18,
   "metadata": {
    "colab": {},
    "colab_type": "code",
    "id": "KTNX3t2lDMfS"
   },
   "outputs": [],
   "source": [
    "lista1_x=[float(elemento[0]) for elemento in lista1]#Acá itero sobre lista1 invocando cada elemento [i,i^2] de la lista-\n",
    "lista1_y=[float(elemento[1]) for elemento in lista1]"
   ]
  },
  {
   "cell_type": "markdown",
   "metadata": {
    "colab_type": "text",
    "id": "kDPXiZGYDMfX"
   },
   "source": [
    "Para plottear puntos utilizo scatter, mientras que para unir con líneas y hacer un plot continuo utilizo plot. \n",
    "Jueguen con las opciones que hay en https://matplotlib.org/3.1.3/api/_as_gen/matplotlib.pyplot.scatter.html!\n"
   ]
  },
  {
   "cell_type": "code",
   "execution_count": 19,
   "metadata": {
    "colab": {
     "base_uri": "https://localhost:8080/",
     "height": 295
    },
    "colab_type": "code",
    "executionInfo": {
     "elapsed": 694,
     "status": "ok",
     "timestamp": 1583780645097,
     "user": {
      "displayName": "Ignacio Fabre",
      "photoUrl": "https://lh3.googleusercontent.com/a-/AOh14Gg7zSD7Nr148uG3EE-pBT8Q465capkzPkaSGwsEoM4=s64",
      "userId": "03651723443658892757"
     },
     "user_tz": 180
    },
    "id": "CGgqrsxlDMfZ",
    "outputId": "83489f13-c5fc-42fd-9433-5a61cfb795ab"
   },
   "outputs": [
    {
     "data": {
      "image/png": "[encoded data removed]",
      "text/plain": [
       "<Figure size 432x288 with 1 Axes>"
      ]
     },
     "metadata": {
      "needs_background": "light"
     },
     "output_type": "display_data"
    }
   ],
   "source": [
    "plt.scatter(lista1_x,lista1_y,marker='+',c='red', label='Lista 1 en scatter')\n",
    "plt.plot(lista1_x,lista1_y, c='yellow', label='Lista 1 en plot')\n",
    "plt.title('Una figura')\n",
    "plt.xlabel('x')\n",
    "plt.ylabel('y')\n",
    "plt.legend(loc='upper left')\n",
    "plt.xlim(0,101)\n",
    "plt.ylim(0,10001)\n",
    "plt.show()"
   ]
  },
  {
   "cell_type": "markdown",
   "metadata": {
    "colab_type": "text",
    "id": "JdNWriwlrxlA"
   },
   "source": [
    "Mas adelante haremos mas plots, ahora veamos omnipresente paquete de Numpy"
   ]
  },
  {
   "cell_type": "markdown",
   "metadata": {
    "colab_type": "text",
    "id": "JHFUNd0yDMff"
   },
   "source": [
    "# Numpy\n",
    "\n",
    "Numpy es una librería para aplicaciones numéricas. La convención es importarlo bajo la etiqueta \"np\""
   ]
  },
  {
   "cell_type": "code",
   "execution_count": 20,
   "metadata": {
    "colab": {},
    "colab_type": "code",
    "id": "16W0VYgZDMfh"
   },
   "outputs": [],
   "source": [
    "import numpy as np"
   ]
  },
  {
   "cell_type": "markdown",
   "metadata": {
    "colab_type": "text",
    "id": "C3bX4keB-pcm"
   },
   "source": [
    "## Arreglos"
   ]
  },
  {
   "cell_type": "markdown",
   "metadata": {
    "colab_type": "text",
    "id": "dABTXPKFDMfm"
   },
   "source": [
    "El elemento básico de Numpy es el array, o arreglo. Este, a diferencia de las listas, tiene un tamaño definido y todos los elementos son de un mismo tipo (por ejemplo, double, o string, para mezclar todos son seteados tipo Object). \n",
    "La perdida de flexibilidad, en comparación a las Listas nativas de Python, permiten utilizar algoritmos (escritos en C) de mucha mayor velocidad, y vectorizando cuando sea posible."
   ]
  },
  {
   "cell_type": "code",
   "execution_count": 21,
   "metadata": {
    "colab": {
     "base_uri": "https://localhost:8080/",
     "height": 51
    },
    "colab_type": "code",
    "executionInfo": {
     "elapsed": 589,
     "status": "ok",
     "timestamp": 1583780660458,
     "user": {
      "displayName": "Ignacio Fabre",
      "photoUrl": "https://lh3.googleusercontent.com/a-/AOh14Gg7zSD7Nr148uG3EE-pBT8Q465capkzPkaSGwsEoM4=s64",
      "userId": "03651723443658892757"
     },
     "user_tz": 180
    },
    "id": "MTaTBOefDMfo",
    "outputId": "88bd2cee-8c9f-44c6-bd0d-3cdf81a91c93"
   },
   "outputs": [
    {
     "name": "stdout",
     "output_type": "stream",
     "text": [
      "[0. 1. 2. 3.]\n"
     ]
    },
    {
     "data": {
      "text/plain": [
       "array([0., 1., 4., 9.])"
      ]
     },
     "execution_count": 21,
     "metadata": {},
     "output_type": "execute_result"
    }
   ],
   "source": [
    "# Creamos un array de zeros:\n",
    "array1=np.zeros(4)\n",
    "for i in range(4):\n",
    "    array1[i]=i\n",
    "print(array1)\n",
    "#y podemos realizar operaciones en el\n",
    "array1**2"
   ]
  },
  {
   "cell_type": "markdown",
   "metadata": {
    "colab_type": "text",
    "id": "FfuES-EKnzrz"
   },
   "source": [
    "Este loop para inicializarlo es en realidad innecesario, Numpy ofrece muchas formas para inicializar arreglos, para todos los gustos:\n",
    "\n"
   ]
  },
  {
   "cell_type": "code",
   "execution_count": 22,
   "metadata": {
    "colab": {},
    "colab_type": "code",
    "id": "95o72oKIn2cj"
   },
   "outputs": [],
   "source": [
    "array_aux = np.linspace(0,10,100) #da 100 numeros equiespaciados entre 0 y 10. Útil para hacer binneados.\n",
    "array_aux = np.arange(0,10,0.1) #da un array definido entre 0 y 10 con paso de 0.1. Tambien es útil para hacer binneados.\n",
    "array_aux = np.array([1,2,4])   # [1,2,4]\n",
    "array_aux = np.arange(1,15,2)   # [1,3,5,7,9,11,13,15]\n",
    "array_aux = np.linspace(0,1,6)  # [0.0,0.2,0.4,0.6,0.8,1.0]\n",
    "array_aux = np.empty((1,3))                   # array vacio de 1x3\n",
    "array_aux = np.zeros((2,5,3))                 # array de ceros de 2x5x3\n",
    "array_aux = np.ones((3,3))                    # array de unos de 3x3\n",
    "array_aux = np.eye(4)                         # matriz identidad de 4x4\n",
    "array_aux = np.identity(4)                    # matriz identidad de 4x4\n",
    "array_aux = np.diag(np.array([1,2,3,4]))      # matriz diagonal con [a1,a2,a3,a4] los elementos de la diagonal\n",
    "array_aux = np.diag(np.array([1,2,3,4]),k=-1) # matriz con [a1,a2,a3,a4] valores abajo de la diagonal\n",
    "array_aux = np.diag(np.array([1,2,3,4]),k=2)  # matriz con [a1,a2,a3,a4] valores en la segunda fila superior de la diagonal"
   ]
  },
  {
   "cell_type": "markdown",
   "metadata": {
    "colab_type": "text",
    "id": "AFyfsUDCFa-e"
   },
   "source": [
    "Todos los elementos de un Numpy array tienen un mismo tipo, lo cual permite (junto a la longitud fija) realizar operaciones mucho mas rápido, paralelizando cuando sea posible (siempre que se pueda escribir la operacion en forma vectorial, la implementación nativa de numpy paralelizará y sera la forma mas eficiente de realizarlo)"
   ]
  },
  {
   "cell_type": "code",
   "execution_count": 23,
   "metadata": {
    "colab": {
     "base_uri": "https://localhost:8080/",
     "height": 102
    },
    "colab_type": "code",
    "executionInfo": {
     "elapsed": 6888,
     "status": "ok",
     "timestamp": 1583701525939,
     "user": {
      "displayName": "Ignacio Fabre",
      "photoUrl": "https://lh3.googleusercontent.com/a-/AOh14Gg7zSD7Nr148uG3EE-pBT8Q465capkzPkaSGwsEoM4=s64",
      "userId": "03651723443658892757"
     },
     "user_tz": 180
    },
    "id": "rv_HoCaDC7Zs",
    "outputId": "b67933c2-b83f-426a-cb19-747e153a33b4"
   },
   "outputs": [
    {
     "name": "stdout",
     "output_type": "stream",
     "text": [
      "Python puro:\n",
      "238 µs ± 42 µs per loop (mean ± std. dev. of 7 runs, 1000 loops each)\n",
      "Usando Numpy:\n",
      "994 ns ± 103 ns per loop (mean ± std. dev. of 7 runs, 1000000 loops each)\n"
     ]
    }
   ],
   "source": [
    "#vamos a comprar la velocidad para sumar elemento a elemento, dos vectores\n",
    "#en Python puro usamos listas, y con Numpy arreglos:\n",
    "size_of_vec = 1000\n",
    "X_list = range(size_of_vec)\n",
    "Y_list = range(size_of_vec)\n",
    "X = np.arange(size_of_vec)\n",
    "Y = np.arange(size_of_vec)\n",
    "\n",
    "def pure_python_version():\n",
    "    Z = [X_list[i] + Y_list[i] for i in range(len(X_list)) ]\n",
    "\n",
    "def numpy_version():\n",
    "    Z = X + Y\n",
    "\n",
    "print(\"Python puro:\")\n",
    "%timeit pure_python_version()\n",
    "print(\"Usando Numpy:\")\n",
    "%timeit numpy_version() #100 veces mas rapido que en listas"
   ]
  },
  {
   "cell_type": "markdown",
   "metadata": {
    "colab_type": "text",
    "id": "T2U-P0WLDMf2"
   },
   "source": [
    "Los arreglos de Numpy traen de forma nativa, muchos métodos útiles:"
   ]
  },
  {
   "cell_type": "code",
   "execution_count": null,
   "metadata": {
    "colab": {
     "base_uri": "https://localhost:8080/",
     "height": 136
    },
    "colab_type": "code",
    "executionInfo": {
     "elapsed": 951,
     "status": "ok",
     "timestamp": 1583701551255,
     "user": {
      "displayName": "Ignacio Fabre",
      "photoUrl": "https://lh3.googleusercontent.com/a-/AOh14Gg7zSD7Nr148uG3EE-pBT8Q465capkzPkaSGwsEoM4=s64",
      "userId": "03651723443658892757"
     },
     "user_tz": 180
    },
    "id": "OoqIufxaDMf4",
    "outputId": "a082a3cd-fb89-4f4a-e4e7-3119212b2584"
   },
   "outputs": [],
   "source": [
    "print(array1.sum())#suma de elementos\n",
    "print(array1.shape)#shape del array\n",
    "print(array1.min())\n",
    "print(np.exp(array1))\n",
    "print(np.cos(array1))\n",
    "print(array_aux.max(axis=0))\n",
    "print(array_aux.max(axis=1))\n",
    "#print(array_aux)\n",
    "#print(array_aux.reshape(36,1))\n",
    "#print(array_aux.ravel())\n",
    "#print(array_aux.T)\n"
   ]
  },
  {
   "cell_type": "markdown",
   "metadata": {
    "colab_type": "text",
    "id": "GP0MIL7xDMf8"
   },
   "source": [
    "Podemos leer el archivo que creamos anteriormente y plotearlo:"
   ]
  },
  {
   "cell_type": "code",
   "execution_count": 24,
   "metadata": {
    "colab": {
     "base_uri": "https://localhost:8080/",
     "height": 102
    },
    "colab_type": "code",
    "executionInfo": {
     "elapsed": 810,
     "status": "ok",
     "timestamp": 1583780805593,
     "user": {
      "displayName": "Ignacio Fabre",
      "photoUrl": "https://lh3.googleusercontent.com/a-/AOh14Gg7zSD7Nr148uG3EE-pBT8Q465capkzPkaSGwsEoM4=s64",
      "userId": "03651723443658892757"
     },
     "user_tz": 180
    },
    "id": "QPCCvmXDDMgA",
    "outputId": "13eae6cc-d959-44f6-e4ab-1aed596fbfba"
   },
   "outputs": [
    {
     "name": "stdout",
     "output_type": "stream",
     "text": [
      "(100, 2)\n",
      "[[ 2.  4.]\n",
      " [ 3.  9.]\n",
      " [ 4. 16.]]\n",
      "(2,)\n"
     ]
    }
   ],
   "source": [
    "array1 = np.loadtxt(\"archivo_1.txt\")\n",
    "print(np.shape(array1))\n",
    "print(array1[2:5])\n",
    "print(array1[0].shape)"
   ]
  },
  {
   "cell_type": "markdown",
   "metadata": {
    "colab_type": "text",
    "id": "z50PmVZbDMgE"
   },
   "source": [
    "Como vemos, tenemos cien pares de elementos. Si accedo a un elemento del array, es un array con dos elementos: X e Y. Para plotear es más cómodo tener la lista de todos los X y todos los Y. Es bueno que Numpy nos permita transponer el arreglo:"
   ]
  },
  {
   "cell_type": "code",
   "execution_count": 25,
   "metadata": {
    "colab": {
     "base_uri": "https://localhost:8080/",
     "height": 312
    },
    "colab_type": "code",
    "executionInfo": {
     "elapsed": 731,
     "status": "ok",
     "timestamp": 1583780855461,
     "user": {
      "displayName": "Ignacio Fabre",
      "photoUrl": "https://lh3.googleusercontent.com/a-/AOh14Gg7zSD7Nr148uG3EE-pBT8Q465capkzPkaSGwsEoM4=s64",
      "userId": "03651723443658892757"
     },
     "user_tz": 180
    },
    "id": "5CnpKuKtDMgG",
    "outputId": "f630f6cf-daeb-44e8-88bd-54d5b278fc99"
   },
   "outputs": [
    {
     "name": "stdout",
     "output_type": "stream",
     "text": [
      "(2, 100)\n"
     ]
    },
    {
     "data": {
      "image/png": "[encoded data removed]",
      "text/plain": [
       "<Figure size 432x288 with 1 Axes>"
      ]
     },
     "metadata": {
      "needs_background": "light"
     },
     "output_type": "display_data"
    }
   ],
   "source": [
    "array1_T=array1.T\n",
    "print(np.shape(array1_T))\n",
    "plt.scatter(array1_T[0],array1_T[1],marker='+',c='red', label='Array 1')\n",
    "plt.title('Una figura')\n",
    "plt.xlabel('x')\n",
    "plt.ylabel('y')\n",
    "plt.legend(loc='upper left')\n",
    "plt.xlim(0,101)\n",
    "plt.ylim(0,10001)\n",
    "plt.show()"
   ]
  },
  {
   "cell_type": "markdown",
   "metadata": {
    "colab_type": "text",
    "id": "qtvHRI4J-LOi"
   },
   "source": [
    "## Tomar pedazos de un arreglo: Indexing, Slicing y Máscaras"
   ]
  },
  {
   "cell_type": "markdown",
   "metadata": {
    "colab_type": "text",
    "id": "1JplpmAc-uZv"
   },
   "source": [
    "Python tiene una forma de acceder a elementos de una Lista conocida como _Slicing_ ( que sería algo así como _rebanar_ o _fetear_) seleccionando de la forma `inicio:final:paso`, o solamente `inicio:final` para usar un `paso=1` (nota, es inclusivo en el indice de inicio pero exclusivo en el de final)"
   ]
  },
  {
   "cell_type": "code",
   "execution_count": 26,
   "metadata": {
    "colab": {
     "base_uri": "https://localhost:8080/",
     "height": 102
    },
    "colab_type": "code",
    "executionInfo": {
     "elapsed": 1059,
     "status": "ok",
     "timestamp": 1583702129203,
     "user": {
      "displayName": "Ignacio Fabre",
      "photoUrl": "https://lh3.googleusercontent.com/a-/AOh14Gg7zSD7Nr148uG3EE-pBT8Q465capkzPkaSGwsEoM4=s64",
      "userId": "03651723443658892757"
     },
     "user_tz": 180
    },
    "id": "_ZkNwwJh_Q-6",
    "outputId": "07bc62f0-5ab5-4402-a8b7-6fc67cf1ad47"
   },
   "outputs": [
    {
     "name": "stdout",
     "output_type": "stream",
     "text": [
      "[0, 1, 2, 3, 4, 5, 6, 7, 8, 9, 10, 11, 12, 13, 14, 15, 16, 17, 18, 19]\n",
      "[1, 2, 3, 4]\n",
      "[0, 2, 4, 6, 8]\n",
      "[17, 18]\n",
      "[17, 18, 19]\n"
     ]
    }
   ],
   "source": [
    "lista_1 = list(range(20))\n",
    "print(lista_1)\n",
    "print(lista_1[1:5])\n",
    "print(lista_1[0:10:2]) # de dos en dos\n",
    "print(lista_1[-3:-1]) #Numeros negativos comienzan desde el final\n",
    "print(lista_1[-3:]) #Ningun numero, es el default"
   ]
  },
  {
   "cell_type": "markdown",
   "metadata": {
    "colab_type": "text",
    "id": "b_7LKKUXAfcr"
   },
   "source": [
    "Numpy extiende esta noción para arrays de más de una dimensión. El slice de cada dimensión se separa con coma."
   ]
  },
  {
   "cell_type": "code",
   "execution_count": 27,
   "metadata": {
    "colab": {
     "base_uri": "https://localhost:8080/",
     "height": 119
    },
    "colab_type": "code",
    "executionInfo": {
     "elapsed": 1120,
     "status": "ok",
     "timestamp": 1583703135188,
     "user": {
      "displayName": "Ignacio Fabre",
      "photoUrl": "https://lh3.googleusercontent.com/a-/AOh14Gg7zSD7Nr148uG3EE-pBT8Q465capkzPkaSGwsEoM4=s64",
      "userId": "03651723443658892757"
     },
     "user_tz": 180
    },
    "id": "9OAP97HFAlSu",
    "outputId": "dedb7ecd-24c5-4735-f5cb-f952600075b8"
   },
   "outputs": [
    {
     "name": "stdout",
     "output_type": "stream",
     "text": [
      "(5, 7)\n"
     ]
    },
    {
     "data": {
      "text/plain": [
       "array([[ 0,  1,  2,  3,  4,  5,  6],\n",
       "       [ 7,  8,  9, 10, 11, 12, 13],\n",
       "       [14, 15, 16, 17, 18, 19, 20],\n",
       "       [21, 22, 23, 24, 25, 26, 27],\n",
       "       [28, 29, 30, 31, 32, 33, 34]])"
      ]
     },
     "execution_count": 27,
     "metadata": {},
     "output_type": "execute_result"
    }
   ],
   "source": [
    "a = np.arange(35).reshape(5,7)\n",
    "print(a.shape)\n",
    "a"
   ]
  },
  {
   "cell_type": "code",
   "execution_count": 28,
   "metadata": {
    "colab": {
     "base_uri": "https://localhost:8080/",
     "height": 34
    },
    "colab_type": "code",
    "executionInfo": {
     "elapsed": 1000,
     "status": "ok",
     "timestamp": 1583703310085,
     "user": {
      "displayName": "Ignacio Fabre",
      "photoUrl": "https://lh3.googleusercontent.com/a-/AOh14Gg7zSD7Nr148uG3EE-pBT8Q465capkzPkaSGwsEoM4=s64",
      "userId": "03651723443658892757"
     },
     "user_tz": 180
    },
    "id": "jB_u1A6uBYIO",
    "outputId": "1cb84318-d983-4870-95d5-91c71c30d611"
   },
   "outputs": [
    {
     "data": {
      "text/plain": [
       "11"
      ]
     },
     "execution_count": 28,
     "metadata": {},
     "output_type": "execute_result"
    }
   ],
   "source": [
    "#Toma el elemento en la fila 1 y columna 4 (numeracion empieza en 0)\n",
    "a[1,4]"
   ]
  },
  {
   "cell_type": "code",
   "execution_count": 29,
   "metadata": {
    "colab": {
     "base_uri": "https://localhost:8080/",
     "height": 51
    },
    "colab_type": "code",
    "executionInfo": {
     "elapsed": 989,
     "status": "ok",
     "timestamp": 1583703231752,
     "user": {
      "displayName": "Ignacio Fabre",
      "photoUrl": "https://lh3.googleusercontent.com/a-/AOh14Gg7zSD7Nr148uG3EE-pBT8Q465capkzPkaSGwsEoM4=s64",
      "userId": "03651723443658892757"
     },
     "user_tz": 180
    },
    "id": "qm_38UEaCl3U",
    "outputId": "47e3dc9e-59a7-4e31-cb5e-ba0bb26fba92"
   },
   "outputs": [
    {
     "data": {
      "text/plain": [
       "array([[ 7, 10, 13],\n",
       "       [21, 24, 27]])"
      ]
     },
     "execution_count": 29,
     "metadata": {},
     "output_type": "execute_result"
    }
   ],
   "source": [
    "# selecciona las filas desde 1 a 5, con paso de 2 (es decir filas 1 y 3), \n",
    "# y las columnas desde 0 hasta 7, con un paso de 3 (es decir columnas 0,3 y 6)\n",
    "a[1:5:2,::3] "
   ]
  },
  {
   "cell_type": "markdown",
   "metadata": {
    "colab_type": "text",
    "id": "KdZUCSsKFU4w"
   },
   "source": [
    "Además de hacer slicing, también podemos usar Fancy-Indexing, por ejemplo utilizar una lista de enteros para seleccionar los elementos que queremos:"
   ]
  },
  {
   "cell_type": "code",
   "execution_count": 30,
   "metadata": {
    "colab": {
     "base_uri": "https://localhost:8080/",
     "height": 51
    },
    "colab_type": "code",
    "executionInfo": {
     "elapsed": 1025,
     "status": "ok",
     "timestamp": 1583703671683,
     "user": {
      "displayName": "Ignacio Fabre",
      "photoUrl": "https://lh3.googleusercontent.com/a-/AOh14Gg7zSD7Nr148uG3EE-pBT8Q465capkzPkaSGwsEoM4=s64",
      "userId": "03651723443658892757"
     },
     "user_tz": 180
    },
    "id": "WwUsxLQrFhzz",
    "outputId": "c03c22d8-9e13-4fca-ff03-d4b4061d48ae"
   },
   "outputs": [
    {
     "name": "stdout",
     "output_type": "stream",
     "text": [
      "[ 7  8  9 10 11 12 13 14 15 16]\n"
     ]
    },
    {
     "data": {
      "text/plain": [
       "array([ 8, 12, 14])"
      ]
     },
     "execution_count": 30,
     "metadata": {},
     "output_type": "execute_result"
    }
   ],
   "source": [
    "a = np.arange(10) + 7\n",
    "print(a)\n",
    "a[[1,5,7]] #selecciona los elementos 1, 5 y 7 de la lista"
   ]
  },
  {
   "cell_type": "markdown",
   "metadata": {
    "colab_type": "text",
    "id": "AX-jdmTnHArF"
   },
   "source": [
    "En muchas dimensiones, pasamos una lista por cada dimensión. Cada lista contiene las coordenadas del los que queremos en esa direccion. Así, en una matriz (array bidimensional), debemos pasar dos listas de enteros [a1,b1,c1,...] y [a2,b2,c2,...], y nos devolverá una lista con los elementos en las posiciones (a1,a2), (b1,b2), (c1,c2), ..."
   ]
  },
  {
   "cell_type": "code",
   "execution_count": 31,
   "metadata": {
    "colab": {
     "base_uri": "https://localhost:8080/",
     "height": 119
    },
    "colab_type": "code",
    "executionInfo": {
     "elapsed": 1493,
     "status": "ok",
     "timestamp": 1583704018909,
     "user": {
      "displayName": "Ignacio Fabre",
      "photoUrl": "https://lh3.googleusercontent.com/a-/AOh14Gg7zSD7Nr148uG3EE-pBT8Q465capkzPkaSGwsEoM4=s64",
      "userId": "03651723443658892757"
     },
     "user_tz": 180
    },
    "id": "u2TCwaXxGG-y",
    "outputId": "ad648b91-9449-42c6-c47d-a41abd885105"
   },
   "outputs": [
    {
     "name": "stdout",
     "output_type": "stream",
     "text": [
      "[[ 0  1  2  3  4  5  6]\n",
      " [ 7  8  9 10 11 12 13]\n",
      " [14 15 16 17 18 19 20]\n",
      " [21 22 23 24 25 26 27]\n",
      " [28 29 30 31 32 33 34]]\n"
     ]
    },
    {
     "data": {
      "text/plain": [
       "array([ 9, 33])"
      ]
     },
     "execution_count": 31,
     "metadata": {},
     "output_type": "execute_result"
    }
   ],
   "source": [
    "a = np.arange(35).reshape(5,7)\n",
    "print(a)\n",
    "#Por ejemplo, el elemento en la fila 1 columna 2, y el elemento en la fila 4 y columna 5, se obtienen así:\n",
    "a[[1,4],[2,5]] "
   ]
  },
  {
   "cell_type": "markdown",
   "metadata": {
    "colab_type": "text",
    "id": "fI5iItdmHatA"
   },
   "source": [
    "También podemos usar *máscaras* para seleccionar pedazos de nuestros arrays. Estos son siemplemente listas booleanas, que devuelven los elementos que marcamos con `True`."
   ]
  },
  {
   "cell_type": "code",
   "execution_count": 32,
   "metadata": {
    "colab": {
     "base_uri": "https://localhost:8080/",
     "height": 68
    },
    "colab_type": "code",
    "executionInfo": {
     "elapsed": 1363,
     "status": "ok",
     "timestamp": 1583704221863,
     "user": {
      "displayName": "Ignacio Fabre",
      "photoUrl": "https://lh3.googleusercontent.com/a-/AOh14Gg7zSD7Nr148uG3EE-pBT8Q465capkzPkaSGwsEoM4=s64",
      "userId": "03651723443658892757"
     },
     "user_tz": 180
    },
    "id": "rcWCi_IDHaLE",
    "outputId": "05b49dd9-6060-4497-f738-3a694794259e"
   },
   "outputs": [
    {
     "name": "stdout",
     "output_type": "stream",
     "text": [
      "[ 8 12 14]\n"
     ]
    }
   ],
   "source": [
    "#el mismo ejemplo de antes\n",
    "a = np.arange(10) + 7\n",
    "print(a[[False,True,False,False,False,True,False,True,False,False]])"
   ]
  },
  {
   "cell_type": "code",
   "execution_count": 33,
   "metadata": {
    "colab": {
     "base_uri": "https://localhost:8080/",
     "height": 68
    },
    "colab_type": "code",
    "executionInfo": {
     "elapsed": 1318,
     "status": "ok",
     "timestamp": 1583704257182,
     "user": {
      "displayName": "Ignacio Fabre",
      "photoUrl": "https://lh3.googleusercontent.com/a-/AOh14Gg7zSD7Nr148uG3EE-pBT8Q465capkzPkaSGwsEoM4=s64",
      "userId": "03651723443658892757"
     },
     "user_tz": 180
    },
    "id": "QEBy7NtcIMny",
    "outputId": "7fb415fb-0f75-4a9c-ad65-144132126021"
   },
   "outputs": [
    {
     "name": "stdout",
     "output_type": "stream",
     "text": [
      "[ 7  8  9 10 11 12 13 14 15 16]\n",
      "[ True  True  True  True False False False False False False]\n"
     ]
    },
    {
     "data": {
      "text/plain": [
       "array([ 7,  8,  9, 10])"
      ]
     },
     "execution_count": 33,
     "metadata": {},
     "output_type": "execute_result"
    }
   ],
   "source": [
    "#puede ser util para aplicar filtros:\n",
    "print(a)\n",
    "print(a<11)\n",
    "a[a<11]"
   ]
  },
  {
   "cell_type": "markdown",
   "metadata": {
    "colab_type": "text",
    "id": "YQs3ux7YJH3-"
   },
   "source": [
    "# Numpy.Random y más visualización\n",
    "\n",
    "Numpy permite samplear números seudo-aleatoreos utilizando `numpy.random` ."
   ]
  },
  {
   "cell_type": "code",
   "execution_count": 34,
   "metadata": {
    "colab": {},
    "colab_type": "code",
    "id": "WVWXRIXMK5UL"
   },
   "outputs": [],
   "source": [
    "from numpy import random"
   ]
  },
  {
   "cell_type": "markdown",
   "metadata": {
    "colab_type": "text",
    "id": "dOSybirmJ7KA"
   },
   "source": [
    "La generación de números pseudo-aleatorios se realiza mediante un algoritmo determinista, diseñado para que la correlación entre números cercanos en la secuencia que devuelve sea lo más baja posible. La secuencia es generada a partir de un número inicial, _semilla_ o _seed_. Al ser determinista, partiendo del mismo seed obtendríamos siempre la misma secuencia, algo que útil para tener reproducibilidad al experimentar. Las formas de hacerlo son:"
   ]
  },
  {
   "cell_type": "code",
   "execution_count": 35,
   "metadata": {
    "colab": {
     "base_uri": "https://localhost:8080/",
     "height": 34
    },
    "colab_type": "code",
    "executionInfo": {
     "elapsed": 643,
     "status": "ok",
     "timestamp": 1583780893521,
     "user": {
      "displayName": "Ignacio Fabre",
      "photoUrl": "https://lh3.googleusercontent.com/a-/AOh14Gg7zSD7Nr148uG3EE-pBT8Q465capkzPkaSGwsEoM4=s64",
      "userId": "03651723443658892757"
     },
     "user_tz": 180
    },
    "id": "PT3Z-aHYKCeY",
    "outputId": "6f32f275-ad4e-4a37-f9c5-6d2e27e8e8dc"
   },
   "outputs": [
    {
     "name": "stdout",
     "output_type": "stream",
     "text": [
      "[0.69646919 0.28613933 0.22685145 0.55131477 0.71946897]\n"
     ]
    }
   ],
   "source": [
    "random.seed(123)\n",
    "print(random.rand(5))"
   ]
  },
  {
   "cell_type": "code",
   "execution_count": null,
   "metadata": {
    "colab": {
     "base_uri": "https://localhost:8080/",
     "height": 51
    },
    "colab_type": "code",
    "executionInfo": {
     "elapsed": 1047,
     "status": "ok",
     "timestamp": 1583704775787,
     "user": {
      "displayName": "Ignacio Fabre",
      "photoUrl": "https://lh3.googleusercontent.com/a-/AOh14Gg7zSD7Nr148uG3EE-pBT8Q465capkzPkaSGwsEoM4=s64",
      "userId": "03651723443658892757"
     },
     "user_tz": 180
    },
    "id": "G2C2aECTKMXp",
    "jupyter": {
     "source_hidden": true
    },
    "outputId": "ba318e04-681a-4a3c-f71f-968ef29855cd"
   },
   "outputs": [],
   "source": [
    "print(random.rand(5))\n",
    "random.seed(123)\n",
    "print(random.rand(5))"
   ]
  },
  {
   "cell_type": "markdown",
   "metadata": {
    "colab_type": "text",
    "id": "qgxBh3QZKkJl"
   },
   "source": [
    "Esta es la forma más práctica y facil de setear el Seed. Sin embargo, numpy permite guardar el estado del generador en una variable, para cambiar o retomar un generador con un determinado Seed. Por esto, la forma más convencional hoy en día es utilizar algo como lo que sigue:"
   ]
  },
  {
   "cell_type": "code",
   "execution_count": 36,
   "metadata": {
    "colab": {
     "base_uri": "https://localhost:8080/",
     "height": 68
    },
    "colab_type": "code",
    "executionInfo": {
     "elapsed": 761,
     "status": "ok",
     "timestamp": 1583780965235,
     "user": {
      "displayName": "Ignacio Fabre",
      "photoUrl": "https://lh3.googleusercontent.com/a-/AOh14Gg7zSD7Nr148uG3EE-pBT8Q465capkzPkaSGwsEoM4=s64",
      "userId": "03651723443658892757"
     },
     "user_tz": 180
    },
    "id": "2l90aN6HKzUZ",
    "outputId": "f830d775-01b3-4e7e-ae04-93dc237fec8e"
   },
   "outputs": [
    {
     "name": "stdout",
     "output_type": "stream",
     "text": [
      "[0.75884332 0.5025744  0.57290619 0.90773476 0.36817936]\n",
      "[0.62570411 0.64352302 0.31984272 0.98202291 0.39570808]\n",
      "[0.75884332 0.5025744  0.57290619 0.90773476 0.36817936]\n"
     ]
    }
   ],
   "source": [
    "from numpy.random import RandomState, SeedSequence\n",
    "rs = RandomState(random.MT19937(SeedSequence(123)))\n",
    "print(rs.rand(5,))\n",
    "print(rs.rand(5,))\n",
    "# Luego, para retomar el estado:\n",
    "rs = RandomState(random.MT19937(SeedSequence(123)))\n",
    "print(rs.rand(5,))"
   ]
  },
  {
   "cell_type": "code",
   "execution_count": 37,
   "metadata": {
    "colab": {
     "base_uri": "https://localhost:8080/",
     "height": 51
    },
    "colab_type": "code",
    "executionInfo": {
     "elapsed": 1274,
     "status": "ok",
     "timestamp": 1583705053150,
     "user": {
      "displayName": "Ignacio Fabre",
      "photoUrl": "https://lh3.googleusercontent.com/a-/AOh14Gg7zSD7Nr148uG3EE-pBT8Q465capkzPkaSGwsEoM4=s64",
      "userId": "03651723443658892757"
     },
     "user_tz": 180
    },
    "id": "_96teeMULTxw",
    "outputId": "062ded53-b338-40a1-a8b7-bb25e68f1103"
   },
   "outputs": [
    {
     "name": "stdout",
     "output_type": "stream",
     "text": [
      "[0.62570411 0.64352302 0.31984272 0.98202291 0.39570808]\n",
      "[0.75884332 0.5025744  0.57290619 0.90773476 0.36817936]\n"
     ]
    }
   ],
   "source": [
    "#y podemos definir mas estados:\n",
    "rs2 = RandomState(random.MT19937(SeedSequence(123)))\n",
    "print(rs.rand(5,))\n",
    "print(rs2.rand(5,))"
   ]
  },
  {
   "cell_type": "markdown",
   "metadata": {
    "colab_type": "text",
    "id": "zHTcDWvKoqv5"
   },
   "source": [
    "Hay muchas maneras de inicializar arrays random"
   ]
  },
  {
   "cell_type": "code",
   "execution_count": 38,
   "metadata": {
    "colab": {},
    "colab_type": "code",
    "id": "XdTeDlMWouZF"
   },
   "outputs": [],
   "source": [
    "array_aux = random.rand(4)             # array de 4 elementos en el intervalo [0,1)\n",
    "array_aux = random.rand(4,3)           # array de 4x3 elementos en el intervalo [0,1)\n",
    "array_aux = random.randint(1,3,(2,3))  # array  de 2x3 elementos en el intervalo [1,3)\n",
    "array_aux = random.randn(4,5)          # array de 4x5 de elementos sampleados de la normal\n",
    "array_aux = random.poisson(3,5)        # array de 5 elementos sampleandos de una dist. de Poisson con media 3"
   ]
  },
  {
   "cell_type": "markdown",
   "metadata": {
    "colab_type": "text",
    "id": "jYzAmv79LkPA"
   },
   "source": [
    "## Visualizaciones"
   ]
  },
  {
   "cell_type": "markdown",
   "metadata": {
    "colab_type": "text",
    "id": "Dbjl2v7zJIiz"
   },
   "source": [
    "Hagamos algunos plots, usando estos numeros aleatorios:"
   ]
  },
  {
   "cell_type": "code",
   "execution_count": 39,
   "metadata": {
    "colab": {
     "base_uri": "https://localhost:8080/",
     "height": 910
    },
    "colab_type": "code",
    "executionInfo": {
     "elapsed": 1425,
     "status": "ok",
     "timestamp": 1583781065280,
     "user": {
      "displayName": "Ignacio Fabre",
      "photoUrl": "https://lh3.googleusercontent.com/a-/AOh14Gg7zSD7Nr148uG3EE-pBT8Q465capkzPkaSGwsEoM4=s64",
      "userId": "03651723443658892757"
     },
     "user_tz": 180
    },
    "id": "0O56iMIzDMgL",
    "outputId": "11eefa3f-97f1-4f7c-c7b4-04047d2ebbde"
   },
   "outputs": [
    {
     "name": "stderr",
     "output_type": "stream",
     "text": [
      "No handles with labels found to put in legend.\n"
     ]
    },
    {
     "data": {
      "image/png": "[encoded data removed]",
      "text/plain": [
       "<Figure size 1080x1080 with 2 Axes>"
      ]
     },
     "metadata": {
      "needs_background": "light"
     },
     "output_type": "display_data"
    }
   ],
   "source": [
    "fig, (ax1, ax2) = plt.subplots(2,1, figsize=(15,15)) #aqui genero una figura con dos subfiguras, referenciadas en la tupla (ax1, ax2)\n",
    "\n",
    "\n",
    "# Fixing random state for reproducibility\n",
    "rs = RandomState(random.MT19937(SeedSequence(123)))\n",
    "\n",
    "collection=[]\n",
    "\n",
    "for i in [100,1000,10000]:\n",
    "    random_numbers=rs.rand(i) # Creo i numeros aleatorios con distribución uniforme entre [0,1)\n",
    "    ax1.hist(random_numbers,histtype='step',label=\"N = \"+str(i),density='True')\n",
    "    collection.append(random_numbers)\n",
    "ax2.boxplot(collection, labels=['N = 100', 'N = 1000','N = 10000'])\n",
    "x=np.linspace(0,1,100)\n",
    "ax1.plot(x,np.ones(100),label='Truth', color='black')\n",
    "ax1.legend(loc='upper right')\n",
    "ax1.set_title(\"Distribución de probabilidad estimada con N tiradas\")\n",
    "ax1.set_xlabel('Variable aleatoria x')\n",
    "ax1.set_ylabel('n(x)/N')\n",
    "ax2.set_title(\"Boxplot estimado con N tiradas\")\n",
    "ax2.set_xlabel('Experimento')\n",
    "ax2.set_ylabel('Variable aleatoria x')\n",
    "ax2.legend(loc='upper right')\n",
    "fig.savefig(\"abc.png\")#Comando para guardar la figura. Guardamos ambos subplots en un mismo archivo\n",
    "\n",
    "#Aqui descargamos la figura\n",
    "#from google.colab import files\n",
    "#files.download(\"abc.png\")\n"
   ]
  },
  {
   "cell_type": "markdown",
   "metadata": {
    "colab_type": "text",
    "id": "LkbjqyHirq1u"
   },
   "source": [
    "Supongamos que quiero plottear algo con errores"
   ]
  },
  {
   "cell_type": "code",
   "execution_count": 40,
   "metadata": {
    "colab": {
     "base_uri": "https://localhost:8080/",
     "height": 282
    },
    "colab_type": "code",
    "executionInfo": {
     "elapsed": 806,
     "status": "ok",
     "timestamp": 1583781195837,
     "user": {
      "displayName": "Ignacio Fabre",
      "photoUrl": "https://lh3.googleusercontent.com/a-/AOh14Gg7zSD7Nr148uG3EE-pBT8Q465capkzPkaSGwsEoM4=s64",
      "userId": "03651723443658892757"
     },
     "user_tz": 180
    },
    "id": "VXWm4ZEBrt8T",
    "outputId": "3b034b73-6503-4edb-abcb-7b615358d5a6"
   },
   "outputs": [
    {
     "data": {
      "text/plain": [
       "<ErrorbarContainer object of 3 artists>"
      ]
     },
     "execution_count": 40,
     "metadata": {},
     "output_type": "execute_result"
    },
    {
     "data": {
      "image/png": "[encoded data removed]",
      "text/plain": [
       "<Figure size 432x288 with 1 Axes>"
      ]
     },
     "metadata": {
      "needs_background": "light"
     },
     "output_type": "display_data"
    }
   ],
   "source": [
    "x = np.arange(0, 2*np.pi, 0.1)\n",
    "yerr = 0.3\n",
    "noise = yerr * np.random.randn(*x.shape)\n",
    "y = np.sin(x) + noise\n",
    "plt.errorbar(x, y, yerr=yerr, fmt=\"o\")"
   ]
  },
  {
   "cell_type": "markdown",
   "metadata": {
    "colab_type": "text",
    "id": "rlvlcbLgJW2u"
   },
   "source": [
    "También podemos generar distribuciones multidimensionales y tratar de visualizarlas"
   ]
  },
  {
   "cell_type": "code",
   "execution_count": 41,
   "metadata": {
    "colab": {
     "base_uri": "https://localhost:8080/",
     "height": 1000
    },
    "colab_type": "code",
    "executionInfo": {
     "elapsed": 2465,
     "status": "ok",
     "timestamp": 1583781213359,
     "user": {
      "displayName": "Ignacio Fabre",
      "photoUrl": "https://lh3.googleusercontent.com/a-/AOh14Gg7zSD7Nr148uG3EE-pBT8Q465capkzPkaSGwsEoM4=s64",
      "userId": "03651723443658892757"
     },
     "user_tz": 180
    },
    "id": "0P_gBm2ZDMgT",
    "outputId": "112bc741-fa57-49f4-e385-545d02b0f9d4"
   },
   "outputs": [
    {
     "name": "stderr",
     "output_type": "stream",
     "text": [
      "/home/lucas/anaconda3/lib/python3.7/site-packages/ipykernel_launcher.py:20: UserWarning: Matplotlib is currently using module://ipykernel.pylab.backend_inline, which is a non-GUI backend, so cannot show the figure.\n",
      "/home/lucas/anaconda3/lib/python3.7/site-packages/ipykernel_launcher.py:20: UserWarning: Matplotlib is currently using module://ipykernel.pylab.backend_inline, which is a non-GUI backend, so cannot show the figure.\n",
      "/home/lucas/anaconda3/lib/python3.7/site-packages/ipykernel_launcher.py:20: UserWarning: Matplotlib is currently using module://ipykernel.pylab.backend_inline, which is a non-GUI backend, so cannot show the figure.\n"
     ]
    },
    {
     "data": {
      "image/png": "[encoded data removed]",
      "text/plain": [
       "<Figure size 1080x360 with 3 Axes>"
      ]
     },
     "metadata": {
      "needs_background": "light"
     },
     "output_type": "display_data"
    },
    {
     "data": {
      "image/png": "[encoded data removed]",
      "text/plain": [
       "<Figure size 1080x360 with 3 Axes>"
      ]
     },
     "metadata": {
      "needs_background": "light"
     },
     "output_type": "display_data"
    },
    {
     "data": {
      "image/png": "[encoded data removed]",
      "text/plain": [
       "<Figure size 1080x360 with 3 Axes>"
      ]
     },
     "metadata": {
      "needs_background": "light"
     },
     "output_type": "display_data"
    }
   ],
   "source": [
    "# Fixing random state for reproducibility\n",
    "random.seed(19680801)\n",
    "\n",
    "mean = [0, 1]\n",
    "cov = [[1, 0], [0, 2.5]]  # diagonal covariance\n",
    "\n",
    "for i in [100,1000,10000]:#Generamos pseudo experimentos y vemos que obtenemos\n",
    "  sampling = np.random.multivariate_normal(mean,cov,i) \n",
    "  x, y = sampling.T\n",
    "  fig, (ax1, ax2) = plt.subplots(1,2, figsize=(15,5)) #aqui genero una figura con dos subfiguras, referenciadas en la tupla (ax1, ax2)\n",
    "  ax1.plot(x, y, 'x')\n",
    "  counts, xedges, yedges, im =ax2.hist2d(x,y,density=True,cmap='plasma')\n",
    "  ax1.set_xlabel('x')\n",
    "  ax1.set_ylabel('y')\n",
    "  ax2.set_xlabel('x')\n",
    "  ax2.set_ylabel('y')\n",
    "  ax1.set_title('Eventos')\n",
    "  ax2.set_title('Densidad de probabilidad estimada (con binneado)')\n",
    "  plt.colorbar(im,ax=ax2)\n",
    "  fig.show()\n"
   ]
  },
  {
   "cell_type": "markdown",
   "metadata": {
    "colab_type": "text",
    "id": "TinljHVdOpb5"
   },
   "source": [
    "Veamos como visualizar la función de densidad verdadera. Aprovecho que la normal está descorrelacionada y armo una definición fácil"
   ]
  },
  {
   "cell_type": "code",
   "execution_count": 42,
   "metadata": {
    "colab": {},
    "colab_type": "code",
    "id": "y27QUakXRZK0"
   },
   "outputs": [],
   "source": [
    "def f(x, y, mu, cov):\n",
    "    return 1/(2*np.pi*cov[0][0]*cov[1][1]) * np.exp(-1/(2*cov[0][0]) *(x-mu[0])**2)* np.exp(-1/(2*cov[1][1]) *(y-mu[1])**2)"
   ]
  },
  {
   "cell_type": "code",
   "execution_count": 43,
   "metadata": {
    "colab": {
     "base_uri": "https://localhost:8080/",
     "height": 312
    },
    "colab_type": "code",
    "executionInfo": {
     "elapsed": 1686,
     "status": "ok",
     "timestamp": 1583781355065,
     "user": {
      "displayName": "Ignacio Fabre",
      "photoUrl": "https://lh3.googleusercontent.com/a-/AOh14Gg7zSD7Nr148uG3EE-pBT8Q465capkzPkaSGwsEoM4=s64",
      "userId": "03651723443658892757"
     },
     "user_tz": 180
    },
    "id": "i062qXSkWHC7",
    "outputId": "6f365f9e-8837-40e4-cd40-ac2466c35929"
   },
   "outputs": [
    {
     "data": {
      "text/plain": [
       "Text(0, 0.5, 'y')"
      ]
     },
     "execution_count": 43,
     "metadata": {},
     "output_type": "execute_result"
    },
    {
     "data": {
      "image/png": "[encoded data removed]",
      "text/plain": [
       "<Figure size 432x288 with 3 Axes>"
      ]
     },
     "metadata": {
      "needs_background": "light"
     },
     "output_type": "display_data"
    }
   ],
   "source": [
    "xb = np.linspace(-5, 5, 1000)\n",
    "yb = np.linspace(-5, 5, 1000)\n",
    "\n",
    "mu = [0, 1]\n",
    "cov = [[1, 0], [0, 2.5]]  # diagonal covariance\n",
    "\n",
    "X, Y = np.meshgrid(xb, yb)\n",
    "Z = f(X, Y,mu,cov)\n",
    "plt.contour(X, Y, Z,cmap='inferno');\n",
    "plt.colorbar()\n",
    "plt.hist2d(x,y,density=True,cmap='plasma');\n",
    "plt.colorbar()\n",
    "plt.title('Comparación entre estimado (binneado) y la verdadera distribución')\n",
    "plt.scatter(0,1,c='black',marker='+',label='True $\\mu$')\n",
    "plt.legend(loc='upper right')\n",
    "plt.xlabel('x')\n",
    "plt.ylabel('y')"
   ]
  },
  {
   "cell_type": "markdown",
   "metadata": {
    "colab_type": "text",
    "id": "Fxr9wHxhkSDr"
   },
   "source": [
    "Puedo guardar los eventos simulados utilizando numpy"
   ]
  },
  {
   "cell_type": "code",
   "execution_count": 44,
   "metadata": {
    "colab": {},
    "colab_type": "code",
    "id": "a_dyt6iWWKvL"
   },
   "outputs": [
    {
     "ename": "ModuleNotFoundError",
     "evalue": "No module named 'google.colab'",
     "output_type": "error",
     "traceback": [
      "\u001b[0;31m---------------------------------------------------------------------------\u001b[0m",
      "\u001b[0;31mModuleNotFoundError\u001b[0m                       Traceback (most recent call last)",
      "\u001b[0;32m<ipython-input-44-478afd4696ee>\u001b[0m in \u001b[0;36m<module>\u001b[0;34m\u001b[0m\n\u001b[0;32m----> 1\u001b[0;31m \u001b[0;32mfrom\u001b[0m \u001b[0mgoogle\u001b[0m\u001b[0;34m.\u001b[0m\u001b[0mcolab\u001b[0m \u001b[0;32mimport\u001b[0m \u001b[0mfiles\u001b[0m\u001b[0;34m\u001b[0m\u001b[0;34m\u001b[0m\u001b[0m\n\u001b[0m\u001b[1;32m      2\u001b[0m \u001b[0mnp\u001b[0m\u001b[0;34m.\u001b[0m\u001b[0msavetxt\u001b[0m\u001b[0;34m(\u001b[0m\u001b[0;34m\"archivo_2.txt\"\u001b[0m\u001b[0;34m,\u001b[0m\u001b[0msampling\u001b[0m\u001b[0;34m)\u001b[0m\u001b[0;31m#Utilizo sampling porque tiene la estructura que quiero.\u001b[0m\u001b[0;34m\u001b[0m\u001b[0;34m\u001b[0m\u001b[0m\n\u001b[1;32m      3\u001b[0m \u001b[0mfiles\u001b[0m\u001b[0;34m.\u001b[0m\u001b[0mdownload\u001b[0m\u001b[0;34m(\u001b[0m\u001b[0;34m\"archivo_2.txt\"\u001b[0m\u001b[0;34m)\u001b[0m\u001b[0;31m#Aqui descargamos el archivo\u001b[0m\u001b[0;34m\u001b[0m\u001b[0;34m\u001b[0m\u001b[0m\n",
      "\u001b[0;31mModuleNotFoundError\u001b[0m: No module named 'google.colab'"
     ]
    }
   ],
   "source": [
    "from google.colab import files\n",
    "np.savetxt(\"archivo_2.txt\",sampling)#Utilizo sampling porque tiene la estructura que quiero.\n",
    "files.download(\"archivo_2.txt\")#Aqui descargamos el archivo"
   ]
  },
  {
   "cell_type": "markdown",
   "metadata": {
    "colab_type": "text",
    "id": "SgrDVFysJiAi"
   },
   "source": [
    "# Lectura/Escritura"
   ]
  },
  {
   "cell_type": "code",
   "execution_count": null,
   "metadata": {
    "colab": {},
    "colab_type": "code",
    "id": "miDBTMo7NQGb"
   },
   "outputs": [],
   "source": [
    "#Si quieren montar su google drive para guardar archivos:\n",
    "#from google.colab import drive\n",
    "#drive.mount('/content/drive')\n",
    "\n",
    "#Sino, en Colab en la barra lateral izquierda, bajo el ícono de carpeta, tienen el sistema local de archivos"
   ]
  },
  {
   "cell_type": "markdown",
   "metadata": {
    "colab_type": "text",
    "id": "3Tr2arnaJj8w"
   },
   "source": [
    "Como ya vimos, podemos leer y escribir archivos en python básico con el comando Open. Este archivo puede ser de solo lectura, solo escritura o ambos."
   ]
  },
  {
   "cell_type": "code",
   "execution_count": null,
   "metadata": {
    "colab": {
     "base_uri": "https://localhost:8080/",
     "height": 54
    },
    "colab_type": "code",
    "executionInfo": {
     "elapsed": 899,
     "status": "ok",
     "timestamp": 1583689117822,
     "user": {
      "displayName": "Ignacio Fabre",
      "photoUrl": "https://lh3.googleusercontent.com/a-/AOh14Gg7zSD7Nr148uG3EE-pBT8Q465capkzPkaSGwsEoM4=s64",
      "userId": "03651723443658892757"
     },
     "user_tz": 180
    },
    "id": "7MzITEfvJi5V",
    "outputId": "52c77eae-c390-4fc0-f5d2-04d49d8a9c02"
   },
   "outputs": [],
   "source": [
    "archivo = open(\"cuadrados.csv\", \"r\") # abro el archivo en modo lectura\n",
    "tabla=[]\n",
    "for renglon in archivo:\n",
    "  tabla.append(renglon.split(\",\"))\n",
    "archivo.close()\n",
    "\n",
    "print(tabla)"
   ]
  },
  {
   "cell_type": "markdown",
   "metadata": {
    "colab_type": "text",
    "id": "xYBB06flNiwo"
   },
   "source": [
    "Vemos que requeriría algo de parsing para convertir estos string en numeros, quitar caracteres especiales como el de fin de linea '\\n'. \n",
    "Por suerte para nosotros, Numpy ya trae consigo metodos de lectura y escritura de arreglos con cantidad fija de elementos:"
   ]
  },
  {
   "cell_type": "code",
   "execution_count": null,
   "metadata": {
    "colab": {
     "base_uri": "https://localhost:8080/",
     "height": 153
    },
    "colab_type": "code",
    "executionInfo": {
     "elapsed": 859,
     "status": "ok",
     "timestamp": 1583689265461,
     "user": {
      "displayName": "Ignacio Fabre",
      "photoUrl": "https://lh3.googleusercontent.com/a-/AOh14Gg7zSD7Nr148uG3EE-pBT8Q465capkzPkaSGwsEoM4=s64",
      "userId": "03651723443658892757"
     },
     "user_tz": 180
    },
    "id": "nBkImu3KKDv7",
    "outputId": "a886d545-15f2-47e8-89ee-95fbaacbf5c6"
   },
   "outputs": [],
   "source": [
    "tabla = np.loadtxt(\"cuadrados.csv\", delimiter=',', skiprows=1)\n",
    "print(tabla.shape)\n",
    "print(tabla)"
   ]
  },
  {
   "cell_type": "code",
   "execution_count": null,
   "metadata": {
    "colab": {
     "base_uri": "https://localhost:8080/",
     "height": 136
    },
    "colab_type": "code",
    "executionInfo": {
     "elapsed": 929,
     "status": "ok",
     "timestamp": 1583689418205,
     "user": {
      "displayName": "Ignacio Fabre",
      "photoUrl": "https://lh3.googleusercontent.com/a-/AOh14Gg7zSD7Nr148uG3EE-pBT8Q465capkzPkaSGwsEoM4=s64",
      "userId": "03651723443658892757"
     },
     "user_tz": 180
    },
    "id": "jchv6LaPKMsQ",
    "outputId": "213afe99-bb53-4611-9299-be20b29ac098"
   },
   "outputs": [],
   "source": [
    "cubos = np.array([[i,i**3] for i in range(1000)])\n",
    "print(cubos)\n",
    "np.savetxt('cubos.csv',cubos, fmt='%.2f',delimiter=',', header='Numeros,Cubos')"
   ]
  },
  {
   "cell_type": "markdown",
   "metadata": {
    "colab_type": "text",
    "id": "OaM5inqXqMVW"
   },
   "source": [
    "Una función más completa que `np.loadtxt` es `np.genfromtxt`,la cual puede lidiar un poco mejor con entradas incompletas y campos con distintos tipos. Para saber más, pueden leer [de la excelente documentación de Numpy.](https://docs.scipy.org/doc/numpy/user/basics.io.genfromtxt.html)\n",
    "\n"
   ]
  },
  {
   "cell_type": "markdown",
   "metadata": {
    "colab_type": "text",
    "id": "HvCrpuiDquHn"
   },
   "source": [
    "# Pandas"
   ]
  },
  {
   "cell_type": "markdown",
   "metadata": {
    "colab_type": "text",
    "id": "ZfJ3xM7fqv35"
   },
   "source": [
    "Pandas es una librería construída sobre Numpy, que define estructuras y métodos para análisis de datos. Esta es particularmente útil para leer tablas con muchos campos de diferente naturaleza. A continuación haremos un repaso rápido:"
   ]
  },
  {
   "cell_type": "code",
   "execution_count": 45,
   "metadata": {
    "colab": {},
    "colab_type": "code",
    "id": "0Y8cT3RJLCLg"
   },
   "outputs": [],
   "source": [
    "import numpy as np # Como dijimos, está construido sobre Numpy así que lo importamos también\n",
    "import pandas as pd"
   ]
  },
  {
   "cell_type": "markdown",
   "metadata": {
    "colab_type": "text",
    "id": "CIEP5ErBtAoF"
   },
   "source": [
    "### Data Structures\n",
    "\n",
    "Las dos estructuras de datos importantes para conocer son Series, ~arrays unidimensionales como series de tiempo, y DataFrame, que es más como una tabla."
   ]
  },
  {
   "cell_type": "code",
   "execution_count": 46,
   "metadata": {
    "colab": {
     "base_uri": "https://localhost:8080/",
     "height": 408
    },
    "colab_type": "code",
    "executionInfo": {
     "elapsed": 976,
     "status": "ok",
     "timestamp": 1583698167225,
     "user": {
      "displayName": "Ignacio Fabre",
      "photoUrl": "https://lh3.googleusercontent.com/a-/AOh14Gg7zSD7Nr148uG3EE-pBT8Q465capkzPkaSGwsEoM4=s64",
      "userId": "03651723443658892757"
     },
     "user_tz": 180
    },
    "id": "2She8LXIMEmx",
    "outputId": "96cb0751-0095-498e-ba97-d6bd4ab7e315"
   },
   "outputs": [
    {
     "name": "stdout",
     "output_type": "stream",
     "text": [
      "\n",
      "Serie s:\n",
      " 0     1.0\n",
      "1     4.0\n",
      "2     5.0\n",
      "3     NaN\n",
      "4     8.0\n",
      "5    10.0\n",
      "dtype: float64\n",
      "\n",
      "Fechas:\n",
      " DatetimeIndex(['2020-01-01', '2020-01-02', '2020-01-03', '2020-01-04',\n",
      "               '2020-01-05', '2020-01-06'],\n",
      "              dtype='datetime64[ns]', freq='D')\n",
      "\n",
      "DataFrame df:\n",
      "                    A         B         C         D\n",
      "2020-01-01  0.212606  0.033901 -0.224882 -0.623957\n",
      "2020-01-02 -3.214014 -0.676984  0.709837 -1.137565\n",
      "2020-01-03  1.112392 -1.218608 -0.865856 -1.535425\n",
      "2020-01-04  0.922935 -0.398477  0.765289  1.965902\n",
      "2020-01-05 -1.241590  1.388280  0.700485 -0.278251\n",
      "2020-01-06 -0.745548 -2.228436 -0.986964 -0.745954\n"
     ]
    }
   ],
   "source": [
    "# Crearemos una Serie pasando una lista de valores, o un array de numpy\n",
    "s = pd.Series([1, 4, 5, np.nan, 8, 10])\n",
    "# Se puede imprimir, la primer columna es un índice y la segunda son los valores de la Serie.\n",
    "print(\"\\nSerie s:\\n\", s)\n",
    "\n",
    "# También podemos crear un DataFrame a partir de un array de Numpy de numeros aleatorios.\n",
    "# Lo haremos de 4 columnas, etiquetadas con letras, y como índice será una lista de fechas \n",
    "# (Pandas tiene un tipo especial para manejar fechas)\n",
    "fechas = pd.date_range(start=\"20200101\", periods=6)\n",
    "print(\"\\nFechas:\\n\", fechas)\n",
    "\n",
    "df = pd.DataFrame(np.random.randn(6, 4), index=fechas, columns=list('ABCD'))\n",
    "\n",
    "print(\"\\nDataFrame df:\\n\", df)\n"
   ]
  },
  {
   "cell_type": "code",
   "execution_count": 47,
   "metadata": {
    "colab": {
     "base_uri": "https://localhost:8080/",
     "height": 289
    },
    "colab_type": "code",
    "executionInfo": {
     "elapsed": 1053,
     "status": "ok",
     "timestamp": 1583698205624,
     "user": {
      "displayName": "Ignacio Fabre",
      "photoUrl": "https://lh3.googleusercontent.com/a-/AOh14Gg7zSD7Nr148uG3EE-pBT8Q465capkzPkaSGwsEoM4=s64",
      "userId": "03651723443658892757"
     },
     "user_tz": 180
    },
    "id": "XfM6tTAnt-kZ",
    "outputId": "daaf2d49-2329-499f-ddb0-8d9315d977db"
   },
   "outputs": [
    {
     "name": "stdout",
     "output_type": "stream",
     "text": [
      "\n",
      "DataFrame df2:\n",
      "      A          B    C  D      E    F\n",
      "0  1.0 2013-01-02  1.0  3   test  foo\n",
      "1  1.0 2013-01-02  1.0  3  train  foo\n",
      "2  1.0 2013-01-02  1.0  3   test  foo\n",
      "3  1.0 2013-01-02  1.0  3  train  foo\n",
      "\n",
      "Tipos de df2:\n",
      " A           float64\n",
      "B    datetime64[ns]\n",
      "C           float32\n",
      "D             int32\n",
      "E          category\n",
      "F            object\n",
      "dtype: object\n"
     ]
    }
   ],
   "source": [
    "# También podemos crear el DataFrame a partir de un diccionario de objetos que se puedan transformar en Series\n",
    "# (internamente, cada columna del DataFrame es una serie, y por lo tanto pueden tener tipos diferentes)\n",
    "# Todas las series deben ser del mismo tamaño, o en su defecto de un único elemento, que se convertirá en Serie constante\n",
    "df2 = pd.DataFrame({'A': 1.,\n",
    "                    'B': pd.Timestamp('20130102'),\n",
    "                    'C': pd.Series(1, index=list(range(4)), dtype='float32'),\n",
    "                    'D': np.array([3] * 4, dtype='int32'),\n",
    "                    'E': pd.Categorical([\"test\", \"train\", \"test\", \"train\"]),\n",
    "                    'F': 'foo'})\n",
    "\n",
    "print(\"\\nDataFrame df2:\\n\", df2)\n",
    "\n",
    "# Podemos examinar los tipos que tiene cada columna\n",
    "print(\"\\nTipos de df2:\\n\", df2.dtypes)"
   ]
  },
  {
   "cell_type": "markdown",
   "metadata": {
    "colab_type": "text",
    "id": "Z4o-_aID2Eon"
   },
   "source": [
    "### Lectura/Escritura\n",
    "\n",
    "Pandas viene equipado con sus propios métodos para leer y escribir archivos en múltiples formatos. \n",
    "\n",
    "(Experimenten con pd.read_ y miren lo que aparece)"
   ]
  },
  {
   "cell_type": "code",
   "execution_count": null,
   "metadata": {
    "colab": {},
    "colab_type": "code",
    "id": "kAELzX4m3QFR"
   },
   "outputs": [],
   "source": [
    "df2.to_csv(\"foo.csv\")"
   ]
  },
  {
   "cell_type": "code",
   "execution_count": null,
   "metadata": {
    "colab": {
     "base_uri": "https://localhost:8080/",
     "height": 419
    },
    "colab_type": "code",
    "executionInfo": {
     "elapsed": 979,
     "status": "ok",
     "timestamp": 1583699756733,
     "user": {
      "displayName": "Ignacio Fabre",
      "photoUrl": "https://lh3.googleusercontent.com/a-/AOh14Gg7zSD7Nr148uG3EE-pBT8Q465capkzPkaSGwsEoM4=s64",
      "userId": "03651723443658892757"
     },
     "user_tz": 180
    },
    "id": "znQsPhIB2CdK",
    "outputId": "53c0bd7c-e28e-4447-a3cc-dc35b2ee4632"
   },
   "outputs": [],
   "source": [
    "df = pd.read_csv('sample_data/california_housing_test.csv')\n",
    "df"
   ]
  },
  {
   "cell_type": "markdown",
   "metadata": {
    "colab_type": "text",
    "id": "R7mU1ogtxZph"
   },
   "source": [
    "### Visualización"
   ]
  },
  {
   "cell_type": "markdown",
   "metadata": {
    "colab_type": "text",
    "id": "_xvC_FcZxdx2"
   },
   "source": [
    "Podemos visualizar el comienzo y el final de un DataFrame con los comandos `.head()` y `.tail()`"
   ]
  },
  {
   "cell_type": "code",
   "execution_count": null,
   "metadata": {
    "colab": {
     "base_uri": "https://localhost:8080/",
     "height": 204
    },
    "colab_type": "code",
    "executionInfo": {
     "elapsed": 1117,
     "status": "ok",
     "timestamp": 1583698315907,
     "user": {
      "displayName": "Ignacio Fabre",
      "photoUrl": "https://lh3.googleusercontent.com/a-/AOh14Gg7zSD7Nr148uG3EE-pBT8Q465capkzPkaSGwsEoM4=s64",
      "userId": "03651723443658892757"
     },
     "user_tz": 180
    },
    "id": "mW1PbyZDwKcc",
    "outputId": "6fdd34c3-42bb-474c-f4b8-eee36a24244e"
   },
   "outputs": [],
   "source": [
    "df.head()"
   ]
  },
  {
   "cell_type": "code",
   "execution_count": null,
   "metadata": {
    "colab": {
     "base_uri": "https://localhost:8080/",
     "height": 142
    },
    "colab_type": "code",
    "executionInfo": {
     "elapsed": 814,
     "status": "ok",
     "timestamp": 1583698320107,
     "user": {
      "displayName": "Ignacio Fabre",
      "photoUrl": "https://lh3.googleusercontent.com/a-/AOh14Gg7zSD7Nr148uG3EE-pBT8Q465capkzPkaSGwsEoM4=s64",
      "userId": "03651723443658892757"
     },
     "user_tz": 180
    },
    "id": "SvowIj3nxoUj",
    "outputId": "9f93940b-2047-46c2-a389-647dd62574b0"
   },
   "outputs": [],
   "source": [
    "df.tail(3)"
   ]
  },
  {
   "cell_type": "markdown",
   "metadata": {
    "colab_type": "text",
    "id": "KIh1O1KYxtNc"
   },
   "source": [
    "Podemos también visualizar la lista de índices, los nombres de las columnas, y acceder a las columnas como si estuvieramos accediendo a una variable interna del DataFrame. También podemos convertir el DataFrame a un array bidimensional de Numpy (así como inicializar un DataFrame a partir de un NumpyArray)."
   ]
  },
  {
   "cell_type": "code",
   "execution_count": null,
   "metadata": {
    "colab": {
     "base_uri": "https://localhost:8080/",
     "height": 85
    },
    "colab_type": "code",
    "executionInfo": {
     "elapsed": 871,
     "status": "ok",
     "timestamp": 1583698571027,
     "user": {
      "displayName": "Ignacio Fabre",
      "photoUrl": "https://lh3.googleusercontent.com/a-/AOh14Gg7zSD7Nr148uG3EE-pBT8Q465capkzPkaSGwsEoM4=s64",
      "userId": "03651723443658892757"
     },
     "user_tz": 180
    },
    "id": "iTbuXY60xpbz",
    "outputId": "3fd31572-3c22-42c0-d330-98a940342f54"
   },
   "outputs": [],
   "source": [
    "print(df.index)\n",
    "print(df.columns)"
   ]
  },
  {
   "cell_type": "code",
   "execution_count": null,
   "metadata": {
    "colab": {
     "base_uri": "https://localhost:8080/",
     "height": 153
    },
    "colab_type": "code",
    "executionInfo": {
     "elapsed": 1127,
     "status": "ok",
     "timestamp": 1583698607144,
     "user": {
      "displayName": "Ignacio Fabre",
      "photoUrl": "https://lh3.googleusercontent.com/a-/AOh14Gg7zSD7Nr148uG3EE-pBT8Q465capkzPkaSGwsEoM4=s64",
      "userId": "03651723443658892757"
     },
     "user_tz": 180
    },
    "id": "cLKkRT9Cymte",
    "outputId": "be2dcb41-316d-4daa-b95f-7585ad5f4381"
   },
   "outputs": [],
   "source": [
    "print(df.A)\n",
    "print(type(df.A))"
   ]
  },
  {
   "cell_type": "code",
   "execution_count": null,
   "metadata": {
    "colab": {
     "base_uri": "https://localhost:8080/",
     "height": 119
    },
    "colab_type": "code",
    "executionInfo": {
     "elapsed": 1227,
     "status": "ok",
     "timestamp": 1583698680860,
     "user": {
      "displayName": "Ignacio Fabre",
      "photoUrl": "https://lh3.googleusercontent.com/a-/AOh14Gg7zSD7Nr148uG3EE-pBT8Q465capkzPkaSGwsEoM4=s64",
      "userId": "03651723443658892757"
     },
     "user_tz": 180
    },
    "id": "iD_P6TKVyqOE",
    "outputId": "424df329-494d-4a18-e707-7687e5607c43"
   },
   "outputs": [],
   "source": [
    "df.to_numpy()"
   ]
  },
  {
   "cell_type": "code",
   "execution_count": null,
   "metadata": {
    "colab": {
     "base_uri": "https://localhost:8080/",
     "height": 102
    },
    "colab_type": "code",
    "executionInfo": {
     "elapsed": 1046,
     "status": "ok",
     "timestamp": 1583698744357,
     "user": {
      "displayName": "Ignacio Fabre",
      "photoUrl": "https://lh3.googleusercontent.com/a-/AOh14Gg7zSD7Nr148uG3EE-pBT8Q465capkzPkaSGwsEoM4=s64",
      "userId": "03651723443658892757"
     },
     "user_tz": 180
    },
    "id": "XT89EHmOzBZs",
    "outputId": "4841abaf-fa3d-49bc-dbcf-b8c9a7c86a33"
   },
   "outputs": [],
   "source": [
    "#Si las columnas tienen distintos typos, la conversión a numpy lleva mas tiempo ya que se convierte a un NumpyArray tipo Object\n",
    "df2.to_numpy()"
   ]
  },
  {
   "cell_type": "markdown",
   "metadata": {
    "colab_type": "text",
    "id": "XcpvkLukzYAK"
   },
   "source": [
    "Podemos ver también un pequeño resumen de estadísticas del DataFrame facilmente:"
   ]
  },
  {
   "cell_type": "code",
   "execution_count": null,
   "metadata": {
    "colab": {
     "base_uri": "https://localhost:8080/",
     "height": 297
    },
    "colab_type": "code",
    "executionInfo": {
     "elapsed": 1049,
     "status": "ok",
     "timestamp": 1583698801077,
     "user": {
      "displayName": "Ignacio Fabre",
      "photoUrl": "https://lh3.googleusercontent.com/a-/AOh14Gg7zSD7Nr148uG3EE-pBT8Q465capkzPkaSGwsEoM4=s64",
      "userId": "03651723443658892757"
     },
     "user_tz": 180
    },
    "id": "yAJzOQv5zQ6b",
    "outputId": "e8900fea-57e8-47a5-ad95-683e4a31a48a"
   },
   "outputs": [],
   "source": [
    "df.describe()"
   ]
  },
  {
   "cell_type": "markdown",
   "metadata": {
    "colab_type": "text",
    "id": "iDh5cDz2zp4E"
   },
   "source": [
    "Y transponer, ordenar ya sea por ejes (indices o columnas) o por valor de alguna columna:"
   ]
  },
  {
   "cell_type": "code",
   "execution_count": null,
   "metadata": {
    "colab": {
     "base_uri": "https://localhost:8080/",
     "height": 173
    },
    "colab_type": "code",
    "executionInfo": {
     "elapsed": 1143,
     "status": "ok",
     "timestamp": 1583698898870,
     "user": {
      "displayName": "Ignacio Fabre",
      "photoUrl": "https://lh3.googleusercontent.com/a-/AOh14Gg7zSD7Nr148uG3EE-pBT8Q465capkzPkaSGwsEoM4=s64",
      "userId": "03651723443658892757"
     },
     "user_tz": 180
    },
    "id": "kjJh93ndzev0",
    "outputId": "6d1fe74c-5a0e-4ca3-9f2d-3e60b2b5f4a1"
   },
   "outputs": [],
   "source": [
    "df.T #Transpose"
   ]
  },
  {
   "cell_type": "code",
   "execution_count": null,
   "metadata": {
    "colab": {
     "base_uri": "https://localhost:8080/",
     "height": 235
    },
    "colab_type": "code",
    "executionInfo": {
     "elapsed": 932,
     "status": "ok",
     "timestamp": 1583698926578,
     "user": {
      "displayName": "Ignacio Fabre",
      "photoUrl": "https://lh3.googleusercontent.com/a-/AOh14Gg7zSD7Nr148uG3EE-pBT8Q465capkzPkaSGwsEoM4=s64",
      "userId": "03651723443658892757"
     },
     "user_tz": 180
    },
    "id": "Bq1wdaW1z2rE",
    "outputId": "bd55d17b-43a3-4d70-e952-a16060aeac62"
   },
   "outputs": [],
   "source": [
    "df.sort_index(axis=1, ascending=False) #ordenar por nombre de columna descendente"
   ]
  },
  {
   "cell_type": "code",
   "execution_count": null,
   "metadata": {
    "colab": {
     "base_uri": "https://localhost:8080/",
     "height": 235
    },
    "colab_type": "code",
    "executionInfo": {
     "elapsed": 867,
     "status": "ok",
     "timestamp": 1583698941466,
     "user": {
      "displayName": "Ignacio Fabre",
      "photoUrl": "https://lh3.googleusercontent.com/a-/AOh14Gg7zSD7Nr148uG3EE-pBT8Q465capkzPkaSGwsEoM4=s64",
      "userId": "03651723443658892757"
     },
     "user_tz": 180
    },
    "id": "1NGGDysyz4wK",
    "outputId": "1edc79a7-88af-41ba-dc1f-6ac7e3e5d28a"
   },
   "outputs": [],
   "source": [
    "df.sort_values(by='B') #ordenar ascendente por los valores de la columna B"
   ]
  },
  {
   "cell_type": "markdown",
   "metadata": {
    "colab_type": "text",
    "id": "WV5yatW90Y5q"
   },
   "source": [
    "Y muchas más cosas que pueden chusmear en la [excelente documentación de Pandas](https://pandas.pydata.org/docs/getting_started/10min.html)."
   ]
  },
  {
   "cell_type": "code",
   "execution_count": null,
   "metadata": {
    "colab": {},
    "colab_type": "code",
    "id": "-lcQTmV40BJJ"
   },
   "outputs": [],
   "source": []
  }
 ],
 "metadata": {
  "colab": {
   "collapsed_sections": [],
   "name": "01p_IntroPython.ipynb",
   "provenance": []
  },
  "kernelspec": {
   "display_name": "Python 3",
   "language": "python",
   "name": "python3"
  },
  "language_info": {
   "codemirror_mode": {
    "name": "ipython",
    "version": 3
   },
   "file_extension": ".py",
   "mimetype": "text/x-python",
   "name": "python",
   "nbconvert_exporter": "python",
   "pygments_lexer": "ipython3",
   "version": "3.7.6"
  }
 },
 "nbformat": 4,
 "nbformat_minor": 4
}
