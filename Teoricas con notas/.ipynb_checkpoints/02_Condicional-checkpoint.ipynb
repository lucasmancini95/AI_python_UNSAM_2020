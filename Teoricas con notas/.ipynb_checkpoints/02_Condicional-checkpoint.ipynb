{
 "cells": [
  {
   "cell_type": "code",
   "execution_count": null,
   "metadata": {
    "collapsed": true
   },
   "outputs": [],
   "source": [
    "# Por si alguien corre en python2\n",
    "from __future__ import division\n",
    "\n",
    "# Preparamos todo para correr\n",
    "import numpy as np\n",
    "from math import sqrt\n",
    "from matplotlib import pylab as plt"
   ]
  },
  {
   "cell_type": "markdown",
   "metadata": {},
   "source": [
    "# *Probabilidades condicionales y el teorema de Bayes*\n",
    "\n",
    "### Un ejemplo\n",
    "\n",
    "Una enfermedad genética rara afecta al 0.1% de la población de un país. Para diagnosticarla, existe un análisis clínico que detecta la enfermedad en el 99% de los casos en los que el paciente la padece, y tiene un 1% de falsos positivos.\n",
    "\n",
    "Un paciente recibe un resultado positivo del análisis clínico. \n",
    "\n",
    "<ul>\n",
    "    <li>¿Qué probabilidad hay de que la persona padezca la enfermedad?</li>\n",
    "    <li>¿Cuál sería el próximo paso natural?</li>\n",
    "</ul>\n",
    "\n",
    "*****"
   ]
  },
  {
   "cell_type": "markdown",
   "metadata": {},
   "source": [
    "En primer lugar, pasemos a probabilidades los datos que tenemos:\n",
    "\n",
    "<ol>\n",
    "    <li> La probabilidad de tener la enfermedad es 1%; $P(E) = 0.01$</li>\n",
    "    <li> Si un paciente tiene la enfermedad, el análisis da positivo en el 99% de los casos; $P(D | E) = 0.99$</li>\n",
    "    <li> El porcentaje de falsos positivos del diagnóstico es 1%; $P(D | \\bar{E}) = 0.01$</li>\n",
    "    </ol>\n",
    "    \n",
    "Lo que nos preguntamos es cuál es la probabilidad de que el paciente tenga la enfermedad, dado que recibió un resultado positivo. Buscamos entonces $P(E | D)$. <b>¿Cómo se escribe esto en términos de las cantidades que conocemos?</b>"
   ]
  },
  {
   "cell_type": "markdown",
   "metadata": {},
   "source": [
    "\n",
    "\n",
    "\n",
    "\n",
    "\n",
    "\n",
    "\n",
    "\n",
    "\n",
    "\n",
    "\n",
    "\n",
    "\n",
    "\n",
    "\n",
    "\n",
    "\n",
    "\n",
    "\n",
    "\n"
   ]
  },
  {
   "cell_type": "markdown",
   "metadata": {},
   "source": [
    "La respuesta se obtiene a partir del teorema de Bayes:\n",
    "\n",
    "$$\n",
    "P(E | D) = \\frac{P(D | E)\\,P(E)}{P(D)}\n",
    "$$\n",
    "\n",
    "Muy bien, pero nos falta conocer $P(D)$; para eso, usamos la regla de la suma:\n",
    "\n",
    "$$\n",
    "P(D) = P(D | E)\\,P(E) + P(D | \\bar{E}) P(\\bar{E})\n",
    "$$\n",
    "\n",
    "Poniendo todo junto:\n",
    "\n",
    "$$\n",
    "P(E | D) = \\frac{P(D | E)\\,P(E)}{P(D | E)\\,P(E) + P(D | \\bar{E}) P(\\bar{E})}\n",
    "$$\n",
    "\n",
    "Y ahora sí podemos calcular."
   ]
  },
  {
   "cell_type": "code",
   "execution_count": null,
   "metadata": {
    "collapsed": true
   },
   "outputs": [],
   "source": [
    "#Escribo las diferentes probabilidades\n",
    "pE = 0.001\n",
    "pDE = 0.99\n",
    "pDnE = 0.01\n",
    "\n",
    "pED = pDE * pE / (pDE * pE + pDnE * (1 - pE))\n",
    "\n",
    "print('La probabilidad de que el paciente tenga la enfermedad es {:.4f}'.format(pED))"
   ]
  },
  {
   "cell_type": "markdown",
   "metadata": {},
   "source": [
    "El paciente puede sentirse inquieto por el resultado, pero la probabilidad sigue siendo relativamente baja. El paso obvio es repetir el test. Calculemos cuál es la probabilidad de tener la enfermedad si dos tests son positivos.\n",
    "\n",
    "De nuevo, tenemos que escribir el teorema de Bayes\n",
    "\n",
    "$$\n",
    "p(E|DD) = \\frac{P(DD | E) P(E)}{P(DD)}\\;\\;.\n",
    "$$\n",
    "\n",
    "Acá, $P(E)$ sigue siendo lo mismo que arriba, la probabilidad de tener la enfermedad. Además, podemos escribir, usando la regla del producto\n",
    "\n",
    "$$P(DD | E) = P(D |ED)P(D | E) = P(D|E)P(D|E)=p(D|E)^2\\;\\;,$$\n",
    "\n",
    "donde el último paso viene del hecho de que el resultado de un test es independiente del resultado anterior. Además, tenemos que calcular $P(DD)$. Al igual que antes, usamos la ley de la probabilidad total (marginalización).\n",
    "\n",
    "$$\n",
    "P(DD) = P(DD|E)P(E) + P(DD|\\bar{E})P(\\bar{E}) = P(D|E)^2 P(E) + P(D|\\bar{E})^2 P(\\bar{E})\\;\\;,\n",
    "$$\n",
    "donde la última línea vale por la independencia de los tests."
   ]
  },
  {
   "cell_type": "code",
   "execution_count": null,
   "metadata": {
    "collapsed": true
   },
   "outputs": [],
   "source": [
    "pDDE = pDE**2\n",
    "pDD = pDE**2 * pE + pDnE**2 * (1-pE)\n",
    "\n",
    "print('La probabilidad de dos tests positivos, si el paciente está enfermo, es P(DD|E) = {:.4f}'.format(pDDE))\n",
    "print('La probabilidad de dos tests positivos, independientemente del estado del paciente, es P(DD) = {:.4f}'.format(pDD))"
   ]
  },
  {
   "cell_type": "markdown",
   "metadata": {},
   "source": [
    "A primera vista, el resultado para $P(DD|E)$ puede parecer intuitivo, porque es menor que $P(D|E)$, pero recuerden que lo que _realmente_ estamos preguntando es $P(E|DD)$."
   ]
  },
  {
   "cell_type": "code",
   "execution_count": null,
   "metadata": {
    "collapsed": true
   },
   "outputs": [],
   "source": [
    "pEDD = pDDE*pE / pDD\n",
    "\n",
    "print('Ante dos tests positivos, la probabilidad de tener la enfermedad es {:4f}.'.format(pEDD))"
   ]
  },
  {
   "cell_type": "markdown",
   "metadata": {},
   "source": [
    "#### Pregunta\n",
    "<ul>\n",
    "    <li>¿Cómo cambia la probabilidad si el segundo test fuera negativo?</li>\n",
    "</ul>"
   ]
  },
  {
   "cell_type": "markdown",
   "metadata": {},
   "source": [
    "***\n",
    "## Caso: Apruebo si falto a clase?"
   ]
  },
  {
   "cell_type": "markdown",
   "metadata": {},
   "source": [
    "Tomaremos un set de Datos de _Student Alcohol Consumption_ de la UCI alojada por Kaggle. Pueden descargar el dataset de la clase de matemáticas aquí https://www.kaggle.com/uciml/student-alcohol-consumption#student-mat.csv y subirlo en google Colab, desde la pestaña izquierda. En el repo, ya esta alojado en el directorio _datasets_."
   ]
  },
  {
   "cell_type": "markdown",
   "metadata": {},
   "source": [
    "Para los que usan Google Colab, ejecuten esta celda una unica vez para descargar los datos. Si clonaron el repositorio usando git, no hace falta."
   ]
  },
  {
   "cell_type": "code",
   "execution_count": null,
   "metadata": {
    "collapsed": true
   },
   "outputs": [],
   "source": [
    "#Si estas en Google Colab, ejecuta esta celda una unica vez:\n",
    "!mkdir datasets\n",
    "!mkdir datasets/student-alcohol-consumption\n",
    "!wget https://raw.githubusercontent.com/exord/UNSAM_IA/master/datasets/student-alcohol-consumption/student-mat.csv\n",
    "!mv student-mat.csv datasets/student-alcohol-consumption/student-mat.csv"
   ]
  },
  {
   "cell_type": "markdown",
   "metadata": {},
   "source": [
    "Ahora vamos a importar las librerias que usaremos:"
   ]
  },
  {
   "cell_type": "code",
   "execution_count": null,
   "metadata": {
    "collapsed": true
   },
   "outputs": [],
   "source": [
    "import numpy as np\n",
    "import pandas as pd\n",
    "import matplotlib.pyplot as plt\n",
    "%matplotlib inline"
   ]
  },
  {
   "cell_type": "markdown",
   "metadata": {},
   "source": [
    "Primero que nada, carguemos el dataset usando pandas:"
   ]
  },
  {
   "cell_type": "code",
   "execution_count": null,
   "metadata": {
    "scrolled": true
   },
   "outputs": [],
   "source": [
    "df = pd.read_csv('datasets/student-alcohol-consumption/student-mat.csv')\n",
    "print(\"Cantidad de registros: {}\".format(len(df)))\n",
    "df.head()"
   ]
  },
  {
   "cell_type": "markdown",
   "metadata": {},
   "source": [
    "Los datos son de una encuesta realizada a 395 alumnos de una clase de matemáticas, y tenemos muchos campos. Nos concentraremos en la siguiente pregunta: **¿Cual es la probabilidad de aprobar con una nota de 80% o más si falté 10 o más clases?**\n",
    "\n",
    "Para hacerlo, crearemos unas columnas con 0 o 1 dependiendo de si cumplen las condiciones o no, así facilitaremos la tarea de contabilizar. La nota final esta en la columna _G3_, en una escala de 0 a 20. Las ausencias se contabilizan en _absences_."
   ]
  },
  {
   "cell_type": "code",
   "execution_count": null,
   "metadata": {
    "collapsed": true
   },
   "outputs": [],
   "source": [
    "df['aprueba'] = np.where(df['G3']*5 >= 80, 1, 0)\n",
    "df['falto_mucho'] = np.where(df['absences'] >= 10, 1, 0)"
   ]
  },
  {
   "cell_type": "markdown",
   "metadata": {},
   "source": [
    "Para contar las columnas, nos será útil crear una columna de _1_ constante, así contar es simplemente sumar dicho campo."
   ]
  },
  {
   "cell_type": "code",
   "execution_count": null,
   "metadata": {
    "collapsed": true
   },
   "outputs": [],
   "source": [
    "df['cuenta'] = 1"
   ]
  },
  {
   "cell_type": "markdown",
   "metadata": {},
   "source": [
    "Ahora nos deshacemos de todas las otras columnas:"
   ]
  },
  {
   "cell_type": "code",
   "execution_count": null,
   "metadata": {
    "collapsed": true
   },
   "outputs": [],
   "source": [
    "df = df[['aprueba','falto_mucho','cuenta']]\n",
    "df.head()"
   ]
  },
  {
   "cell_type": "markdown",
   "metadata": {},
   "source": [
    "Lo que sigue es transformar nuestra tabla. Queremos una tabla 2x2, la cuyos ejes sean el valor de \"aprueba\" y \"falto mucho\", y cuyos contenidos sea la cantidad de alumnos en cada categoría. Eso lo podemos conseguir utilizando el método `pd.pivot_table` usando la suma como función de agregación de la columna _cuenta_:"
   ]
  },
  {
   "cell_type": "markdown",
   "metadata": {},
   "source": [
    "La funcion `pivot_table` toma un `DataFrame` y crea a partir de el otro que tenga como índices los valores de la columna indicada en `index=`, como columnas los valores de las columnas indicadas en `columns=`, y como valores a los de las columnas indicadas en `values=`. Si hay muchas coincidencias de valores para una misma celda, forma un vector. Para obtener un número en cada celda, seleccionamos una función de agregación con `aggfunc=` que se aplicará sobre los vectores. En caso de que hayan celdas vacías, se rellenarán usando el valor especificado en `fill_value=`.\n",
    "\n",
    "En nuestro caso, como usamos de valores la columna _cuenta_ que tiene solo números 1, la función de agregación para contar casos puede ser bien la de la suma `np.sum`. (Prueben también con `len`, la longitud del vector, que debería funcionar de igual modo)."
   ]
  },
  {
   "cell_type": "code",
   "execution_count": null,
   "metadata": {
    "collapsed": true
   },
   "outputs": [],
   "source": [
    "pd.pivot_table(\n",
    "    df,\n",
    "    values = 'cuenta',\n",
    "    index = ['aprueba'],\n",
    "    columns = ['falto_mucho'],\n",
    "    aggfunc = np.sum,\n",
    "    fill_value = 0)"
   ]
  },
  {
   "cell_type": "markdown",
   "metadata": {},
   "source": [
    "Podemos ver entonces que, la cantidad de alumnos que falto poco y desaprobó es 277, que faltó mucho y desaprobó es 78, que faltó poco y aprobó es 35 y que faltó mucho y aprobó es 5, siendo la cantidad total de alumnos 395. Definimos las probabilidades entonces:\n",
    "\n",
    "$$ P(\\text{aprueba}) = \\frac{35 + 5}{395} \\approx  0.10126582278481013$$ \n",
    "$$ P(\\text{falto_mucho}) = \\frac{78 + 5}{395} \\approx 0.21012658227848102$$\n",
    "$$ P(\\text{aprueba} \\cap \\text{falto_mucho}) = \\frac{5}{395} \\approx  0.012658227848101266$$\n",
    "\n",
    "La probabilidad condicional de que hayan aprobado, dado que faltaron mucho, es por definición:\n",
    "$$  P(\\text{aprueba }\\, |\\, \\text{ falto_mucho}) = \\frac{P(\\text{aprueba} \\cap \\text{falto_mucho})}{P(\\text{falto_mucho})} $$\n",
    "\n",
    "Es decir:"
   ]
  },
  {
   "cell_type": "code",
   "execution_count": null,
   "metadata": {
    "collapsed": true,
    "scrolled": true
   },
   "outputs": [],
   "source": [
    "print(\"Probabilidad de sacar un 80% o mas dado que falte 10 o mas clases: {:.2f}%\".format(5/(78+5)*100))"
   ]
  }
 ],
 "metadata": {
  "kernelspec": {
   "display_name": "Python 3",
   "language": "python",
   "name": "python3"
  },
  "language_info": {
   "codemirror_mode": {
    "name": "ipython",
    "version": 3
   },
   "file_extension": ".py",
   "mimetype": "text/x-python",
   "name": "python",
   "nbconvert_exporter": "python",
   "pygments_lexer": "ipython3",
   "version": "3.6.8"
  }
 },
 "nbformat": 4,
 "nbformat_minor": 2
}
