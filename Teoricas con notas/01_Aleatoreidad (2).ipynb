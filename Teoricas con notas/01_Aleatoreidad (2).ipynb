{
 "cells": [
  {
   "cell_type": "code",
   "execution_count": null,
   "metadata": {
    "colab": {},
    "colab_type": "code",
    "id": "EoTZCvG1JJcC"
   },
   "outputs": [],
   "source": [
    "# Por si alguien corre en python2\n",
    "from __future__ import division\n",
    "\n",
    "# Preparamos todo para correr\n",
    "import numpy as np\n",
    "from math import sqrt\n",
    "from matplotlib import pylab as plt\n",
    "\n",
    "# Importamos un módulo nuestro\n",
    "\n",
    "#!mkdir library\n",
    "#!wget https://raw.githubusercontent.com/exord/UNSAM_IA/master/library/utils.py .\n",
    "from library import utils"
   ]
  },
  {
   "cell_type": "markdown",
   "metadata": {
    "colab_type": "text",
    "id": "vNbwjPPIJJcK"
   },
   "source": [
    "# *Aleatoreidad y probabilidad*\n",
    "La aleatoredidad es un concepto central de la teoría de probabilidad. En general, la aleatoredidad viene asociada con la incetidumbre, que puede surgir por los errores de los datos o por los tamaños finitos de las muestras.\n",
    "\n",
    "En la computadora, la aleatoreidad se simula usando como base un [generador de números pseudo aleatorios](https://en.wikipedia.org/wiki/Pseudorandom_number_generator) (GNPA). Un GNPA genera una serie de números cuyas propiedades son similares a las de una serie de números aleatorios.\n",
    "\n",
    "En <tt>python</tt> muchas de las funciones relacionadas están implementadas en el módulo <tt>random</tt>, pero una implementación más práctica aparece en el paquete <tt>numpy</tt>"
   ]
  },
  {
   "cell_type": "code",
   "execution_count": null,
   "metadata": {
    "colab": {},
    "colab_type": "code",
    "id": "h9sQjACqJJcN"
   },
   "outputs": [],
   "source": [
    "# Importamos el paquete random de numpy\n",
    "from numpy import random"
   ]
  },
  {
   "cell_type": "code",
   "execution_count": 16,
   "metadata": {
    "colab": {
     "base_uri": "https://localhost:8080/",
     "height": 34
    },
    "colab_type": "code",
    "executionInfo": {
     "elapsed": 805,
     "status": "ok",
     "timestamp": 1583877229198,
     "user": {
      "displayName": "Lucas Mancini",
      "photoUrl": "",
      "userId": "08066509939465668457"
     },
     "user_tz": 180
    },
    "id": "aXXcoxfGJJcT",
    "outputId": "9293754c-d8ef-4f1d-cf85-6ac1fef758d0"
   },
   "outputs": [
    {
     "name": "stdout",
     "output_type": "stream",
     "text": [
      "0.37707718383128064\n"
     ]
    }
   ],
   "source": [
    "# Generamos un número al azar en el intervalo [0.0, 1.0)\n",
    "x = random.rand()\n",
    "print(x)"
   ]
  },
  {
   "cell_type": "markdown",
   "metadata": {
    "colab_type": "text",
    "id": "KBWsu102JJcX"
   },
   "source": [
    "Fíjense que si corren la celda de arriba muchas veces, el resultado obtenido es diferente, pero siempre un número entre 0 y 1. Pero en realidad, los GNPA utilizan algoritmos, cuyas propiedades estás perfectamente definidas por el valor inicial (la semilla, o <em>seed</em>). Por lo tanto, no son realmente aleatorios. En los viejos tiempos, en <tt>python</tt>, el <em>seed</em> podía definirse simplemente con la función homónima."
   ]
  },
  {
   "cell_type": "code",
   "execution_count": 18,
   "metadata": {
    "colab": {
     "base_uri": "https://localhost:8080/",
     "height": 52
    },
    "colab_type": "code",
    "executionInfo": {
     "elapsed": 838,
     "status": "ok",
     "timestamp": 1583877253263,
     "user": {
      "displayName": "Lucas Mancini",
      "photoUrl": "",
      "userId": "08066509939465668457"
     },
     "user_tz": 180
    },
    "id": "5UMa8VEPJJcZ",
    "outputId": "cd23f95b-94c6-4841-d5bc-1863bb509a3a"
   },
   "outputs": [
    {
     "name": "stdout",
     "output_type": "stream",
     "text": [
      "0.1915194503788923\n",
      "0.1915194503788923\n"
     ]
    }
   ],
   "source": [
    "random.seed(1234)\n",
    "print(random.rand())\n",
    "random.seed(1234)\n",
    "print(random.rand())"
   ]
  },
  {
   "cell_type": "markdown",
   "metadata": {
    "colab_type": "text",
    "id": "cwJGDbl-JJce"
   },
   "source": [
    "Una característica práctica de la implementación en <tt>numpy</tt> es que se puede generar <tt>arrays</tt> de números aleatorios, pasándole el tamaño en cada dimensión. El jueves vamos a ver más detalle de las características de los <tt>arrays</tt> de <tt>numpy</tt>."
   ]
  },
  {
   "cell_type": "code",
   "execution_count": 19,
   "metadata": {
    "colab": {
     "base_uri": "https://localhost:8080/",
     "height": 122
    },
    "colab_type": "code",
    "executionInfo": {
     "elapsed": 841,
     "status": "ok",
     "timestamp": 1583877787493,
     "user": {
      "displayName": "Lucas Mancini",
      "photoUrl": "",
      "userId": "08066509939465668457"
     },
     "user_tz": 180
    },
    "id": "FGOSmjThJJcg",
    "outputId": "fc15da93-e4b9-4cbf-af00-6231e633cc36"
   },
   "outputs": [
    {
     "name": "stdout",
     "output_type": "stream",
     "text": [
      "Un array de 5x1\n",
      "[0.19151945 0.62210877 0.43772774 0.78535858 0.77997581]\n",
      "Un array de 3x2\n",
      "[[0.27259261 0.27646426]\n",
      " [0.80187218 0.95813935]\n",
      " [0.87593263 0.35781727]]\n"
     ]
    }
   ],
   "source": [
    "random.seed(1234)\n",
    "print('Un array de 5x1')\n",
    "print(random.rand(5,))\n",
    "print('Un array de 3x2')\n",
    "print(random.rand(3,2))"
   ]
  },
  {
   "cell_type": "markdown",
   "metadata": {
    "colab_type": "text",
    "id": "fvCpIm3BJJcl"
   },
   "source": [
    "Y por supuesto, si vuelvo a la misma semilla, los resultado son idénticos."
   ]
  },
  {
   "cell_type": "code",
   "execution_count": 20,
   "metadata": {
    "colab": {
     "base_uri": "https://localhost:8080/",
     "height": 122
    },
    "colab_type": "code",
    "executionInfo": {
     "elapsed": 1013,
     "status": "ok",
     "timestamp": 1583877802444,
     "user": {
      "displayName": "Lucas Mancini",
      "photoUrl": "",
      "userId": "08066509939465668457"
     },
     "user_tz": 180
    },
    "id": "vz_tboUKJJcm",
    "outputId": "ffe94cb3-e5d7-4daa-c940-29910bc2cda7"
   },
   "outputs": [
    {
     "name": "stdout",
     "output_type": "stream",
     "text": [
      "Un array de 5x1\n",
      "[0.19151945 0.62210877 0.43772774 0.78535858 0.77997581]\n",
      "Un array de 3x2\n",
      "[[0.27259261 0.27646426]\n",
      " [0.80187218 0.95813935]\n",
      " [0.87593263 0.35781727]]\n"
     ]
    }
   ],
   "source": [
    "random.seed(1234)\n",
    "print('Un array de 5x1')\n",
    "print(random.rand(5,))\n",
    "print('Un array de 3x2')\n",
    "print(random.rand(3,2))"
   ]
  },
  {
   "cell_type": "markdown",
   "metadata": {
    "colab_type": "text",
    "id": "T-veR0h7JJcq"
   },
   "source": [
    "Como se puede ver arriba, para una semilla dada, la serie de números generada es idéntica. En la actualidad, fijar el <em>seed</em> de la manera que aparece arriba se considera mala práctica, y la sugerencia es hace lo siguiente:"
   ]
  },
  {
   "cell_type": "code",
   "execution_count": 22,
   "metadata": {
    "colab": {
     "base_uri": "https://localhost:8080/",
     "height": 52
    },
    "colab_type": "code",
    "executionInfo": {
     "elapsed": 1126,
     "status": "ok",
     "timestamp": 1583877853621,
     "user": {
      "displayName": "Lucas Mancini",
      "photoUrl": "",
      "userId": "08066509939465668457"
     },
     "user_tz": 180
    },
    "id": "pqNpbgxPJJcr",
    "outputId": "b007b0f4-c357-4551-a0f9-c60887a668cd"
   },
   "outputs": [
    {
     "name": "stdout",
     "output_type": "stream",
     "text": [
      "[0.12038356 0.40370142 0.87770263 0.9565788  0.42646002]\n",
      "[0.12038356 0.40370142 0.87770263 0.9565788  0.42646002]\n"
     ]
    }
   ],
   "source": [
    "from numpy.random import RandomState, SeedSequence\n",
    "rs = RandomState(random.MT19937(SeedSequence(1234)))\n",
    "print(rs.rand(5,))\n",
    "# Later, you want to restart the stream\n",
    "rs = RandomState(random.MT19937(SeedSequence(1234)))\n",
    "print(rs.rand(5,))"
   ]
  },
  {
   "cell_type": "markdown",
   "metadata": {
    "colab_type": "text",
    "id": "ng1mr3zRJJcz"
   },
   "source": [
    "Ahora vamos a intentar visualizar una muestra de una distribución uniforme. Generamos una muestra de 100 elementos de vectores en dos dimenciones, en la región -1 < x < 1; -1 < y < 1"
   ]
  },
  {
   "cell_type": "code",
   "execution_count": 30,
   "metadata": {
    "colab": {
     "base_uri": "https://localhost:8080/",
     "height": 70
    },
    "colab_type": "code",
    "executionInfo": {
     "elapsed": 809,
     "status": "ok",
     "timestamp": 1583878439793,
     "user": {
      "displayName": "Lucas Mancini",
      "photoUrl": "",
      "userId": "08066509939465668457"
     },
     "user_tz": 180
    },
    "id": "IuhcS6tzJJc0",
    "outputId": "e154a5f3-7a50-4e7b-c9f6-91f159d64088"
   },
   "outputs": [
    {
     "name": "stdout",
     "output_type": "stream",
     "text": [
      "shape: (100, 2)\n",
      "minimum: -0.9909070671975335\n",
      "maximun: 0.9919056819763161\n"
     ]
    }
   ],
   "source": [
    "# Genaramos la muestra\n",
    "sample = random.rand(100, 2)  #genero una matriz de 100x2 de numeros aleatorios entre 0 y 1\n",
    "\n",
    "# Como queremos que la muestra esté entre -1 y 1 en ambas dimensiones, tenemos que multiplicar por 2 y restar 1.\n",
    "sample = sample * 2 - 1 \n",
    "\n",
    "# Imprimimos la forma de la muestra, el minimo y el maximo\n",
    "print(\"shape:\",sample.shape)\n",
    "print(\"minimum:\",sample.min())\n",
    "print(\"maximun:\",sample.max())\n",
    "\n"
   ]
  },
  {
   "cell_type": "code",
   "execution_count": 31,
   "metadata": {
    "colab": {
     "base_uri": "https://localhost:8080/",
     "height": 310
    },
    "colab_type": "code",
    "executionInfo": {
     "elapsed": 845,
     "status": "ok",
     "timestamp": 1583878443671,
     "user": {
      "displayName": "Lucas Mancini",
      "photoUrl": "",
      "userId": "08066509939465668457"
     },
     "user_tz": 180
    },
    "id": "agvgn4nxgulC",
    "outputId": "2ae1871e-603f-4a4e-8d65-167e212988ae"
   },
   "outputs": [
    {
     "data": {
      "text/plain": [
       "Text(0, 0.5, '$\\\\theta_1$')"
      ]
     },
     "execution_count": 31,
     "metadata": {
      "tags": []
     },
     "output_type": "execute_result"
    },
    {
     "data": {
      "image/png": "[encoded data removed]",
      "text/plain": [
       "<Figure size 432x288 with 1 Axes>"
      ]
     },
     "metadata": {
      "tags": []
     },
     "output_type": "display_data"
    }
   ],
   "source": [
    "#representamos en un plano.\n",
    "l0, = plt.plot(sample[:, 0], sample[:, 1], '.') \n",
    "    #plot de:\n",
    "      # X=los elementos de la columna 0 (la primera)\n",
    "      # Y=los elementos de la columna 1 \n",
    "      # el \".\"\" es la forma en qu evoya imprimir\n",
    "\n",
    "# Para que sea más bonito, ponemos los ejes del mismo tamaño y le agregamos lineas verticales y horizontales\n",
    "ax = plt.gca()\n",
    "ax.set_aspect('equal')\n",
    "ax.axvline(0, color='0.5', zorder=-1)\n",
    "ax.axhline(0, color='0.5', zorder=-1)\n",
    "ax.set_xlim(-1, 1)\n",
    "ax.set_ylim(-1, 1)\n",
    "ax.set_xlabel(u'$\\\\theta_0$', fontsize=16)\n",
    "ax.set_ylabel(u'$\\\\theta_1$', fontsize=16)\n",
    "#ax.axis('off')"
   ]
  },
  {
   "cell_type": "markdown",
   "metadata": {
    "colab_type": "text",
    "id": "73Bv_ieDJJc7"
   },
   "source": [
    "Vamos a contar ahora cuantos de los elementos de la muestra caen en el cuadrante superior derecho, y veamos a qué fracción del total corresponde. Pero antes, <b>¿qué valor esperamos? ¿por qué?</b>"
   ]
  },
  {
   "cell_type": "code",
   "execution_count": 35,
   "metadata": {
    "colab": {
     "base_uri": "https://localhost:8080/",
     "height": 175
    },
    "colab_type": "code",
    "executionInfo": {
     "elapsed": 1630,
     "status": "ok",
     "timestamp": 1583879206656,
     "user": {
      "displayName": "Lucas Mancini",
      "photoUrl": "",
      "userId": "08066509939465668457"
     },
     "user_tz": 180
    },
    "id": "wI6UXGBsJJc7",
    "outputId": "1f37f2ab-3192-49f2-9917-71bd246b231a"
   },
   "outputs": [
    {
     "name": "stdout",
     "output_type": "stream",
     "text": [
      "[False False  True False False False False  True  True  True False  True\n",
      " False  True False False False False False False False False  True False\n",
      " False False  True False False False False  True False  True False False\n",
      " False False False False False False False  True False  True False False\n",
      " False False False False False False False False False  True  True False\n",
      " False False False False False  True False False False False False False\n",
      " False False False  True  True False  True  True  True False False False\n",
      " False  True False False False False False False False False  True False\n",
      " False  True False False]\n"
     ]
    }
   ],
   "source": [
    "# Escribimos la condición de pertenencia al cuadrante de interés\n",
    "cond = (sample[:, 0] > 0) * (sample[:, 1] > 0) \n",
    "#defino una condicion que es:\n",
    "    #los elementos de la primera columna mayor a 0 y multiplico (un AND/ Y logico) por los elemntos de la segunda columna mayor a 0 \n",
    "    # los que cumplen esta condicion son los elementos del primer cuadrante\n",
    "# Veamos la pinta que tiene cond\n",
    "print(cond)"
   ]
  },
  {
   "cell_type": "code",
   "execution_count": 33,
   "metadata": {
    "colab": {
     "base_uri": "https://localhost:8080/",
     "height": 52
    },
    "colab_type": "code",
    "executionInfo": {
     "elapsed": 1030,
     "status": "ok",
     "timestamp": 1583878690138,
     "user": {
      "displayName": "Lucas Mancini",
      "photoUrl": "",
      "userId": "08066509939465668457"
     },
     "user_tz": 180
    },
    "id": "EecPe2KTJJdB",
    "outputId": "a6c37e3f-5a96-4278-a9b9-61a8a62e668d"
   },
   "outputs": [
    {
     "name": "stdout",
     "output_type": "stream",
     "text": [
      "Hay 23 elementos en el cuadrante superior derecho.\n",
      "La fracción de elementos en el cuadrante superior derecho es 0.23.\n"
     ]
    }
   ],
   "source": [
    "# Sumar los elementos de cond nos dice en cuantos casos la condición se satisface\n",
    "n_ad = np.sum(cond)\n",
    "print('Hay {} elementos en el cuadrante superior derecho.'.format(n_ad))\n",
    "\n",
    "# Calculo la fracción a la que correponde\n",
    "f_ad = n_ad / len(sample)\n",
    "print('La fracción de elementos en el cuadrante superior derecho es {}.'.format(f_ad))"
   ]
  },
  {
   "cell_type": "markdown",
   "metadata": {
    "colab_type": "text",
    "id": "3Pt8J4vnJJdE"
   },
   "source": [
    "Como es de esperar, la fracción se aproxima a 1/4. Pero, <b>¿cuán cerca de 0.25 tenemos que tiene que estar el número obtenido para que nos quedemos contentos? ¿y cómo cambia esto con el tamaño de la muestra?</b>\n",
    "\n",
    "## Incertezas\n",
    "\n",
    "Para responder a esas preguntas, por un lado tenemos que definir algún concepto de incerteza de f_ur. Ya veremos que la variable f_ur sigue una distribución Poissoneana, cuya desviación estándar (ya lo definiremos bien, pero podemos pensarlo como un error), es $\\sqrt{n_{UR}}/N$, donde $N$ es el tamaño de la muestra. Entonces\n",
    "\n",
    "\n",
    "\n"
   ]
  },
  {
   "cell_type": "code",
   "execution_count": 34,
   "metadata": {
    "colab": {
     "base_uri": "https://localhost:8080/",
     "height": 52
    },
    "colab_type": "code",
    "executionInfo": {
     "elapsed": 812,
     "status": "ok",
     "timestamp": 1583878990087,
     "user": {
      "displayName": "Lucas Mancini",
      "photoUrl": "",
      "userId": "08066509939465668457"
     },
     "user_tz": 180
    },
    "id": "hUEzP884JJdF",
    "outputId": "165f8568-70ca-4875-8c8a-ab69ae5f4ab7"
   },
   "outputs": [
    {
     "name": "stdout",
     "output_type": "stream",
     "text": [
      "El error de f_ur es 0.04795831523312719\n",
      "La fracción es entonces 0.230 \\pm 0.048\n"
     ]
    }
   ],
   "source": [
    "sd_f = sqrt(n_ad)/len(sample)\n",
    "\n",
    "print('El error de f_ur es {}'.format(sd_f))\n",
    "print('La fracción es entonces {:.3f} \\pm {:.3f}'.format(f_ad, sd_f))"
   ]
  },
  {
   "cell_type": "markdown",
   "metadata": {
    "colab_type": "text",
    "id": "cFJ2gbXWJJdI"
   },
   "source": [
    "Vemos, entonces que la fracción es perfectamente compatible con el valor esperado 1/4. \n",
    "\n",
    "***\n",
    "### Preguntas\n",
    "\n",
    "<ul>\n",
    "    <li>Si tuviéramos solo esta medición (es decir, la fracción de elementos de la muestra que cae en el cuadrante superior derecho), pero si no conociéramos la forma en la que la muestra fue generada, ¿podríamos decir que la distribución es uniforme en la región de $\\mathbb{R}ˆ2$ tal que $-1 < x < 1$ y $-1 < y < 1$? </li>\n",
    "    <li> A la inversa, si el número fuera, por ejemplo $0.245 \\pm 0.001$, ¿qué podríamos decir del proceso de generación de la muestra?\n",
    "    </ul>    \n",
    "    \n",
    "***\n",
    "\n",
    "## Tamaño de la muestra\n",
    "\n",
    "Estudiemos ahora cómo cambia nuestra precisión con el tamaño de la muestra. Para eso, escribamos una pequeña función que genere una muestra, y que calcule la fracción de elementos que caen en el cuadrante superior derecho y su incerteza. La función tiene un solo argumento: el tamaño de la muestra.\n",
    "\n",
    "Para escribirla, hay que ir recolectando las líneas relevantes de los celdas de arriba (Consejo: usar <tt>random.rand</tt> para generar la muestra). Borrar el comando <tt>pass</tt> y a codear!"
   ]
  },
  {
   "cell_type": "code",
   "execution_count": null,
   "metadata": {
    "colab": {},
    "colab_type": "code",
    "id": "QjvqcF9ZJJdK"
   },
   "outputs": [],
   "source": [
    "import numpy as np\n",
    "\n",
    "def fraccion_ad(n, seed=None):\n",
    "    \"\"\"\n",
    "    :param int n: Tamaño de la muestra\n",
    "    \n",
    "    :returns: fracción de la muestra en el cuadrante superior derecho e incerteza de esta fracción\n",
    "    :rtype: float, float\n",
    "    \"\"\"\n",
    "    # Fijar la semilla\n",
    "    if seed is not None:\n",
    "        np.random.seed(seed)\n",
    "\n",
    "    # a partir de aca lo hago yo \n",
    "    # Crear la muestra.    \n",
    "\n",
    "    sample = random.rand(n, 2) #creo la muestra entre 0 y 1\n",
    "    sample = sample *2 -1 # la hago entre -1 y 1\n",
    "    cond = (sample[:, 0] > 0) * (sample[:, 1] > 0)  #agarro el primer cuadrante\n",
    "    n_ad = np.sum(cond) #sumo la cantidad de muestras en el primer cuadrante\n",
    "    f_ad = n_ad / len(sample) #\n",
    "    sd_f = sqrt(n_ad)/len(sample)\n",
    "    \n",
    "    return f_ad , sd_f\n",
    "\n"
   ]
  },
  {
   "cell_type": "markdown",
   "metadata": {
    "colab_type": "text",
    "id": "IH6ZNHDxJJdN"
   },
   "source": [
    "Ahora vamos a testear la función usando el paquete utils que está en el repositorio. Después los invitamos a chusmearlo."
   ]
  },
  {
   "cell_type": "code",
   "execution_count": 42,
   "metadata": {
    "colab": {
     "base_uri": "https://localhost:8080/",
     "height": 34
    },
    "colab_type": "code",
    "executionInfo": {
     "elapsed": 673,
     "status": "ok",
     "timestamp": 1583881432384,
     "user": {
      "displayName": "Lucas Mancini",
      "photoUrl": "",
      "userId": "08066509939465668457"
     },
     "user_tz": 180
    },
    "id": "_BPiyCQeJJdO",
    "outputId": "5cfeece9-1ca8-4fa5-ec9a-5f7f2ac161e2"
   },
   "outputs": [
    {
     "name": "stdout",
     "output_type": "stream",
     "text": [
      "☺︎\n"
     ]
    }
   ],
   "source": [
    "utils.test_fraccion(fraccion_ad)"
   ]
  },
  {
   "cell_type": "markdown",
   "metadata": {
    "colab_type": "text",
    "id": "htu1uKMhJJdS"
   },
   "source": [
    "Ahora calculemos la fracción para diferentes tamaños de la muestra, y guardemos todo en unas listas, para plotearlas después. <em>NB: el jueves veremos con más detalle cómo funcionan las listas, arreglos, etc.</em>"
   ]
  },
  {
   "cell_type": "code",
   "execution_count": 46,
   "metadata": {
    "colab": {
     "base_uri": "https://localhost:8080/",
     "height": 193
    },
    "colab_type": "code",
    "executionInfo": {
     "elapsed": 754,
     "status": "ok",
     "timestamp": 1583881700500,
     "user": {
      "displayName": "Lucas Mancini",
      "photoUrl": "",
      "userId": "08066509939465668457"
     },
     "user_tz": 180
    },
    "id": "ph9SwfO-JJdT",
    "outputId": "d773c9d5-4cf2-499b-f108-b8a7aa46068d"
   },
   "outputs": [
    {
     "name": "stdout",
     "output_type": "stream",
     "text": [
      "0.25, 0.125\n",
      "0.21875, 0.08267972847076846\n",
      "0.234375, 0.06051536478449089\n",
      "0.2734375, 0.04621937330546575\n",
      "0.25, 0.03125\n",
      "0.240234375, 0.021661204114080894\n",
      "0.2421875, 0.015378921628929319\n",
      "0.236328125, 0.0107421875\n",
      "0.238037109375, 0.007623288572263669\n",
      "0.2476806640625, 0.005498586733181254\n"
     ]
    }
   ],
   "source": [
    "# Crea dos listas vacías\n",
    "f = [] #para el valor de fraccion\n",
    "sd = [] #y de incerteza\n",
    "\n",
    "# Crea un arreglo con los tamaños de las muestras que vamos a usar. Generamos valores desde 2^4 hasta 2^13.\n",
    "# Vamos a espacirlo en log, para tener más resolución en los tamaños pequeños.\n",
    "sizes = 2**np.arange(4, 14) #2^{todos los numeros entre 4 y 14}\n",
    "\n",
    "# Iteramos en los tamaños (usamos siempre el mismo seed?)\n",
    "for size in sizes:  #recorro todos los valores de sizes\n",
    "    output = fraccion_ad(size) #meto los distintos valores de tamaños creados en la funcion que hice antes\n",
    "    f.append(output[0]) # aca meto las fracciones\n",
    "    sd.append(output[1]) #aca meto la incertezas\n",
    "    \n",
    "# Veamos que obtuvimos\n",
    "for i in range(len(f)): #para cada valor de f\n",
    "    print('{}, {}'.format(f[i], sd[i])) #imprimo su f y su sd"
   ]
  },
  {
   "cell_type": "markdown",
   "metadata": {
    "colab_type": "text",
    "id": "BCU3c7o3JJdW"
   },
   "source": [
    "Y ahora el momento del plot"
   ]
  },
  {
   "cell_type": "code",
   "execution_count": 48,
   "metadata": {
    "colab": {
     "base_uri": "https://localhost:8080/",
     "height": 291
    },
    "colab_type": "code",
    "executionInfo": {
     "elapsed": 979,
     "status": "ok",
     "timestamp": 1583882048018,
     "user": {
      "displayName": "Lucas Mancini",
      "photoUrl": "",
      "userId": "08066509939465668457"
     },
     "user_tz": 180
    },
    "id": "iKVjUznwJJdX",
    "outputId": "2a6abfbb-f53b-4484-e32b-21ebca6e67b1"
   },
   "outputs": [
    {
     "data": {
      "image/png": "[encoded data removed]",
      "text/plain": [
       "<Figure size 432x288 with 1 Axes>"
      ]
     },
     "metadata": {
      "tags": []
     },
     "output_type": "display_data"
    }
   ],
   "source": [
    "plt.errorbar(sizes, f, sd, fmt='.') #ploteo con barras de error\n",
    "\n",
    "# Para que sea más legible, hacemos el eje x logarítmico\n",
    "ax = plt.gca()\n",
    "ax.set_xscale('log')\n",
    "ax.axhline(0.25, color='0.5', zorder=-1)\n",
    "\n",
    "ax.set_xlabel('Tamaño de la muestra', fontsize=16)\n",
    "ax.set_ylabel('Fracción en AD', fontsize=16)\n",
    "ax.tick_params(axis='both', which='major', labelsize=12)"
   ]
  },
  {
   "cell_type": "markdown",
   "metadata": {
    "colab_type": "text",
    "id": "cPfQRzsNuuCh"
   },
   "source": [
    "obs1: a medida que el tamaño de las muestras es mas grande la barra de error es mas pequeña, es decir que la incerteza es cada vez menor."
   ]
  },
  {
   "cell_type": "markdown",
   "metadata": {
    "colab_type": "text",
    "id": "VfNML-3eJJdc"
   },
   "source": [
    "***\n",
    "\n",
    "### Preguntas\n",
    "\n",
    "<ul>\n",
    "    <li> Sí repetimos el experimento, ¿cómo va a cambiar el plot de arriba?</li>\n",
    "    <li> ¿En qué fracción de los casos veremos puntos cuyas barras de error no tocan 0.25?</li>\n",
    "    <li> ¿Cuál es la <em>probabilidad</em> de que un elemento de la muestra caiga en el cuadrante superior derecho?</li>\n",
    "</ul>\n",
    "\n",
    "***"
   ]
  },
  {
   "cell_type": "markdown",
   "metadata": {
    "colab_type": "text",
    "id": "UpA2a6YvvFc4"
   },
   "source": []
  },
  {
   "cell_type": "markdown",
   "metadata": {
    "colab_type": "text",
    "id": "zZvGGjHnJJdd"
   },
   "source": [
    "## Eficiencia\n",
    "\n",
    "Claro que al correr la función muchas veces, cometimos el error de generar muchas muestras. Una forma más práctica sería generar una sola muestra grande, e ir obteniendo sub-muestras en las cuales hacer el cálculo (ver [Ejercicios](Ejercicios_01_Aleatoreidad.ipynb)). Veamos cuánto tiempo nos tarda la generación de este plot con la versión actual. Para eso, podemos usar muchas mediciones diferentes."
   ]
  },
  {
   "cell_type": "code",
   "execution_count": 49,
   "metadata": {
    "colab": {
     "base_uri": "https://localhost:8080/",
     "height": 52
    },
    "colab_type": "code",
    "executionInfo": {
     "elapsed": 1753,
     "status": "ok",
     "timestamp": 1583882276411,
     "user": {
      "displayName": "Lucas Mancini",
      "photoUrl": "",
      "userId": "08066509939465668457"
     },
     "user_tz": 180
    },
    "id": "dZfi1L1EJJde",
    "outputId": "085b48d5-06b2-402f-bea6-7ac7d4b8b8ef"
   },
   "outputs": [
    {
     "name": "stdout",
     "output_type": "stream",
     "text": [
      "Tiempo de ejecución medida con timeit para 1000 corridas: 0.570 segundos\n",
      "Tiempo de ejecución medida con time para 1000 corridas: 0.549 segundos\n"
     ]
    }
   ],
   "source": [
    "def corrida():\n",
    "    f = []\n",
    "    sd = []\n",
    "\n",
    "    # Crea un arreglo con los tamaños de las muestras que vamos a usar. Generamos valores desde 2^4 hasta 2^13.\n",
    "    # Vamos a espacirlo en log, para tener más resolución en los tamaños pequeños.\n",
    "    sizes = 2**np.arange(4, 14)\n",
    "\n",
    "    # Iteramos en los tamaños (usamos siempre el mismo seed?)\n",
    "    for size in sizes:\n",
    "        output = fraccion_ad(size)\n",
    "        f.append(output[0])\n",
    "        sd.append(output[1])\n",
    "        \n",
    "    return\n",
    "\n",
    "nruns = 1000\n",
    "# Podemos usar el módulo timeit\n",
    "import timeit\n",
    "dt = timeit.timeit(corrida, number=nruns)\n",
    "print('Tiempo de ejecución medida con timeit para {} corridas: {:.3f} segundos'.format(nruns, dt))\n",
    "\n",
    "# O contar el tiempo a mano con el módulo time\n",
    "import time\n",
    "ti = time.process_time()\n",
    "for i in range(nruns):\n",
    "    corrida()\n",
    "print('Tiempo de ejecución medida con time para {} corridas: {:.3f} segundos'.format(nruns, (time.process_time() - ti)))"
   ]
  },
  {
   "cell_type": "code",
   "execution_count": null,
   "metadata": {
    "colab": {},
    "colab_type": "code",
    "id": "pkcSx7N5JJdl"
   },
   "outputs": [],
   "source": []
  }
 ],
 "metadata": {
  "colab": {
   "collapsed_sections": [],
   "name": "Copy of 01_Aleatoreidad.ipynb",
   "provenance": [
    {
     "file_id": "https://github.com/exord/UNSAM_IA/blob/master/01_Aleatoreidad.ipynb",
     "timestamp": 1583855497218
    }
   ],
   "toc_visible": true
  },
  "kernelspec": {
   "display_name": "Python 3",
   "language": "python",
   "name": "python3"
  },
  "language_info": {
   "codemirror_mode": {
    "name": "ipython",
    "version": 3
   },
   "file_extension": ".py",
   "mimetype": "text/x-python",
   "name": "python",
   "nbconvert_exporter": "python",
   "pygments_lexer": "ipython3",
   "version": "3.7.6"
  }
 },
 "nbformat": 4,
 "nbformat_minor": 4
}
